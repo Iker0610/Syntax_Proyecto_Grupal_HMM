{
 "cells": [
  {
   "cell_type": "markdown",
   "source": [
    "# 1. Introduction"
   ],
   "metadata": {
    "collapsed": false
   },
   "id": "bc95d00abfaf117"
  },
  {
   "cell_type": "markdown",
   "source": [
    "The aim of this exercise is to implement an HMM PoS tagger. In order to measure its performance, several experiments will be carried on 2 datasets (2 different languages) extracted from Universal Dependency. For our experiments, the languages we have chosen are Basque (BDT Treebank) and Japanese (GSD Treebank)"
   ],
   "metadata": {
    "collapsed": false
   },
   "id": "4434a59c07b6abcd"
  },
  {
   "cell_type": "markdown",
   "source": [
    "# 2. Data Structure"
   ],
   "metadata": {
    "collapsed": false
   },
   "id": "148264a9f3c77a8b"
  },
  {
   "cell_type": "markdown",
   "source": [
    "## 2.1 Basque"
   ],
   "metadata": {
    "collapsed": false
   },
   "id": "49131796850b7bed"
  },
  {
   "cell_type": "markdown",
   "source": [
    "As we can observe in the output of the command below, the corpus is mainly composed of data already split in smaller datasets (train, dev and test). Each of the splits comprises a plain text file, which contains all the sentences of the split separated just by a period (\".\"), and a *conllu* file with all the sentences annotated following the *Universal Dependency* guidelines."
   ],
   "metadata": {
    "collapsed": false
   },
   "id": "1525cc8800014c50"
  },
  {
   "cell_type": "code",
   "execution_count": 4,
   "outputs": [
    {
     "name": "stdout",
     "output_type": "stream",
     "text": [
      "\u001B[01;34m../data/UD_Basque-BDT/\u001B[0m\r\n",
      "├── \u001B[00meu_bdt-ud-dev.conllu\u001B[0m\r\n",
      "├── \u001B[00meu_bdt-ud-dev.txt\u001B[0m\r\n",
      "├── \u001B[00meu_bdt-ud-test.conllu\u001B[0m\r\n",
      "├── \u001B[00meu_bdt-ud-test.txt\u001B[0m\r\n",
      "├── \u001B[00meu_bdt-ud-train.conllu\u001B[0m\r\n",
      "├── \u001B[00meu_bdt-ud-train_mini.conllu\u001B[0m\r\n",
      "├── \u001B[00meu_bdt-ud-train.txt\u001B[0m\r\n",
      "├── \u001B[00mLICENSE.txt\u001B[0m\r\n",
      "├── \u001B[00mREADME.md\u001B[0m\r\n",
      "└── \u001B[00mstats.xml\u001B[0m\r\n",
      "\r\n",
      "0 directories, 10 files\r\n"
     ]
    }
   ],
   "source": [
    "!tree ../data/UD_Basque-BDT/"
   ],
   "metadata": {
    "collapsed": false,
    "ExecuteTime": {
     "end_time": "2023-11-04T10:13:41.702437494Z",
     "start_time": "2023-11-04T10:13:41.591550262Z"
    }
   },
   "id": "4e2fe98487c9a1df"
  },
  {
   "cell_type": "markdown",
   "source": [
    "In order to implement the HMM Pos tagger, we will need to process the *conllu* file, because it is the one that contains the information on the PoS tag that corresponds to each token within every sentence in the data split. For this specific task, we will just need to extract the token (second column) and its corresponding PoS tag (fourth column)."
   ],
   "metadata": {
    "collapsed": false
   },
   "id": "135ac50c883e721a"
  },
  {
   "cell_type": "code",
   "execution_count": 5,
   "outputs": [
    {
     "name": "stdout",
     "output_type": "stream",
     "text": [
      "# sent_id = train-s1\r\n",
      "# text = Gero, lortutako masa molde batean jarri.\r\n",
      "1\tGero\tgero\tADV\t_\t_\t7\tadvmod\t_\tSpaceAfter=No\r\n",
      "2\t,\t,\tPUNCT\t_\t_\t1\tpunct\t_\t_\r\n",
      "3\tlortutako\tlortu\tVERB\t_\tCase=Loc|VerbForm=Part\t4\tadvcl\t_\t_\r\n",
      "4\tmasa\tmasa\tNOUN\t_\tAnimacy=Inan|Case=Abs|Definite=Def|Number=Sing\t7\tobj\t_\t_\r\n",
      "5\tmolde\tmolde\tNOUN\t_\t_\t7\tobl\t_\t_\r\n",
      "6\tbatean\tbat\tNUM\t_\tNumType=Card\t5\tnummod\t_\t_\r\n",
      "7\tjarri\tjarri\tVERB\t_\tVerbForm=Part\t0\troot\t_\tSpaceAfter=No\r\n",
      "8\t.\t.\tPUNCT\t_\t_\t7\tpunct\t_\t_\r\n"
     ]
    }
   ],
   "source": [
    "!head ../data/UD_Basque-BDT/eu_bdt-ud-train.conllu"
   ],
   "metadata": {
    "collapsed": false,
    "ExecuteTime": {
     "end_time": "2023-11-04T10:36:38.124326770Z",
     "start_time": "2023-11-04T10:36:38.012177928Z"
    }
   },
   "id": "9d681ad4a96aad28"
  }
 ],
 "metadata": {
  "kernelspec": {
   "display_name": "Python 3",
   "language": "python",
   "name": "python3"
  },
  "language_info": {
   "codemirror_mode": {
    "name": "ipython",
    "version": 2
   },
   "file_extension": ".py",
   "mimetype": "text/x-python",
   "name": "python",
   "nbconvert_exporter": "python",
   "pygments_lexer": "ipython2",
   "version": "2.7.6"
  }
 },
 "nbformat": 4,
 "nbformat_minor": 5
}
