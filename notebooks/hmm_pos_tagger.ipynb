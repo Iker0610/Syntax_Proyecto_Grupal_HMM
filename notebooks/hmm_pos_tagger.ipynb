{
 "cells": [
  {
   "cell_type": "markdown",
   "source": [
    "# 1. Introduction"
   ],
   "metadata": {
    "collapsed": false
   },
   "id": "bc95d00abfaf117"
  },
  {
   "cell_type": "markdown",
   "source": [
    "The aim of this exercise is to implement an HMM PoS tagger. In order to measure its performance, several experiments will be carried on 2 datasets (2 different languages) extracted from Universal Dependency. For our experiments, the languages we have chosen are Basque (BDT Treebank) and Japanese (GSD Treebank)."
   ],
   "metadata": {
    "collapsed": false
   },
   "id": "4434a59c07b6abcd"
  },
  {
   "cell_type": "markdown",
   "source": [
    "# 2. Dataset External Structure"
   ],
   "metadata": {
    "collapsed": false
   },
   "id": "148264a9f3c77a8b"
  },
  {
   "cell_type": "markdown",
   "source": [
    "As we can observe in the output of the commands below, the corpora are mainly composed of data already split in smaller datasets (train, dev and test)."
   ],
   "metadata": {
    "collapsed": false
   },
   "id": "1525cc8800014c50"
  },
  {
   "cell_type": "code",
   "execution_count": 4,
   "outputs": [
    {
     "name": "stdout",
     "output_type": "stream",
     "text": [
      "\u001B[01;34m../data/UD_Basque-BDT/\u001B[0m\r\n",
      "├── \u001B[00meu_bdt-ud-dev.conllu\u001B[0m\r\n",
      "├── \u001B[00meu_bdt-ud-dev.txt\u001B[0m\r\n",
      "├── \u001B[00meu_bdt-ud-test.conllu\u001B[0m\r\n",
      "├── \u001B[00meu_bdt-ud-test.txt\u001B[0m\r\n",
      "├── \u001B[00meu_bdt-ud-train.conllu\u001B[0m\r\n",
      "├── \u001B[00meu_bdt-ud-train_mini.conllu\u001B[0m\r\n",
      "├── \u001B[00meu_bdt-ud-train.txt\u001B[0m\r\n",
      "├── \u001B[00mLICENSE.txt\u001B[0m\r\n",
      "├── \u001B[00mREADME.md\u001B[0m\r\n",
      "└── \u001B[00mstats.xml\u001B[0m\r\n",
      "\r\n",
      "0 directories, 10 files\r\n"
     ]
    }
   ],
   "source": [
    "!tree ../data/UD_Basque-BDT/"
   ],
   "metadata": {
    "collapsed": false,
    "ExecuteTime": {
     "end_time": "2023-11-04T10:13:41.702437494Z",
     "start_time": "2023-11-04T10:13:41.591550262Z"
    }
   },
   "id": "4e2fe98487c9a1df"
  },
  {
   "cell_type": "code",
   "execution_count": 8,
   "outputs": [
    {
     "name": "stdout",
     "output_type": "stream",
     "text": [
      "\u001B[01;34m../data/UD_Japanese-GSD/\u001B[0m\r\n",
      "├── \u001B[00mja_gsd-ud-dev.conllu\u001B[0m\r\n",
      "├── \u001B[00mja_gsd-ud-dev.txt\u001B[0m\r\n",
      "├── \u001B[00mja_gsd-ud-test.conllu\u001B[0m\r\n",
      "├── \u001B[00mja_gsd-ud-test.txt\u001B[0m\r\n",
      "├── \u001B[00mja_gsd-ud-train.conllu\u001B[0m\r\n",
      "├── \u001B[00mja_gsd-ud-train.txt\u001B[0m\r\n",
      "├── \u001B[00mLICENSE.txt\u001B[0m\r\n",
      "├── \u001B[00mREADME.md\u001B[0m\r\n",
      "└── \u001B[00mstats.xml\u001B[0m\r\n",
      "\r\n",
      "0 directories, 9 files\r\n"
     ]
    }
   ],
   "source": [
    "!tree ../data/UD_Japanese-GSD/"
   ],
   "metadata": {
    "collapsed": false,
    "ExecuteTime": {
     "end_time": "2023-11-04T11:04:29.852683063Z",
     "start_time": "2023-11-04T11:04:29.735198353Z"
    }
   },
   "id": "d21ab3795044136"
  },
  {
   "cell_type": "markdown",
   "source": [
    "Each of the splits comprises a plain text file, which just contains all the sentences of the split, and a *conllu* file with all the sentences annotated following the *Universal Dependency* guidelines."
   ],
   "metadata": {
    "collapsed": false
   },
   "id": "cea74b71cdcc5ab2"
  },
  {
   "cell_type": "markdown",
   "source": [
    "### Plain text files"
   ],
   "metadata": {
    "collapsed": false
   },
   "id": "ccea5de1b59b5ce9"
  },
  {
   "cell_type": "code",
   "execution_count": 7,
   "outputs": [
    {
     "name": "stdout",
     "output_type": "stream",
     "text": [
      "Gero, lortutako masa molde batean jarri. Bestalde, \"herri palestinarrari\r\n",
      "laguntza tekniko eta ekonomikoa ematen jarraitzeko eta Estatu baketsu eta\r\n",
      "demokratiko baten ordezkari diren erakunde palestinarrak indartzeko lanean\r\n",
      "jarraitzeko konpromisoa\" baieztatu zuen EBk. Tour hartan bistaratu zitzaizkon\r\n",
      "lehendabiziko aldiz, mendian zituen benetako zailtasunak. Nik ere ez eta hasten\r\n",
      "naiz inketatzen. Zidane, Henry, Barthez, Deschamps, Blanc eta enparauek\r\n",
      "Eurokopako talde sendoena osatzen dute aditu gehienentzat. Napoliko erregeordea\r\n",
      "zen Lemosko kondearen idazkari izan zen eta, bere anaia Bartolomek esaten\r\n",
      "duenez, erre egin zituen bere poemak hiri hartan. Guk errespetu handia diogu\r\n",
      "Alavesi, eta espero dugu partidu ona egitea, hiru puntuak irabazteko. Beraz,\r\n"
     ]
    }
   ],
   "source": [
    "!head ../data/UD_Basque-BDT/eu_bdt-ud-train.txt"
   ],
   "metadata": {
    "collapsed": false,
    "ExecuteTime": {
     "end_time": "2023-11-04T10:56:32.430602581Z",
     "start_time": "2023-11-04T10:56:32.316689540Z"
    }
   },
   "id": "a2bda04bdc8bf28f"
  },
  {
   "cell_type": "code",
   "execution_count": 9,
   "outputs": [
    {
     "name": "stdout",
     "output_type": "stream",
     "text": [
      "ホッケーにはデンジャラスプレーの反則があるので、膝より上にボールを浮かすことは基本的に反則になるが、その例外の一つがこのスクープである。 \r\n",
      "\r\n",
      "また行きたい、そんな気持ちにさせてくれるお店です。 \r\n",
      "\r\n",
      "手に持った特殊な刃物を使ったアクロバティックな体術や、揚羽と薄羽同様にクナイや忍具を使って攻撃してくる。 \r\n",
      "\r\n",
      "3年次にはトータルオフェンスで2,892ヤードを獲得し、これは大学記録となった。 \r\n",
      "\r\n",
      "葬儀の最中ですよ! \r\n",
      "\r\n"
     ]
    }
   ],
   "source": [
    "!head ../data/UD_Japanese-GSD/ja_gsd-ud-train.txt"
   ],
   "metadata": {
    "collapsed": false,
    "ExecuteTime": {
     "end_time": "2023-11-04T11:05:46.933591156Z",
     "start_time": "2023-11-04T11:05:46.817672915Z"
    }
   },
   "id": "e3c566495a145161"
  },
  {
   "cell_type": "markdown",
   "source": [
    "### CONLLU files"
   ],
   "metadata": {
    "collapsed": false
   },
   "id": "cdf2d30e4d4cfdc8"
  },
  {
   "cell_type": "code",
   "execution_count": 5,
   "outputs": [
    {
     "name": "stdout",
     "output_type": "stream",
     "text": [
      "# sent_id = train-s1\r\n",
      "# text = Gero, lortutako masa molde batean jarri.\r\n",
      "1\tGero\tgero\tADV\t_\t_\t7\tadvmod\t_\tSpaceAfter=No\r\n",
      "2\t,\t,\tPUNCT\t_\t_\t1\tpunct\t_\t_\r\n",
      "3\tlortutako\tlortu\tVERB\t_\tCase=Loc|VerbForm=Part\t4\tadvcl\t_\t_\r\n",
      "4\tmasa\tmasa\tNOUN\t_\tAnimacy=Inan|Case=Abs|Definite=Def|Number=Sing\t7\tobj\t_\t_\r\n",
      "5\tmolde\tmolde\tNOUN\t_\t_\t7\tobl\t_\t_\r\n",
      "6\tbatean\tbat\tNUM\t_\tNumType=Card\t5\tnummod\t_\t_\r\n",
      "7\tjarri\tjarri\tVERB\t_\tVerbForm=Part\t0\troot\t_\tSpaceAfter=No\r\n",
      "8\t.\t.\tPUNCT\t_\t_\t7\tpunct\t_\t_\r\n"
     ]
    }
   ],
   "source": [
    "!head ../data/UD_Basque-BDT/eu_bdt-ud-train.conllu"
   ],
   "metadata": {
    "collapsed": false,
    "ExecuteTime": {
     "end_time": "2023-11-04T10:36:38.124326770Z",
     "start_time": "2023-11-04T10:36:38.012177928Z"
    }
   },
   "id": "9d681ad4a96aad28"
  },
  {
   "cell_type": "code",
   "execution_count": 10,
   "outputs": [
    {
     "name": "stdout",
     "output_type": "stream",
     "text": [
      "# newdoc id = train-s1\r\n",
      "# sent_id = train-s1\r\n",
      "# text = ホッケーにはデンジャラスプレーの反則があるので、膝より上にボールを浮かすことは基本的に反則になるが、その例外の一つがこのスクープである。\r\n",
      "1\tホッケー\tホッケー\tNOUN\t名詞-普通名詞-一般\t_\t9\tobl\t_\tBunsetuBILabel=B|BunsetuPositionType=SEM_HEAD|LUWBILabel=B|LUWPOS=名詞-普通名詞-一般|SpaceAfter=No|UnidicInfo=,ホッケー,ホッケー,ホッケー,ホッケー,,,ホッケー,ホッケー,ホッケー\r\n",
      "2\tに\tに\tADP\t助詞-格助詞\t_\t1\tcase\t_\tBunsetuBILabel=I|BunsetuPositionType=SYN_HEAD|LUWBILabel=B|LUWPOS=助詞-格助詞|SpaceAfter=No|UnidicInfo=,に,に,に,ニ,,,ニ,ニ,に\r\n",
      "3\tは\tは\tADP\t助詞-係助詞\t_\t1\tcase\t_\tBunsetuBILabel=I|BunsetuPositionType=FUNC|LUWBILabel=B|LUWPOS=助詞-係助詞|SpaceAfter=No|UnidicInfo=,は,は,は,ワ,,,ハ,ハ,は\r\n",
      "4\tデンジャラス\tデンジャラス\tNOUN\t名詞-普通名詞-一般\t_\t5\tcompound\t_\tBunsetuBILabel=B|BunsetuPositionType=CONT|LUWBILabel=B|LUWPOS=名詞-普通名詞-一般|SpaceAfter=No|UnidicInfo=,デンジャラス,デンジャラス,デンジャラス,デンジャラス,,,デンジャラス,デンジャラスプレー,デンジャラスプレー\r\n",
      "5\tプレー\tプレー\tNOUN\t名詞-普通名詞-サ変可能\t_\t7\tnmod\t_\tBunsetuBILabel=I|BunsetuPositionType=SEM_HEAD|LUWBILabel=I|LUWPOS=名詞-普通名詞-一般|SpaceAfter=No|UnidicInfo=,プレー,プレー,プレー,プレー,,,プレー,デンジャラスプレー,デンジャラスプレー\r\n",
      "6\tの\tの\tADP\t助詞-格助詞\t_\t5\tcase\t_\tBunsetuBILabel=I|BunsetuPositionType=SYN_HEAD|LUWBILabel=B|LUWPOS=助詞-格助詞|SpaceAfter=No|UnidicInfo=,の,の,の,ノ,,,ノ,ノ,の\r\n",
      "7\t反則\t反則\tNOUN\t名詞-普通名詞-サ変可能\t_\t9\tnsubj\t_\tBunsetuBILabel=B|BunsetuPositionType=SEM_HEAD|LUWBILabel=B|LUWPOS=名詞-普通名詞-一般|SpaceAfter=No|UnidicInfo=,反則,反則,反則,ハンソク,,,ハンソク,ハンソク,反則\r\n"
     ]
    }
   ],
   "source": [
    "!head ../data/UD_Japanese-GSD/ja_gsd-ud-train.conllu"
   ],
   "metadata": {
    "collapsed": false,
    "ExecuteTime": {
     "end_time": "2023-11-04T11:08:00.778281973Z",
     "start_time": "2023-11-04T11:08:00.665028049Z"
    }
   },
   "id": "db12fb02669da332"
  },
  {
   "cell_type": "markdown",
   "source": [
    "# 3. Dataset loading"
   ],
   "metadata": {
    "collapsed": false
   },
   "id": "531bde9bad402de5"
  },
  {
   "cell_type": "markdown",
   "source": [
    "In order to implement the HMM Pos tagger, we will need to process the *conllu* file, because it is the one that contains the information on the PoS tag that corresponds to each token within every sentence in the data split. For this specific task, in each sentence we will just need to extract every the token (second column) and its corresponding PoS tag (fourth column). This process will be performed by instances of the **Dataset** class, which is going to extract the information we need of each data split and store it in Python objects that are much more malleable for us. Apart from that, **Dataset** instances will also calculate some statistics which will be useful either for HMM PoS tagger implementation and observing the distribution of sentences and Pos tags along the dataset."
   ],
   "metadata": {
    "collapsed": false
   },
   "id": "135ac50c883e721a"
  },
  {
   "cell_type": "code",
   "execution_count": 11,
   "outputs": [],
   "source": [
    "from dataset_loader import Dataset\n",
    "from pathlib import Path\n",
    "\n",
    "basque_dataset = Dataset(\n",
    "    dataset_name='UD_Basque-BDT',\n",
    "    train_path=Path('../data/UD_Basque-BDT/eu_bdt-ud-train.conllu'),\n",
    "    dev_path=Path('../data/UD_Basque-BDT/eu_bdt-ud-dev.conllu'),\n",
    "    test_path=Path('../data/UD_Basque-BDT/eu_bdt-ud-test.conllu'),\n",
    ")\n",
    "\n",
    "japanese_dataset = Dataset(\n",
    "    dataset_name='UD_Japanese-GSD',\n",
    "    train_path=Path('../data/UD_Japanese-GSD/ja_gsd-ud-train.conllu'),\n",
    "    dev_path=Path('../data/UD_Japanese-GSD/ja_gsd-ud-dev.conllu'),\n",
    "    test_path=Path('../data/UD_Japanese-GSD/ja_gsd-ud-test.conllu'),\n",
    ")"
   ],
   "metadata": {
    "collapsed": false,
    "ExecuteTime": {
     "end_time": "2023-11-04T11:09:24.535104196Z",
     "start_time": "2023-11-04T11:09:22.655696901Z"
    }
   },
   "id": "d66ce475dbce6de5"
  },
  {
   "cell_type": "markdown",
   "source": [
    "# 4. Dataset Internal Structure"
   ],
   "metadata": {
    "collapsed": false
   },
   "id": "70910fdaa2d41c4f"
  },
  {
   "cell_type": "markdown",
   "source": [
    "After processing the *conllu* files, we can see that each sentence is represented as a list of tuples, where the first element of each tuple matches with a token, whereas the second element is its corresponding PoS tag."
   ],
   "metadata": {
    "collapsed": false
   },
   "id": "38e8be3784065bab"
  },
  {
   "cell_type": "code",
   "execution_count": 14,
   "outputs": [
    {
     "data": {
      "text/plain": "[('Gero', 'ADV'),\n (',', 'PUNCT'),\n ('lortutako', 'VERB'),\n ('masa', 'NOUN'),\n ('molde', 'NOUN'),\n ('batean', 'NUM'),\n ('jarri', 'VERB'),\n ('.', 'PUNCT')]"
     },
     "execution_count": 14,
     "metadata": {},
     "output_type": "execute_result"
    }
   ],
   "source": [
    "basque_dataset.train.data[0]"
   ],
   "metadata": {
    "collapsed": false,
    "ExecuteTime": {
     "end_time": "2023-11-04T11:23:37.302176383Z",
     "start_time": "2023-11-04T11:23:37.299414033Z"
    }
   },
   "id": "e02f01d6cf89b289"
  },
  {
   "cell_type": "code",
   "execution_count": 15,
   "outputs": [
    {
     "data": {
      "text/plain": "[('ホッケー', 'NOUN'),\n ('に', 'ADP'),\n ('は', 'ADP'),\n ('デンジャラス', 'NOUN'),\n ('プレー', 'NOUN'),\n ('の', 'ADP'),\n ('反則', 'NOUN'),\n ('が', 'ADP'),\n ('ある', 'VERB'),\n ('の', 'SCONJ'),\n ('で', 'AUX'),\n ('、', 'PUNCT'),\n ('膝', 'NOUN'),\n ('より', 'ADP'),\n ('上', 'NOUN'),\n ('に', 'ADP'),\n ('ボール', 'NOUN'),\n ('を', 'ADP'),\n ('浮かす', 'VERB'),\n ('こと', 'NOUN'),\n ('は', 'ADP'),\n ('基本', 'NOUN'),\n ('的', 'PART'),\n ('に', 'AUX'),\n ('反則', 'NOUN'),\n ('に', 'ADP'),\n ('なる', 'VERB'),\n ('が', 'SCONJ'),\n ('、', 'PUNCT'),\n ('その', 'DET'),\n ('例外', 'NOUN'),\n ('の', 'ADP'),\n ('一', 'NUM'),\n ('つ', 'NOUN'),\n ('が', 'ADP'),\n ('この', 'DET'),\n ('スクープ', 'NOUN'),\n ('で', 'AUX'),\n ('ある', 'VERB'),\n ('。', 'PUNCT')]"
     },
     "execution_count": 15,
     "metadata": {},
     "output_type": "execute_result"
    }
   ],
   "source": [
    "japanese_dataset.train.data[0]"
   ],
   "metadata": {
    "collapsed": false,
    "ExecuteTime": {
     "end_time": "2023-11-04T11:23:48.185813299Z",
     "start_time": "2023-11-04T11:23:48.178949415Z"
    }
   },
   "id": "9d2a9ac7688b073e"
  },
  {
   "cell_type": "markdown",
   "source": [
    "Senteces in the corpora"
   ],
   "metadata": {
    "collapsed": false
   },
   "id": "cfc175d486fb822c"
  },
  {
   "cell_type": "code",
   "execution_count": null,
   "outputs": [],
   "source": [
    "basque_train_length = len(basque_dataset.train.data)\n",
    "basque_dev_length = len(basque_dataset.dev.data)\n",
    "basque_test_length = len(basque_dataset.test.data)"
   ],
   "metadata": {
    "collapsed": false
   },
   "id": "66ab5a97da18994c"
  }
 ],
 "metadata": {
  "kernelspec": {
   "display_name": "Python 3",
   "language": "python",
   "name": "python3"
  },
  "language_info": {
   "codemirror_mode": {
    "name": "ipython",
    "version": 2
   },
   "file_extension": ".py",
   "mimetype": "text/x-python",
   "name": "python",
   "nbconvert_exporter": "python",
   "pygments_lexer": "ipython2",
   "version": "2.7.6"
  }
 },
 "nbformat": 4,
 "nbformat_minor": 5
}
