{
 "cells": [
  {
   "cell_type": "markdown",
   "source": [
    "# Results analysis"
   ],
   "metadata": {
    "collapsed": false
   },
   "id": "48b2b7b01b817950"
  },
  {
   "cell_type": "markdown",
   "source": [
    "In this notebook we will detail the experiments done on the chosen datasets (Basque and Japanese, both taken from Universal Dependencies) and the obtained results."
   ],
   "metadata": {
    "collapsed": false
   },
   "id": "135ac50c883e721a"
  },
  {
   "cell_type": "markdown",
   "source": [
    "## Imports"
   ],
   "metadata": {
    "collapsed": false
   },
   "id": "a2f7ba31a28cd773"
  },
  {
   "cell_type": "code",
   "execution_count": 1,
   "outputs": [],
   "source": [
    "import math\n",
    "from collections import defaultdict\n",
    "from copy import deepcopy\n",
    "from itertools import pairwise\n",
    "from pathlib import Path\n",
    "\n",
    "import matplotlib.pyplot as plt\n",
    "import numpy as np\n",
    "import pandas as pd\n",
    "import plotly.express as px\n",
    "from plotly.subplots import make_subplots\n",
    "from wordcloud import WordCloud\n",
    "\n",
    "from dataset_loader import Dataset\n",
    "from evaluation_metrics import micro_f1, evaluate_dataset\n",
    "from hmm import HiddenMarkovModel, optimize_unk_threshold\n",
    "\n",
    "plt.style.use('seaborn-v0_8-bright')\n",
    "\n",
    "import plotly.io as pio\n",
    "\n",
    "# Set the plotly theme\n",
    "pio.templates.default = \"plotly_white\""
   ],
   "metadata": {
    "collapsed": false,
    "ExecuteTime": {
     "end_time": "2023-11-05T22:06:14.826407600Z",
     "start_time": "2023-11-05T22:06:12.768176200Z"
    }
   },
   "id": "e93aac2705a195a4"
  },
  {
   "cell_type": "markdown",
   "source": [
    "## Load the datasets"
   ],
   "metadata": {
    "collapsed": false
   },
   "id": "6ebd87358a5aa808"
  },
  {
   "cell_type": "code",
   "execution_count": 2,
   "outputs": [
    {
     "name": "stdout",
     "output_type": "stream",
     "text": [
      "Basque dataset loaded\n",
      "Lemmatized Basque dataset loaded\n",
      "Japanese dataset loaded\n",
      "Lemmatized Japanese dataset loaded\n"
     ]
    }
   ],
   "source": [
    "# Basque\n",
    "basque_dataset = Dataset(\n",
    "    dataset_name='UD_Basque-BDT',\n",
    "    train_path=Path('../data/UD_Basque-BDT/eu_bdt-ud-train.conllu'),\n",
    "    dev_path=Path('../data/UD_Basque-BDT/eu_bdt-ud-dev.conllu'),\n",
    "    test_path=Path('../data/UD_Basque-BDT/eu_bdt-ud-test.conllu'),\n",
    ")\n",
    "print('Basque dataset loaded')\n",
    "\n",
    "basque_lemmatized_dataset = Dataset(\n",
    "    dataset_name='UD_Basque-BDT',\n",
    "    train_path=Path('../data/UD_Basque-BDT/eu_bdt-ud-train.conllu'),\n",
    "    dev_path=Path('../data/UD_Basque-BDT/eu_bdt-ud-dev.conllu'),\n",
    "    test_path=Path('../data/UD_Basque-BDT/eu_bdt-ud-test.conllu'),\n",
    "    lemmatized=True\n",
    ")\n",
    "print('Lemmatized Basque dataset loaded')\n",
    "\n",
    "#-------------------------\n",
    "# Japanese\n",
    "\n",
    "japanese_dataset = Dataset(\n",
    "    dataset_name='UD_Japanese-GSD',\n",
    "    train_path=Path('../data/UD_Japanese-GSD/ja_gsd-ud-train.conllu'),\n",
    "    dev_path=Path('../data/UD_Japanese-GSD/ja_gsd-ud-dev.conllu'),\n",
    "    test_path=Path('../data/UD_Japanese-GSD/ja_gsd-ud-test.conllu'),\n",
    ")\n",
    "print('Japanese dataset loaded')\n",
    "\n",
    "japanese_lemmatized_dataset = Dataset(\n",
    "    dataset_name='UD_Japanese-GSD',\n",
    "    train_path=Path('../data/UD_Japanese-GSD/ja_gsd-ud-train.conllu'),\n",
    "    dev_path=Path('../data/UD_Japanese-GSD/ja_gsd-ud-dev.conllu'),\n",
    "    test_path=Path('../data/UD_Japanese-GSD/ja_gsd-ud-test.conllu'),\n",
    "    lemmatized=True\n",
    ")\n",
    "print('Lemmatized Japanese dataset loaded')"
   ],
   "metadata": {
    "collapsed": false,
    "pycharm": {
     "name": "#%%\n"
    },
    "ExecuteTime": {
     "end_time": "2023-11-05T22:06:16.134723900Z",
     "start_time": "2023-11-05T22:06:14.826407600Z"
    }
   },
   "id": "d66ce475dbce6de5"
  },
  {
   "cell_type": "markdown",
   "source": [
    "## Hidden Markov Model Training"
   ],
   "metadata": {
    "collapsed": false
   },
   "id": "a7e44f384a61b5b1"
  },
  {
   "cell_type": "markdown",
   "source": [
    "### Optimize UNK threshold\n",
    "\n",
    "Don't run this cell, it takes a lot of time to run. The results are already saved in the `unk_thresholds` dictionary."
   ],
   "metadata": {
    "collapsed": false
   },
   "id": "d1478dcdfd53c035"
  },
  {
   "cell_type": "code",
   "execution_count": 11,
   "outputs": [
    {
     "name": "stderr",
     "output_type": "stream",
     "text": [
      "100%|██████████| 250/250 [02:38<00:00,  1.57it/s]\n",
      "100%|██████████| 250/250 [02:35<00:00,  1.61it/s]\n",
      "100%|██████████| 250/250 [02:09<00:00,  1.93it/s]\n",
      "100%|██████████| 250/250 [02:08<00:00,  1.94it/s]"
     ]
    },
    {
     "name": "stdout",
     "output_type": "stream",
     "text": [
      "Basque:  1.3821725034787874e-05 0.82880265\n",
      "Basque lemmatized:  1.3821725034787874e-05 0.91790825\n",
      "Japanese:  1e-05 0.9141369\n",
      "Japanese lemmatized:  1e-05 0.9351347\n"
     ]
    },
    {
     "name": "stderr",
     "output_type": "stream",
     "text": [
      "\n"
     ]
    },
    {
     "data": {
      "text/plain": "' OUTPUT:\\nBasque:  1.3950131878249618e-05 0.82880265\\nBasque lemmatized:  1.3950131878249618e-05 0.9181573\\nJapanese:  1e-05 0.91446245\\nJapanese lemmatized:  1e-05 0.9357858\\n'"
     },
     "execution_count": 11,
     "metadata": {},
     "output_type": "execute_result"
    }
   ],
   "source": [
    "optimization_params = {\n",
    "    'min_threshold': 0.00001,\n",
    "    'max_threshold': 0.0001,\n",
    "    'num': 250,\n",
    "}\n",
    "# Basque\n",
    "basque_optimization_results = optimize_unk_threshold(basque_dataset, metric_funct=micro_f1, **optimization_params)\n",
    "basque_lemmatized_optimization_results = optimize_unk_threshold(basque_lemmatized_dataset, metric_funct=micro_f1, **optimization_params)\n",
    "\n",
    "# Japanese\n",
    "japanese_optimization_results = optimize_unk_threshold(japanese_dataset, metric_funct=micro_f1, **optimization_params)\n",
    "japanese_lemmatized_optimization_results = optimize_unk_threshold(japanese_lemmatized_dataset, metric_funct=micro_f1, **optimization_params)\n",
    "\n",
    "# Print results\n",
    "print('Basque: ', basque_optimization_results['best_threshold'], basque_optimization_results['best_metric'])\n",
    "print('Basque lemmatized: ', basque_lemmatized_optimization_results['best_threshold'], basque_lemmatized_optimization_results['best_metric'])\n",
    "print('Japanese: ', japanese_optimization_results['best_threshold'], japanese_optimization_results['best_metric'])\n",
    "print('Japanese lemmatized: ', japanese_lemmatized_optimization_results['best_threshold'], japanese_lemmatized_optimization_results['best_metric'])\n",
    "\n",
    "\"\"\" OUTPUT:\n",
    "Basque:  1.3950131878249618e-05 0.82880265\n",
    "Basque lemmatized:  1.3950131878249618e-05 0.9181573\n",
    "Japanese:  1e-05 0.91446245\n",
    "Japanese lemmatized:  1e-05 0.9357858\n",
    "\"\"\""
   ],
   "metadata": {
    "collapsed": false,
    "ExecuteTime": {
     "end_time": "2023-11-05T00:01:30.932927100Z",
     "start_time": "2023-11-04T23:51:58.242556200Z"
    }
   },
   "id": "c1773648343e3332"
  },
  {
   "cell_type": "markdown",
   "source": [
    "#### Analysis of the optimization results"
   ],
   "metadata": {
    "collapsed": false
   },
   "id": "9730aee03c24107f"
  },
  {
   "cell_type": "code",
   "execution_count": 3,
   "outputs": [
    {
     "ename": "NameError",
     "evalue": "name 'basque_optimization_results' is not defined",
     "output_type": "error",
     "traceback": [
      "\u001B[1;31m---------------------------------------------------------------------------\u001B[0m",
      "\u001B[1;31mNameError\u001B[0m                                 Traceback (most recent call last)",
      "Cell \u001B[1;32mIn[3], line 3\u001B[0m\n\u001B[0;32m      1\u001B[0m \u001B[38;5;66;03m# Generate a dataframe with the results\u001B[39;00m\n\u001B[0;32m      2\u001B[0m optimization_data \u001B[38;5;241m=\u001B[39m []\n\u001B[1;32m----> 3\u001B[0m \u001B[38;5;28;01mfor\u001B[39;00m value, score \u001B[38;5;129;01min\u001B[39;00m \u001B[38;5;28mzip\u001B[39m(\u001B[43mbasque_optimization_results\u001B[49m[\u001B[38;5;124m'\u001B[39m\u001B[38;5;124msearch_space\u001B[39m\u001B[38;5;124m'\u001B[39m], basque_optimization_results[\u001B[38;5;124m'\u001B[39m\u001B[38;5;124mresults\u001B[39m\u001B[38;5;124m'\u001B[39m]):\n\u001B[0;32m      4\u001B[0m     optimization_data\u001B[38;5;241m.\u001B[39mappend({\u001B[38;5;124m'\u001B[39m\u001B[38;5;124mlanguage\u001B[39m\u001B[38;5;124m'\u001B[39m: \u001B[38;5;124m'\u001B[39m\u001B[38;5;124mbasque\u001B[39m\u001B[38;5;124m'\u001B[39m, \u001B[38;5;124m'\u001B[39m\u001B[38;5;124mlemmatized\u001B[39m\u001B[38;5;124m'\u001B[39m: \u001B[38;5;28;01mFalse\u001B[39;00m, \u001B[38;5;124m'\u001B[39m\u001B[38;5;124mthreshold\u001B[39m\u001B[38;5;124m'\u001B[39m: value, \u001B[38;5;124m'\u001B[39m\u001B[38;5;124mmetric\u001B[39m\u001B[38;5;124m'\u001B[39m: score})\n\u001B[0;32m      5\u001B[0m \u001B[38;5;28;01mfor\u001B[39;00m value, score \u001B[38;5;129;01min\u001B[39;00m \u001B[38;5;28mzip\u001B[39m(basque_lemmatized_optimization_results[\u001B[38;5;124m'\u001B[39m\u001B[38;5;124msearch_space\u001B[39m\u001B[38;5;124m'\u001B[39m], basque_lemmatized_optimization_results[\u001B[38;5;124m'\u001B[39m\u001B[38;5;124mresults\u001B[39m\u001B[38;5;124m'\u001B[39m]):\n",
      "\u001B[1;31mNameError\u001B[0m: name 'basque_optimization_results' is not defined"
     ]
    }
   ],
   "source": [
    "# Generate a dataframe with the results\n",
    "optimization_data = []\n",
    "for value, score in zip(basque_optimization_results['search_space'], basque_optimization_results['results']):\n",
    "    optimization_data.append({'language': 'basque', 'lemmatized': False, 'threshold': value, 'metric': score})\n",
    "for value, score in zip(basque_lemmatized_optimization_results['search_space'], basque_lemmatized_optimization_results['results']):\n",
    "    optimization_data.append({'language': 'basque', 'lemmatized': True, 'threshold': value, 'metric': score})\n",
    "for value, score in zip(japanese_optimization_results['search_space'], japanese_optimization_results['results']):\n",
    "    optimization_data.append({'language': 'japanese', 'lemmatized': False, 'threshold': value, 'metric': score})\n",
    "for value, score in zip(japanese_lemmatized_optimization_results['search_space'], japanese_lemmatized_optimization_results['results']):\n",
    "    optimization_data.append({'language': 'japanese', 'lemmatized': True, 'threshold': value, 'metric': score})\n",
    "\n",
    "optimization_df = pd.DataFrame(optimization_data)\n",
    "\n",
    "# Plot the results\n",
    "fig = px.line(optimization_df, x='threshold', y='metric', color='language', line_dash='lemmatized', log_x=True)\n",
    "fig.show()"
   ],
   "metadata": {
    "collapsed": false,
    "ExecuteTime": {
     "end_time": "2023-11-05T22:06:19.251896100Z",
     "start_time": "2023-11-05T22:06:18.416839600Z"
    }
   },
   "id": "131fa4b558d0b718"
  },
  {
   "cell_type": "markdown",
   "source": [
    "As we expected, as the threshold increases, the performance of the model decreases as more words are replaced by the UNK token and get the same emission probability.\n",
    "\n",
    "Regarding the languages and their lemmatized version, we can see that the best thresholds for the lemmatized and non-lemmatized datasets are the same.\n",
    "On the other hand, there is a clear difference between the Basque and Japanese datasets. The models trained on the Basque datasets benefit from the lower threshold, and their performance decreases as the threshold increases. On the other hand, the ones trained on the Japanese datasets exhibit extremely low performance for low thresholds until they reach a threshold of 1e-5, where they suddenly increase their performance to their maximum. From this point the score decreases gradually again as the threshold increases.\n"
   ],
   "metadata": {
    "collapsed": false
   },
   "id": "20ce421ff80c4ec3"
  },
  {
   "cell_type": "code",
   "execution_count": 4,
   "outputs": [],
   "source": [
    "# Optimization best thresholds\n",
    "unk_thresholds = {\n",
    "    'basque': 1.3950131878249618e-05,\n",
    "    'basque_lemmatized': 1.3950131878249618e-05,\n",
    "    'japanese': 1e-05,\n",
    "    'japanese_lemmatized': 1e-05\n",
    "}"
   ],
   "metadata": {
    "collapsed": false,
    "ExecuteTime": {
     "end_time": "2023-11-05T22:06:20.516725600Z",
     "start_time": "2023-11-05T22:06:20.484110900Z"
    }
   },
   "id": "89c7e16da26b448d"
  },
  {
   "cell_type": "markdown",
   "source": [
    "## Train the final models"
   ],
   "metadata": {
    "collapsed": false
   },
   "id": "6228bac2b63b9774"
  },
  {
   "cell_type": "code",
   "execution_count": 5,
   "outputs": [],
   "source": [
    "# Basque models\n",
    "basque_hmm = HiddenMarkovModel(basque_dataset, unknown_token_threshold=unk_thresholds['basque'])\n",
    "basque_lemmatized_hmm = HiddenMarkovModel(basque_lemmatized_dataset, unknown_token_threshold=unk_thresholds['basque_lemmatized'])\n",
    "\n",
    "# Japanese models\n",
    "japanese_hmm = HiddenMarkovModel(japanese_dataset, unknown_token_threshold=unk_thresholds['japanese'])\n",
    "japanese_lemmatized_hmm = HiddenMarkovModel(japanese_lemmatized_dataset, unknown_token_threshold=unk_thresholds['japanese_lemmatized'])"
   ],
   "metadata": {
    "collapsed": false,
    "pycharm": {
     "name": "#%%\n"
    },
    "ExecuteTime": {
     "end_time": "2023-11-05T22:07:12.051429100Z",
     "start_time": "2023-11-05T22:06:23.181862Z"
    }
   },
   "id": "7dd00ed60fece0cd"
  },
  {
   "cell_type": "markdown",
   "source": [
    "## Performance Evaluation"
   ],
   "metadata": {
    "collapsed": false
   },
   "id": "f188133b735d819b"
  },
  {
   "cell_type": "markdown",
   "source": [
    "### Predictions"
   ],
   "metadata": {
    "collapsed": false
   },
   "id": "9f462e121808b0a4"
  },
  {
   "cell_type": "code",
   "execution_count": 6,
   "outputs": [],
   "source": [
    "# Basque\n",
    "basque_predictions = basque_hmm.batch_predict(basque_dataset.test)\n",
    "basque_lemmatized_predictions = basque_lemmatized_hmm.batch_predict(basque_lemmatized_dataset.test)\n",
    "\n",
    "# Japanese\n",
    "japanese_predictions = japanese_hmm.batch_predict(japanese_dataset.test)\n",
    "japanese_lemmatized_predictions = japanese_lemmatized_hmm.batch_predict(japanese_lemmatized_dataset.test)"
   ],
   "metadata": {
    "collapsed": false,
    "ExecuteTime": {
     "end_time": "2023-11-05T22:07:13.642709300Z",
     "start_time": "2023-11-05T22:07:12.053011900Z"
    }
   },
   "id": "e7b856fad9bbdd75"
  },
  {
   "cell_type": "markdown",
   "source": [
    "### Evaluation"
   ],
   "metadata": {
    "collapsed": false
   },
   "id": "2ea22b7cb12173cf"
  },
  {
   "cell_type": "code",
   "execution_count": 14,
   "outputs": [],
   "source": [
    "eval_metrics_basque = evaluate_dataset(basque_dataset.test.data, basque_predictions[0], basque_predictions[1])\n",
    "eval_metrics_basque_lemmatized = evaluate_dataset(basque_lemmatized_dataset.test.data, basque_lemmatized_predictions[0], basque_lemmatized_predictions[1])\n",
    "\n",
    "eval_metrics_japanese = evaluate_dataset(japanese_dataset.test.data, japanese_predictions[0], japanese_predictions[1])\n",
    "eval_metrics_japanese_lemmatized = evaluate_dataset(japanese_lemmatized_dataset.test.data, japanese_lemmatized_predictions[0], japanese_lemmatized_predictions[1])"
   ],
   "metadata": {
    "collapsed": false,
    "ExecuteTime": {
     "end_time": "2023-11-05T22:10:56.213139800Z",
     "start_time": "2023-11-05T22:10:36.324063700Z"
    }
   },
   "id": "1374c2eff6470f25"
  },
  {
   "cell_type": "markdown",
   "source": [
    "#### Convert the evaluation metrics to a dataframe"
   ],
   "metadata": {
    "collapsed": false
   },
   "id": "a8c0eec1c9075c38"
  },
  {
   "cell_type": "code",
   "execution_count": 15,
   "outputs": [],
   "source": [
    "df_rows = []\n",
    "df_per_tag_rows = []\n",
    "\n",
    "\n",
    "def postprocess_metric_dict(metric_keys: list[str], metric_dict, language, lemmatized, postprocess_rows, postprocess_per_tag_rows):\n",
    "    for _sub_key, _value in metric_dict.items():\n",
    "        if _sub_key == 'per_sentence':\n",
    "            continue\n",
    "        elif _sub_key == 'per_tag':\n",
    "            postprocess_metric_dict(metric_keys + [_sub_key], _value, language, lemmatized, postprocess_per_tag_rows, None)\n",
    "        elif isinstance(_value, dict):\n",
    "            postprocess_metric_dict(metric_keys + [_sub_key], _value, language, lemmatized, postprocess_rows, postprocess_per_tag_rows)\n",
    "        else:\n",
    "            postprocess_rows.append({\n",
    "                'Metric': '-'.join(metric_keys + [_sub_key]),\n",
    "                'Language': language,\n",
    "                'Lemmatized': lemmatized,\n",
    "                'Value': _value\n",
    "            })\n",
    "\n",
    "\n",
    "postprocess_metric_dict([], eval_metrics_basque, 'Basque', False, df_rows, df_per_tag_rows)\n",
    "postprocess_metric_dict([], eval_metrics_basque_lemmatized, 'Basque', True, df_rows, df_per_tag_rows)\n",
    "postprocess_metric_dict([], eval_metrics_japanese, 'Japanese', False, df_rows, df_per_tag_rows)\n",
    "postprocess_metric_dict([], eval_metrics_japanese_lemmatized, 'Japanese', True, df_rows, df_per_tag_rows)\n",
    "\n",
    "eval_metrics_df = pd.DataFrame(df_rows)"
   ],
   "metadata": {
    "collapsed": false,
    "ExecuteTime": {
     "end_time": "2023-11-05T22:10:56.229208600Z",
     "start_time": "2023-11-05T22:10:56.220143300Z"
    }
   },
   "id": "dbd175848093cd80"
  },
  {
   "cell_type": "markdown",
   "source": [
    "## Evaluation Result Analysis"
   ],
   "metadata": {
    "collapsed": false
   },
   "id": "821eca64f05f1959"
  },
  {
   "cell_type": "markdown",
   "source": [
    "### Basic Metrics"
   ],
   "metadata": {
    "collapsed": false
   },
   "id": "75c40ddf1c585e07"
  },
  {
   "cell_type": "code",
   "execution_count": 16,
   "outputs": [
    {
     "data": {
      "application/vnd.plotly.v1+json": {
       "data": [
        {
         "alignmentgroup": "True",
         "hovertemplate": "Language=Basque<br>Lemmatized=False<br>Metric=%{x}<br>Value=%{y}<extra></extra>",
         "legendgroup": "Basque, False",
         "marker": {
          "color": "#636efa",
          "pattern": {
           "shape": ""
          }
         },
         "name": "Basque, False",
         "offsetgroup": "Basque, False",
         "orientation": "v",
         "showlegend": true,
         "textposition": "auto",
         "x": [
          "accuracy",
          "macro-precision",
          "macro-recall",
          "macro-f1",
          "micro-precision",
          "micro-recall",
          "micro-f1"
         ],
         "xaxis": "x",
         "y": [
          0.827972429638139,
          0.7524609809227981,
          0.6564038719797978,
          0.6875227344109504,
          0.827972429638139,
          0.827972429638139,
          0.827972429638139
         ],
         "yaxis": "y",
         "type": "bar"
        },
        {
         "alignmentgroup": "True",
         "hovertemplate": "Language=Basque<br>Lemmatized=True<br>Metric=%{x}<br>Value=%{y}<extra></extra>",
         "legendgroup": "Basque, True",
         "marker": {
          "color": "#636efa",
          "pattern": {
           "shape": "/"
          }
         },
         "name": "Basque, True",
         "offsetgroup": "Basque, True",
         "orientation": "v",
         "showlegend": true,
         "textposition": "auto",
         "x": [
          "accuracy",
          "macro-precision",
          "macro-recall",
          "macro-f1",
          "micro-precision",
          "micro-recall",
          "micro-f1"
         ],
         "xaxis": "x",
         "y": [
          0.9135144005907935,
          0.8433561530125336,
          0.7888404424429563,
          0.7912614265589949,
          0.9135144005907935,
          0.9135144005907935,
          0.9135144005907935
         ],
         "yaxis": "y",
         "type": "bar"
        },
        {
         "alignmentgroup": "True",
         "hovertemplate": "Language=Japanese<br>Lemmatized=False<br>Metric=%{x}<br>Value=%{y}<extra></extra>",
         "legendgroup": "Japanese, False",
         "marker": {
          "color": "#EF553B",
          "pattern": {
           "shape": ""
          }
         },
         "name": "Japanese, False",
         "offsetgroup": "Japanese, False",
         "orientation": "v",
         "showlegend": true,
         "textposition": "auto",
         "x": [
          "accuracy",
          "macro-precision",
          "macro-recall",
          "macro-f1",
          "micro-precision",
          "micro-recall",
          "micro-f1"
         ],
         "xaxis": "x",
         "y": [
          0.906398649685438,
          0.8155521335683944,
          0.8124315295683087,
          0.8032788352572802,
          0.906398649685438,
          0.906398649685438,
          0.9063986496854379
         ],
         "yaxis": "y",
         "type": "bar"
        },
        {
         "alignmentgroup": "True",
         "hovertemplate": "Language=Japanese<br>Lemmatized=True<br>Metric=%{x}<br>Value=%{y}<extra></extra>",
         "legendgroup": "Japanese, True",
         "marker": {
          "color": "#EF553B",
          "pattern": {
           "shape": "/"
          }
         },
         "name": "Japanese, True",
         "offsetgroup": "Japanese, True",
         "orientation": "v",
         "showlegend": true,
         "textposition": "auto",
         "x": [
          "accuracy",
          "macro-precision",
          "macro-recall",
          "macro-f1",
          "micro-precision",
          "micro-recall",
          "micro-f1"
         ],
         "xaxis": "x",
         "y": [
          0.935246278962713,
          0.8358926891802694,
          0.8520850107697191,
          0.8361201222127372,
          0.935246278962713,
          0.935246278962713,
          0.935246278962713
         ],
         "yaxis": "y",
         "type": "bar"
        }
       ],
       "layout": {
        "template": {
         "data": {
          "histogram2dcontour": [
           {
            "type": "histogram2dcontour",
            "colorbar": {
             "outlinewidth": 0,
             "ticks": ""
            },
            "colorscale": [
             [
              0.0,
              "#0d0887"
             ],
             [
              0.1111111111111111,
              "#46039f"
             ],
             [
              0.2222222222222222,
              "#7201a8"
             ],
             [
              0.3333333333333333,
              "#9c179e"
             ],
             [
              0.4444444444444444,
              "#bd3786"
             ],
             [
              0.5555555555555556,
              "#d8576b"
             ],
             [
              0.6666666666666666,
              "#ed7953"
             ],
             [
              0.7777777777777778,
              "#fb9f3a"
             ],
             [
              0.8888888888888888,
              "#fdca26"
             ],
             [
              1.0,
              "#f0f921"
             ]
            ]
           }
          ],
          "choropleth": [
           {
            "type": "choropleth",
            "colorbar": {
             "outlinewidth": 0,
             "ticks": ""
            }
           }
          ],
          "histogram2d": [
           {
            "type": "histogram2d",
            "colorbar": {
             "outlinewidth": 0,
             "ticks": ""
            },
            "colorscale": [
             [
              0.0,
              "#0d0887"
             ],
             [
              0.1111111111111111,
              "#46039f"
             ],
             [
              0.2222222222222222,
              "#7201a8"
             ],
             [
              0.3333333333333333,
              "#9c179e"
             ],
             [
              0.4444444444444444,
              "#bd3786"
             ],
             [
              0.5555555555555556,
              "#d8576b"
             ],
             [
              0.6666666666666666,
              "#ed7953"
             ],
             [
              0.7777777777777778,
              "#fb9f3a"
             ],
             [
              0.8888888888888888,
              "#fdca26"
             ],
             [
              1.0,
              "#f0f921"
             ]
            ]
           }
          ],
          "heatmap": [
           {
            "type": "heatmap",
            "colorbar": {
             "outlinewidth": 0,
             "ticks": ""
            },
            "colorscale": [
             [
              0.0,
              "#0d0887"
             ],
             [
              0.1111111111111111,
              "#46039f"
             ],
             [
              0.2222222222222222,
              "#7201a8"
             ],
             [
              0.3333333333333333,
              "#9c179e"
             ],
             [
              0.4444444444444444,
              "#bd3786"
             ],
             [
              0.5555555555555556,
              "#d8576b"
             ],
             [
              0.6666666666666666,
              "#ed7953"
             ],
             [
              0.7777777777777778,
              "#fb9f3a"
             ],
             [
              0.8888888888888888,
              "#fdca26"
             ],
             [
              1.0,
              "#f0f921"
             ]
            ]
           }
          ],
          "heatmapgl": [
           {
            "type": "heatmapgl",
            "colorbar": {
             "outlinewidth": 0,
             "ticks": ""
            },
            "colorscale": [
             [
              0.0,
              "#0d0887"
             ],
             [
              0.1111111111111111,
              "#46039f"
             ],
             [
              0.2222222222222222,
              "#7201a8"
             ],
             [
              0.3333333333333333,
              "#9c179e"
             ],
             [
              0.4444444444444444,
              "#bd3786"
             ],
             [
              0.5555555555555556,
              "#d8576b"
             ],
             [
              0.6666666666666666,
              "#ed7953"
             ],
             [
              0.7777777777777778,
              "#fb9f3a"
             ],
             [
              0.8888888888888888,
              "#fdca26"
             ],
             [
              1.0,
              "#f0f921"
             ]
            ]
           }
          ],
          "contourcarpet": [
           {
            "type": "contourcarpet",
            "colorbar": {
             "outlinewidth": 0,
             "ticks": ""
            }
           }
          ],
          "contour": [
           {
            "type": "contour",
            "colorbar": {
             "outlinewidth": 0,
             "ticks": ""
            },
            "colorscale": [
             [
              0.0,
              "#0d0887"
             ],
             [
              0.1111111111111111,
              "#46039f"
             ],
             [
              0.2222222222222222,
              "#7201a8"
             ],
             [
              0.3333333333333333,
              "#9c179e"
             ],
             [
              0.4444444444444444,
              "#bd3786"
             ],
             [
              0.5555555555555556,
              "#d8576b"
             ],
             [
              0.6666666666666666,
              "#ed7953"
             ],
             [
              0.7777777777777778,
              "#fb9f3a"
             ],
             [
              0.8888888888888888,
              "#fdca26"
             ],
             [
              1.0,
              "#f0f921"
             ]
            ]
           }
          ],
          "surface": [
           {
            "type": "surface",
            "colorbar": {
             "outlinewidth": 0,
             "ticks": ""
            },
            "colorscale": [
             [
              0.0,
              "#0d0887"
             ],
             [
              0.1111111111111111,
              "#46039f"
             ],
             [
              0.2222222222222222,
              "#7201a8"
             ],
             [
              0.3333333333333333,
              "#9c179e"
             ],
             [
              0.4444444444444444,
              "#bd3786"
             ],
             [
              0.5555555555555556,
              "#d8576b"
             ],
             [
              0.6666666666666666,
              "#ed7953"
             ],
             [
              0.7777777777777778,
              "#fb9f3a"
             ],
             [
              0.8888888888888888,
              "#fdca26"
             ],
             [
              1.0,
              "#f0f921"
             ]
            ]
           }
          ],
          "mesh3d": [
           {
            "type": "mesh3d",
            "colorbar": {
             "outlinewidth": 0,
             "ticks": ""
            }
           }
          ],
          "scatter": [
           {
            "fillpattern": {
             "fillmode": "overlay",
             "size": 10,
             "solidity": 0.2
            },
            "type": "scatter"
           }
          ],
          "parcoords": [
           {
            "type": "parcoords",
            "line": {
             "colorbar": {
              "outlinewidth": 0,
              "ticks": ""
             }
            }
           }
          ],
          "scatterpolargl": [
           {
            "type": "scatterpolargl",
            "marker": {
             "colorbar": {
              "outlinewidth": 0,
              "ticks": ""
             }
            }
           }
          ],
          "bar": [
           {
            "error_x": {
             "color": "#2a3f5f"
            },
            "error_y": {
             "color": "#2a3f5f"
            },
            "marker": {
             "line": {
              "color": "white",
              "width": 0.5
             },
             "pattern": {
              "fillmode": "overlay",
              "size": 10,
              "solidity": 0.2
             }
            },
            "type": "bar"
           }
          ],
          "scattergeo": [
           {
            "type": "scattergeo",
            "marker": {
             "colorbar": {
              "outlinewidth": 0,
              "ticks": ""
             }
            }
           }
          ],
          "scatterpolar": [
           {
            "type": "scatterpolar",
            "marker": {
             "colorbar": {
              "outlinewidth": 0,
              "ticks": ""
             }
            }
           }
          ],
          "histogram": [
           {
            "marker": {
             "pattern": {
              "fillmode": "overlay",
              "size": 10,
              "solidity": 0.2
             }
            },
            "type": "histogram"
           }
          ],
          "scattergl": [
           {
            "type": "scattergl",
            "marker": {
             "colorbar": {
              "outlinewidth": 0,
              "ticks": ""
             }
            }
           }
          ],
          "scatter3d": [
           {
            "type": "scatter3d",
            "line": {
             "colorbar": {
              "outlinewidth": 0,
              "ticks": ""
             }
            },
            "marker": {
             "colorbar": {
              "outlinewidth": 0,
              "ticks": ""
             }
            }
           }
          ],
          "scattermapbox": [
           {
            "type": "scattermapbox",
            "marker": {
             "colorbar": {
              "outlinewidth": 0,
              "ticks": ""
             }
            }
           }
          ],
          "scatterternary": [
           {
            "type": "scatterternary",
            "marker": {
             "colorbar": {
              "outlinewidth": 0,
              "ticks": ""
             }
            }
           }
          ],
          "scattercarpet": [
           {
            "type": "scattercarpet",
            "marker": {
             "colorbar": {
              "outlinewidth": 0,
              "ticks": ""
             }
            }
           }
          ],
          "carpet": [
           {
            "aaxis": {
             "endlinecolor": "#2a3f5f",
             "gridcolor": "#C8D4E3",
             "linecolor": "#C8D4E3",
             "minorgridcolor": "#C8D4E3",
             "startlinecolor": "#2a3f5f"
            },
            "baxis": {
             "endlinecolor": "#2a3f5f",
             "gridcolor": "#C8D4E3",
             "linecolor": "#C8D4E3",
             "minorgridcolor": "#C8D4E3",
             "startlinecolor": "#2a3f5f"
            },
            "type": "carpet"
           }
          ],
          "table": [
           {
            "cells": {
             "fill": {
              "color": "#EBF0F8"
             },
             "line": {
              "color": "white"
             }
            },
            "header": {
             "fill": {
              "color": "#C8D4E3"
             },
             "line": {
              "color": "white"
             }
            },
            "type": "table"
           }
          ],
          "barpolar": [
           {
            "marker": {
             "line": {
              "color": "white",
              "width": 0.5
             },
             "pattern": {
              "fillmode": "overlay",
              "size": 10,
              "solidity": 0.2
             }
            },
            "type": "barpolar"
           }
          ],
          "pie": [
           {
            "automargin": true,
            "type": "pie"
           }
          ]
         },
         "layout": {
          "autotypenumbers": "strict",
          "colorway": [
           "#636efa",
           "#EF553B",
           "#00cc96",
           "#ab63fa",
           "#FFA15A",
           "#19d3f3",
           "#FF6692",
           "#B6E880",
           "#FF97FF",
           "#FECB52"
          ],
          "font": {
           "color": "#2a3f5f"
          },
          "hovermode": "closest",
          "hoverlabel": {
           "align": "left"
          },
          "paper_bgcolor": "white",
          "plot_bgcolor": "white",
          "polar": {
           "bgcolor": "white",
           "angularaxis": {
            "gridcolor": "#EBF0F8",
            "linecolor": "#EBF0F8",
            "ticks": ""
           },
           "radialaxis": {
            "gridcolor": "#EBF0F8",
            "linecolor": "#EBF0F8",
            "ticks": ""
           }
          },
          "ternary": {
           "bgcolor": "white",
           "aaxis": {
            "gridcolor": "#DFE8F3",
            "linecolor": "#A2B1C6",
            "ticks": ""
           },
           "baxis": {
            "gridcolor": "#DFE8F3",
            "linecolor": "#A2B1C6",
            "ticks": ""
           },
           "caxis": {
            "gridcolor": "#DFE8F3",
            "linecolor": "#A2B1C6",
            "ticks": ""
           }
          },
          "coloraxis": {
           "colorbar": {
            "outlinewidth": 0,
            "ticks": ""
           }
          },
          "colorscale": {
           "sequential": [
            [
             0.0,
             "#0d0887"
            ],
            [
             0.1111111111111111,
             "#46039f"
            ],
            [
             0.2222222222222222,
             "#7201a8"
            ],
            [
             0.3333333333333333,
             "#9c179e"
            ],
            [
             0.4444444444444444,
             "#bd3786"
            ],
            [
             0.5555555555555556,
             "#d8576b"
            ],
            [
             0.6666666666666666,
             "#ed7953"
            ],
            [
             0.7777777777777778,
             "#fb9f3a"
            ],
            [
             0.8888888888888888,
             "#fdca26"
            ],
            [
             1.0,
             "#f0f921"
            ]
           ],
           "sequentialminus": [
            [
             0.0,
             "#0d0887"
            ],
            [
             0.1111111111111111,
             "#46039f"
            ],
            [
             0.2222222222222222,
             "#7201a8"
            ],
            [
             0.3333333333333333,
             "#9c179e"
            ],
            [
             0.4444444444444444,
             "#bd3786"
            ],
            [
             0.5555555555555556,
             "#d8576b"
            ],
            [
             0.6666666666666666,
             "#ed7953"
            ],
            [
             0.7777777777777778,
             "#fb9f3a"
            ],
            [
             0.8888888888888888,
             "#fdca26"
            ],
            [
             1.0,
             "#f0f921"
            ]
           ],
           "diverging": [
            [
             0,
             "#8e0152"
            ],
            [
             0.1,
             "#c51b7d"
            ],
            [
             0.2,
             "#de77ae"
            ],
            [
             0.3,
             "#f1b6da"
            ],
            [
             0.4,
             "#fde0ef"
            ],
            [
             0.5,
             "#f7f7f7"
            ],
            [
             0.6,
             "#e6f5d0"
            ],
            [
             0.7,
             "#b8e186"
            ],
            [
             0.8,
             "#7fbc41"
            ],
            [
             0.9,
             "#4d9221"
            ],
            [
             1,
             "#276419"
            ]
           ]
          },
          "xaxis": {
           "gridcolor": "#EBF0F8",
           "linecolor": "#EBF0F8",
           "ticks": "",
           "title": {
            "standoff": 15
           },
           "zerolinecolor": "#EBF0F8",
           "automargin": true,
           "zerolinewidth": 2
          },
          "yaxis": {
           "gridcolor": "#EBF0F8",
           "linecolor": "#EBF0F8",
           "ticks": "",
           "title": {
            "standoff": 15
           },
           "zerolinecolor": "#EBF0F8",
           "automargin": true,
           "zerolinewidth": 2
          },
          "scene": {
           "xaxis": {
            "backgroundcolor": "white",
            "gridcolor": "#DFE8F3",
            "linecolor": "#EBF0F8",
            "showbackground": true,
            "ticks": "",
            "zerolinecolor": "#EBF0F8",
            "gridwidth": 2
           },
           "yaxis": {
            "backgroundcolor": "white",
            "gridcolor": "#DFE8F3",
            "linecolor": "#EBF0F8",
            "showbackground": true,
            "ticks": "",
            "zerolinecolor": "#EBF0F8",
            "gridwidth": 2
           },
           "zaxis": {
            "backgroundcolor": "white",
            "gridcolor": "#DFE8F3",
            "linecolor": "#EBF0F8",
            "showbackground": true,
            "ticks": "",
            "zerolinecolor": "#EBF0F8",
            "gridwidth": 2
           }
          },
          "shapedefaults": {
           "line": {
            "color": "#2a3f5f"
           }
          },
          "annotationdefaults": {
           "arrowcolor": "#2a3f5f",
           "arrowhead": 0,
           "arrowwidth": 1
          },
          "geo": {
           "bgcolor": "white",
           "landcolor": "white",
           "subunitcolor": "#C8D4E3",
           "showland": true,
           "showlakes": true,
           "lakecolor": "white"
          },
          "title": {
           "x": 0.05
          },
          "mapbox": {
           "style": "light"
          }
         }
        },
        "xaxis": {
         "anchor": "y",
         "domain": [
          0.0,
          1.0
         ],
         "title": {
          "text": "Metric"
         }
        },
        "yaxis": {
         "anchor": "x",
         "domain": [
          0.0,
          1.0
         ],
         "title": {
          "text": "Value"
         },
         "range": [
          0.55,
          1.0
         ]
        },
        "legend": {
         "title": {
          "text": "Language, Lemmatized"
         },
         "tracegroupgap": 0
        },
        "margin": {
         "t": 60
        },
        "barmode": "group"
       },
       "config": {
        "plotlyServerURL": "https://plot.ly"
       }
      },
      "text/html": "<div>                            <div id=\"56e083a1-e775-4437-a189-8c26431b4770\" class=\"plotly-graph-div\" style=\"height:525px; width:100%;\"></div>            <script type=\"text/javascript\">                require([\"plotly\"], function(Plotly) {                    window.PLOTLYENV=window.PLOTLYENV || {};                                    if (document.getElementById(\"56e083a1-e775-4437-a189-8c26431b4770\")) {                    Plotly.newPlot(                        \"56e083a1-e775-4437-a189-8c26431b4770\",                        [{\"alignmentgroup\":\"True\",\"hovertemplate\":\"Language=Basque\\u003cbr\\u003eLemmatized=False\\u003cbr\\u003eMetric=%{x}\\u003cbr\\u003eValue=%{y}\\u003cextra\\u003e\\u003c\\u002fextra\\u003e\",\"legendgroup\":\"Basque, False\",\"marker\":{\"color\":\"#636efa\",\"pattern\":{\"shape\":\"\"}},\"name\":\"Basque, False\",\"offsetgroup\":\"Basque, False\",\"orientation\":\"v\",\"showlegend\":true,\"textposition\":\"auto\",\"x\":[\"accuracy\",\"macro-precision\",\"macro-recall\",\"macro-f1\",\"micro-precision\",\"micro-recall\",\"micro-f1\"],\"xaxis\":\"x\",\"y\":[0.827972429638139,0.7524609809227981,0.6564038719797978,0.6875227344109504,0.827972429638139,0.827972429638139,0.827972429638139],\"yaxis\":\"y\",\"type\":\"bar\"},{\"alignmentgroup\":\"True\",\"hovertemplate\":\"Language=Basque\\u003cbr\\u003eLemmatized=True\\u003cbr\\u003eMetric=%{x}\\u003cbr\\u003eValue=%{y}\\u003cextra\\u003e\\u003c\\u002fextra\\u003e\",\"legendgroup\":\"Basque, True\",\"marker\":{\"color\":\"#636efa\",\"pattern\":{\"shape\":\"\\u002f\"}},\"name\":\"Basque, True\",\"offsetgroup\":\"Basque, True\",\"orientation\":\"v\",\"showlegend\":true,\"textposition\":\"auto\",\"x\":[\"accuracy\",\"macro-precision\",\"macro-recall\",\"macro-f1\",\"micro-precision\",\"micro-recall\",\"micro-f1\"],\"xaxis\":\"x\",\"y\":[0.9135144005907935,0.8433561530125336,0.7888404424429563,0.7912614265589949,0.9135144005907935,0.9135144005907935,0.9135144005907935],\"yaxis\":\"y\",\"type\":\"bar\"},{\"alignmentgroup\":\"True\",\"hovertemplate\":\"Language=Japanese\\u003cbr\\u003eLemmatized=False\\u003cbr\\u003eMetric=%{x}\\u003cbr\\u003eValue=%{y}\\u003cextra\\u003e\\u003c\\u002fextra\\u003e\",\"legendgroup\":\"Japanese, False\",\"marker\":{\"color\":\"#EF553B\",\"pattern\":{\"shape\":\"\"}},\"name\":\"Japanese, False\",\"offsetgroup\":\"Japanese, False\",\"orientation\":\"v\",\"showlegend\":true,\"textposition\":\"auto\",\"x\":[\"accuracy\",\"macro-precision\",\"macro-recall\",\"macro-f1\",\"micro-precision\",\"micro-recall\",\"micro-f1\"],\"xaxis\":\"x\",\"y\":[0.906398649685438,0.8155521335683944,0.8124315295683087,0.8032788352572802,0.906398649685438,0.906398649685438,0.9063986496854379],\"yaxis\":\"y\",\"type\":\"bar\"},{\"alignmentgroup\":\"True\",\"hovertemplate\":\"Language=Japanese\\u003cbr\\u003eLemmatized=True\\u003cbr\\u003eMetric=%{x}\\u003cbr\\u003eValue=%{y}\\u003cextra\\u003e\\u003c\\u002fextra\\u003e\",\"legendgroup\":\"Japanese, True\",\"marker\":{\"color\":\"#EF553B\",\"pattern\":{\"shape\":\"\\u002f\"}},\"name\":\"Japanese, True\",\"offsetgroup\":\"Japanese, True\",\"orientation\":\"v\",\"showlegend\":true,\"textposition\":\"auto\",\"x\":[\"accuracy\",\"macro-precision\",\"macro-recall\",\"macro-f1\",\"micro-precision\",\"micro-recall\",\"micro-f1\"],\"xaxis\":\"x\",\"y\":[0.935246278962713,0.8358926891802694,0.8520850107697191,0.8361201222127372,0.935246278962713,0.935246278962713,0.935246278962713],\"yaxis\":\"y\",\"type\":\"bar\"}],                        {\"template\":{\"data\":{\"histogram2dcontour\":[{\"type\":\"histogram2dcontour\",\"colorbar\":{\"outlinewidth\":0,\"ticks\":\"\"},\"colorscale\":[[0.0,\"#0d0887\"],[0.1111111111111111,\"#46039f\"],[0.2222222222222222,\"#7201a8\"],[0.3333333333333333,\"#9c179e\"],[0.4444444444444444,\"#bd3786\"],[0.5555555555555556,\"#d8576b\"],[0.6666666666666666,\"#ed7953\"],[0.7777777777777778,\"#fb9f3a\"],[0.8888888888888888,\"#fdca26\"],[1.0,\"#f0f921\"]]}],\"choropleth\":[{\"type\":\"choropleth\",\"colorbar\":{\"outlinewidth\":0,\"ticks\":\"\"}}],\"histogram2d\":[{\"type\":\"histogram2d\",\"colorbar\":{\"outlinewidth\":0,\"ticks\":\"\"},\"colorscale\":[[0.0,\"#0d0887\"],[0.1111111111111111,\"#46039f\"],[0.2222222222222222,\"#7201a8\"],[0.3333333333333333,\"#9c179e\"],[0.4444444444444444,\"#bd3786\"],[0.5555555555555556,\"#d8576b\"],[0.6666666666666666,\"#ed7953\"],[0.7777777777777778,\"#fb9f3a\"],[0.8888888888888888,\"#fdca26\"],[1.0,\"#f0f921\"]]}],\"heatmap\":[{\"type\":\"heatmap\",\"colorbar\":{\"outlinewidth\":0,\"ticks\":\"\"},\"colorscale\":[[0.0,\"#0d0887\"],[0.1111111111111111,\"#46039f\"],[0.2222222222222222,\"#7201a8\"],[0.3333333333333333,\"#9c179e\"],[0.4444444444444444,\"#bd3786\"],[0.5555555555555556,\"#d8576b\"],[0.6666666666666666,\"#ed7953\"],[0.7777777777777778,\"#fb9f3a\"],[0.8888888888888888,\"#fdca26\"],[1.0,\"#f0f921\"]]}],\"heatmapgl\":[{\"type\":\"heatmapgl\",\"colorbar\":{\"outlinewidth\":0,\"ticks\":\"\"},\"colorscale\":[[0.0,\"#0d0887\"],[0.1111111111111111,\"#46039f\"],[0.2222222222222222,\"#7201a8\"],[0.3333333333333333,\"#9c179e\"],[0.4444444444444444,\"#bd3786\"],[0.5555555555555556,\"#d8576b\"],[0.6666666666666666,\"#ed7953\"],[0.7777777777777778,\"#fb9f3a\"],[0.8888888888888888,\"#fdca26\"],[1.0,\"#f0f921\"]]}],\"contourcarpet\":[{\"type\":\"contourcarpet\",\"colorbar\":{\"outlinewidth\":0,\"ticks\":\"\"}}],\"contour\":[{\"type\":\"contour\",\"colorbar\":{\"outlinewidth\":0,\"ticks\":\"\"},\"colorscale\":[[0.0,\"#0d0887\"],[0.1111111111111111,\"#46039f\"],[0.2222222222222222,\"#7201a8\"],[0.3333333333333333,\"#9c179e\"],[0.4444444444444444,\"#bd3786\"],[0.5555555555555556,\"#d8576b\"],[0.6666666666666666,\"#ed7953\"],[0.7777777777777778,\"#fb9f3a\"],[0.8888888888888888,\"#fdca26\"],[1.0,\"#f0f921\"]]}],\"surface\":[{\"type\":\"surface\",\"colorbar\":{\"outlinewidth\":0,\"ticks\":\"\"},\"colorscale\":[[0.0,\"#0d0887\"],[0.1111111111111111,\"#46039f\"],[0.2222222222222222,\"#7201a8\"],[0.3333333333333333,\"#9c179e\"],[0.4444444444444444,\"#bd3786\"],[0.5555555555555556,\"#d8576b\"],[0.6666666666666666,\"#ed7953\"],[0.7777777777777778,\"#fb9f3a\"],[0.8888888888888888,\"#fdca26\"],[1.0,\"#f0f921\"]]}],\"mesh3d\":[{\"type\":\"mesh3d\",\"colorbar\":{\"outlinewidth\":0,\"ticks\":\"\"}}],\"scatter\":[{\"fillpattern\":{\"fillmode\":\"overlay\",\"size\":10,\"solidity\":0.2},\"type\":\"scatter\"}],\"parcoords\":[{\"type\":\"parcoords\",\"line\":{\"colorbar\":{\"outlinewidth\":0,\"ticks\":\"\"}}}],\"scatterpolargl\":[{\"type\":\"scatterpolargl\",\"marker\":{\"colorbar\":{\"outlinewidth\":0,\"ticks\":\"\"}}}],\"bar\":[{\"error_x\":{\"color\":\"#2a3f5f\"},\"error_y\":{\"color\":\"#2a3f5f\"},\"marker\":{\"line\":{\"color\":\"white\",\"width\":0.5},\"pattern\":{\"fillmode\":\"overlay\",\"size\":10,\"solidity\":0.2}},\"type\":\"bar\"}],\"scattergeo\":[{\"type\":\"scattergeo\",\"marker\":{\"colorbar\":{\"outlinewidth\":0,\"ticks\":\"\"}}}],\"scatterpolar\":[{\"type\":\"scatterpolar\",\"marker\":{\"colorbar\":{\"outlinewidth\":0,\"ticks\":\"\"}}}],\"histogram\":[{\"marker\":{\"pattern\":{\"fillmode\":\"overlay\",\"size\":10,\"solidity\":0.2}},\"type\":\"histogram\"}],\"scattergl\":[{\"type\":\"scattergl\",\"marker\":{\"colorbar\":{\"outlinewidth\":0,\"ticks\":\"\"}}}],\"scatter3d\":[{\"type\":\"scatter3d\",\"line\":{\"colorbar\":{\"outlinewidth\":0,\"ticks\":\"\"}},\"marker\":{\"colorbar\":{\"outlinewidth\":0,\"ticks\":\"\"}}}],\"scattermapbox\":[{\"type\":\"scattermapbox\",\"marker\":{\"colorbar\":{\"outlinewidth\":0,\"ticks\":\"\"}}}],\"scatterternary\":[{\"type\":\"scatterternary\",\"marker\":{\"colorbar\":{\"outlinewidth\":0,\"ticks\":\"\"}}}],\"scattercarpet\":[{\"type\":\"scattercarpet\",\"marker\":{\"colorbar\":{\"outlinewidth\":0,\"ticks\":\"\"}}}],\"carpet\":[{\"aaxis\":{\"endlinecolor\":\"#2a3f5f\",\"gridcolor\":\"#C8D4E3\",\"linecolor\":\"#C8D4E3\",\"minorgridcolor\":\"#C8D4E3\",\"startlinecolor\":\"#2a3f5f\"},\"baxis\":{\"endlinecolor\":\"#2a3f5f\",\"gridcolor\":\"#C8D4E3\",\"linecolor\":\"#C8D4E3\",\"minorgridcolor\":\"#C8D4E3\",\"startlinecolor\":\"#2a3f5f\"},\"type\":\"carpet\"}],\"table\":[{\"cells\":{\"fill\":{\"color\":\"#EBF0F8\"},\"line\":{\"color\":\"white\"}},\"header\":{\"fill\":{\"color\":\"#C8D4E3\"},\"line\":{\"color\":\"white\"}},\"type\":\"table\"}],\"barpolar\":[{\"marker\":{\"line\":{\"color\":\"white\",\"width\":0.5},\"pattern\":{\"fillmode\":\"overlay\",\"size\":10,\"solidity\":0.2}},\"type\":\"barpolar\"}],\"pie\":[{\"automargin\":true,\"type\":\"pie\"}]},\"layout\":{\"autotypenumbers\":\"strict\",\"colorway\":[\"#636efa\",\"#EF553B\",\"#00cc96\",\"#ab63fa\",\"#FFA15A\",\"#19d3f3\",\"#FF6692\",\"#B6E880\",\"#FF97FF\",\"#FECB52\"],\"font\":{\"color\":\"#2a3f5f\"},\"hovermode\":\"closest\",\"hoverlabel\":{\"align\":\"left\"},\"paper_bgcolor\":\"white\",\"plot_bgcolor\":\"white\",\"polar\":{\"bgcolor\":\"white\",\"angularaxis\":{\"gridcolor\":\"#EBF0F8\",\"linecolor\":\"#EBF0F8\",\"ticks\":\"\"},\"radialaxis\":{\"gridcolor\":\"#EBF0F8\",\"linecolor\":\"#EBF0F8\",\"ticks\":\"\"}},\"ternary\":{\"bgcolor\":\"white\",\"aaxis\":{\"gridcolor\":\"#DFE8F3\",\"linecolor\":\"#A2B1C6\",\"ticks\":\"\"},\"baxis\":{\"gridcolor\":\"#DFE8F3\",\"linecolor\":\"#A2B1C6\",\"ticks\":\"\"},\"caxis\":{\"gridcolor\":\"#DFE8F3\",\"linecolor\":\"#A2B1C6\",\"ticks\":\"\"}},\"coloraxis\":{\"colorbar\":{\"outlinewidth\":0,\"ticks\":\"\"}},\"colorscale\":{\"sequential\":[[0.0,\"#0d0887\"],[0.1111111111111111,\"#46039f\"],[0.2222222222222222,\"#7201a8\"],[0.3333333333333333,\"#9c179e\"],[0.4444444444444444,\"#bd3786\"],[0.5555555555555556,\"#d8576b\"],[0.6666666666666666,\"#ed7953\"],[0.7777777777777778,\"#fb9f3a\"],[0.8888888888888888,\"#fdca26\"],[1.0,\"#f0f921\"]],\"sequentialminus\":[[0.0,\"#0d0887\"],[0.1111111111111111,\"#46039f\"],[0.2222222222222222,\"#7201a8\"],[0.3333333333333333,\"#9c179e\"],[0.4444444444444444,\"#bd3786\"],[0.5555555555555556,\"#d8576b\"],[0.6666666666666666,\"#ed7953\"],[0.7777777777777778,\"#fb9f3a\"],[0.8888888888888888,\"#fdca26\"],[1.0,\"#f0f921\"]],\"diverging\":[[0,\"#8e0152\"],[0.1,\"#c51b7d\"],[0.2,\"#de77ae\"],[0.3,\"#f1b6da\"],[0.4,\"#fde0ef\"],[0.5,\"#f7f7f7\"],[0.6,\"#e6f5d0\"],[0.7,\"#b8e186\"],[0.8,\"#7fbc41\"],[0.9,\"#4d9221\"],[1,\"#276419\"]]},\"xaxis\":{\"gridcolor\":\"#EBF0F8\",\"linecolor\":\"#EBF0F8\",\"ticks\":\"\",\"title\":{\"standoff\":15},\"zerolinecolor\":\"#EBF0F8\",\"automargin\":true,\"zerolinewidth\":2},\"yaxis\":{\"gridcolor\":\"#EBF0F8\",\"linecolor\":\"#EBF0F8\",\"ticks\":\"\",\"title\":{\"standoff\":15},\"zerolinecolor\":\"#EBF0F8\",\"automargin\":true,\"zerolinewidth\":2},\"scene\":{\"xaxis\":{\"backgroundcolor\":\"white\",\"gridcolor\":\"#DFE8F3\",\"linecolor\":\"#EBF0F8\",\"showbackground\":true,\"ticks\":\"\",\"zerolinecolor\":\"#EBF0F8\",\"gridwidth\":2},\"yaxis\":{\"backgroundcolor\":\"white\",\"gridcolor\":\"#DFE8F3\",\"linecolor\":\"#EBF0F8\",\"showbackground\":true,\"ticks\":\"\",\"zerolinecolor\":\"#EBF0F8\",\"gridwidth\":2},\"zaxis\":{\"backgroundcolor\":\"white\",\"gridcolor\":\"#DFE8F3\",\"linecolor\":\"#EBF0F8\",\"showbackground\":true,\"ticks\":\"\",\"zerolinecolor\":\"#EBF0F8\",\"gridwidth\":2}},\"shapedefaults\":{\"line\":{\"color\":\"#2a3f5f\"}},\"annotationdefaults\":{\"arrowcolor\":\"#2a3f5f\",\"arrowhead\":0,\"arrowwidth\":1},\"geo\":{\"bgcolor\":\"white\",\"landcolor\":\"white\",\"subunitcolor\":\"#C8D4E3\",\"showland\":true,\"showlakes\":true,\"lakecolor\":\"white\"},\"title\":{\"x\":0.05},\"mapbox\":{\"style\":\"light\"}}},\"xaxis\":{\"anchor\":\"y\",\"domain\":[0.0,1.0],\"title\":{\"text\":\"Metric\"}},\"yaxis\":{\"anchor\":\"x\",\"domain\":[0.0,1.0],\"title\":{\"text\":\"Value\"},\"range\":[0.55,1.0]},\"legend\":{\"title\":{\"text\":\"Language, Lemmatized\"},\"tracegroupgap\":0},\"margin\":{\"t\":60},\"barmode\":\"group\"},                        {\"responsive\": true}                    ).then(function(){\n                            \nvar gd = document.getElementById('56e083a1-e775-4437-a189-8c26431b4770');\nvar x = new MutationObserver(function (mutations, observer) {{\n        var display = window.getComputedStyle(gd).display;\n        if (!display || display === 'none') {{\n            console.log([gd, 'removed!']);\n            Plotly.purge(gd);\n            observer.disconnect();\n        }}\n}});\n\n// Listen for the removal of the full notebook cells\nvar notebookContainer = gd.closest('#notebook-container');\nif (notebookContainer) {{\n    x.observe(notebookContainer, {childList: true});\n}}\n\n// Listen for the clearing of the current output cell\nvar outputEl = gd.closest('.output');\nif (outputEl) {{\n    x.observe(outputEl, {childList: true});\n}}\n\n                        })                };                });            </script>        </div>"
     },
     "metadata": {},
     "output_type": "display_data"
    }
   ],
   "source": [
    "eval_metrics_df_ = eval_metrics_df[eval_metrics_df['Metric'] != 'perplexity']\n",
    "fig = px.bar(eval_metrics_df_, x='Metric', y='Value', color='Language', pattern_shape='Lemmatized', barmode='group', range_y=[0.55, 1.])\n",
    "fig.show()"
   ],
   "metadata": {
    "collapsed": false,
    "ExecuteTime": {
     "end_time": "2023-11-05T22:10:56.311230500Z",
     "start_time": "2023-11-05T22:10:56.229208600Z"
    }
   },
   "id": "921015284738a51d"
  },
  {
   "cell_type": "markdown",
   "source": [
    "In the following table, some metric for the model evaluation are shown, in non lemmatized and lemmatized data. It can be observed that the model performs a lot better with lemmatized data.\n",
    "\n",
    "In the following table, some metric for the model evaluation are shown for the japanese data, in both non lemmatized and lemmatized data. It can be observed that, as it happens with Basque, the model performs better with lemmatized data, but the difference is smaller than in Basque."
   ],
   "metadata": {
    "collapsed": false
   },
   "id": "a45900d5c139fd4b"
  },
  {
   "cell_type": "markdown",
   "source": [
    "### Evaluation based on the length of the sentences"
   ],
   "metadata": {
    "collapsed": false
   },
   "id": "327ed08bdab3eea2"
  },
  {
   "cell_type": "markdown",
   "source": [
    "##### Confusion matrix"
   ],
   "metadata": {
    "collapsed": false
   },
   "id": "6fb2a2c148d24320"
  },
  {
   "cell_type": "code",
   "execution_count": 17,
   "outputs": [],
   "source": [
    "\n",
    "\n",
    "# Basque evaluation based on the length of the sentences\n",
    "_datasets = [\n",
    "    {'language': 'basque', 'lemmatized': False, 'dataset': deepcopy(eval_metrics_basque['per_sentence']), 'sentences': defaultdict(list)},\n",
    "    {'language': 'basque', 'lemmatized': True, 'dataset': deepcopy(eval_metrics_basque_lemmatized['per_sentence']), 'sentences': defaultdict(list)},\n",
    "    {'language': 'japanese', 'lemmatized': False, 'dataset': deepcopy(eval_metrics_japanese['per_sentence']), 'sentences': defaultdict(list)},\n",
    "    {'language': 'japanese', 'lemmatized': True, 'dataset': deepcopy(eval_metrics_japanese_lemmatized['per_sentence']), 'sentences': defaultdict(list)},\n",
    "]\n",
    "\n",
    "# flatten dict\n",
    "for dataset in _datasets:\n",
    "    sentences = dataset['sentences']\n",
    "    dataset = dataset['dataset']\n",
    "    for instance in dataset:\n",
    "        sentences[instance['length']].append(instance['sentence'])\n",
    "        del instance['sentence']\n",
    "        del instance['per_tag']\n",
    "        for key, value in list(instance.items()):\n",
    "            if isinstance(value, dict):\n",
    "                for k, v in value.items():\n",
    "                    instance[f'{key}-{k}'] = v\n",
    "                del instance[key]\n",
    "\n",
    "_dfs = []\n",
    "for dataset in _datasets:\n",
    "    _df = pd.DataFrame(dataset['dataset'])\n",
    "    _df['language'] = dataset['language']\n",
    "    _df['lemmatized'] = dataset['lemmatized']\n",
    "    _dfs.append(_df)\n",
    "df = pd.concat(_dfs)\n",
    "\n",
    "# Group by length\n",
    "df = df.groupby(['length', 'lemmatized', 'language']).agg(['mean', 'std']).reset_index()\n",
    "df.columns = [f'{col[0]}-{col[1]}' if col[1] else col[0] for col in df.columns if len(col) > 1]"
   ],
   "metadata": {
    "collapsed": false,
    "ExecuteTime": {
     "end_time": "2023-11-05T22:10:56.919470900Z",
     "start_time": "2023-11-05T22:10:56.314241200Z"
    }
   },
   "id": "dcba867d8afb281c"
  },
  {
   "cell_type": "code",
   "execution_count": 18,
   "outputs": [
    {
     "data": {
      "application/vnd.plotly.v1+json": {
       "data": [
        {
         "hovertemplate": "language=japanese<br>lemmatized=False<br>length=%{x}<br>accuracy-mean=%{y}<extra></extra>",
         "legendgroup": "japanese, False",
         "line": {
          "color": "#636efa",
          "dash": "solid"
         },
         "marker": {
          "symbol": "circle"
         },
         "mode": "lines",
         "name": "japanese, False",
         "orientation": "v",
         "showlegend": true,
         "x": [
          2,
          3,
          4,
          5,
          6,
          7,
          8,
          9,
          10,
          11,
          12,
          13,
          14,
          15,
          16,
          17,
          18,
          19,
          20,
          21,
          22,
          23,
          24,
          25,
          26,
          27,
          28,
          29,
          30,
          31,
          32,
          33,
          34,
          35,
          36,
          37,
          38,
          39,
          40,
          41,
          42,
          43,
          44,
          45,
          46,
          47,
          48,
          49,
          50,
          51,
          53,
          54,
          55,
          56,
          57,
          59,
          61,
          63,
          66,
          67,
          68,
          69,
          75,
          85,
          115,
          127,
          136
         ],
         "xaxis": "x2",
         "y": [
          1.0,
          0.8666666666666666,
          0.8611111111111112,
          0.8,
          0.9166666666666666,
          0.901098901098901,
          0.8645833333333334,
          0.8461538461538461,
          0.93125,
          0.9090909090909092,
          0.9010416666666666,
          0.8557692307692308,
          0.9285714285714286,
          0.9372549019607843,
          0.9208333333333333,
          0.9019607843137255,
          0.9116161616161617,
          0.9071207430340557,
          0.8821428571428571,
          0.873015873015873,
          0.9090909090909091,
          0.9359267734553774,
          0.9212962962962963,
          0.88,
          0.9065934065934067,
          0.9135802469135802,
          0.8794642857142857,
          0.894088669950739,
          0.9545454545454546,
          0.8911290322580645,
          0.90625,
          0.9004329004329004,
          0.9019607843137255,
          0.9085714285714286,
          0.9,
          0.9459459459459459,
          0.9385964912280702,
          0.9166666666666667,
          0.925,
          0.8878048780487806,
          0.9149659863945578,
          0.930232558139535,
          0.9217171717171717,
          0.8999999999999999,
          0.9021739130434783,
          0.46808510638297873,
          0.9236111111111112,
          0.8979591836734694,
          0.885,
          0.9313725490196079,
          0.9811320754716981,
          0.9259259259259259,
          0.915151515151515,
          0.9107142857142857,
          0.9649122807017544,
          0.9491525423728814,
          0.9344262295081968,
          0.9682539682539683,
          0.9242424242424242,
          0.8805970149253731,
          0.9411764705882353,
          0.927536231884058,
          0.9066666666666666,
          0.9176470588235294,
          0.9304347826086956,
          0.8976377952755905,
          0.9558823529411765
         ],
         "yaxis": "y2",
         "type": "scatter"
        },
        {
         "hovertemplate": "language=japanese<br>lemmatized=True<br>length=%{x}<br>accuracy-mean=%{y}<extra></extra>",
         "legendgroup": "japanese, True",
         "line": {
          "color": "#636efa",
          "dash": "dot"
         },
         "marker": {
          "symbol": "circle"
         },
         "mode": "lines",
         "name": "japanese, True",
         "orientation": "v",
         "showlegend": true,
         "x": [
          2,
          3,
          4,
          5,
          6,
          7,
          8,
          9,
          10,
          11,
          12,
          13,
          14,
          15,
          16,
          17,
          18,
          19,
          20,
          21,
          22,
          23,
          24,
          25,
          26,
          27,
          28,
          29,
          30,
          31,
          32,
          33,
          34,
          35,
          36,
          37,
          38,
          39,
          40,
          41,
          42,
          43,
          44,
          45,
          46,
          47,
          48,
          49,
          50,
          51,
          53,
          54,
          55,
          56,
          57,
          59,
          61,
          63,
          66,
          67,
          68,
          69,
          75,
          85,
          115,
          127,
          136
         ],
         "xaxis": "x2",
         "y": [
          1.0,
          0.9333333333333332,
          0.9166666666666666,
          0.86,
          0.9305555555555555,
          0.9340659340659341,
          0.9166666666666666,
          0.9145299145299146,
          0.9625,
          0.9469696969696969,
          0.9375,
          0.8846153846153846,
          0.9523809523809523,
          0.9568627450980391,
          0.9375,
          0.9436274509803922,
          0.9419191919191919,
          0.9256965944272446,
          0.9214285714285715,
          0.9384920634920634,
          0.9335664335664335,
          0.9519450800915331,
          0.9351851851851851,
          0.96,
          0.9395604395604396,
          0.9320987654320988,
          0.9308035714285714,
          0.9334975369458128,
          0.9636363636363636,
          0.9233870967741935,
          0.9403409090909091,
          0.9264069264069263,
          0.9166666666666666,
          0.96,
          0.9277777777777777,
          0.9575289575289575,
          0.956140350877193,
          0.9423076923076923,
          0.96875,
          0.9317073170731707,
          0.9319727891156463,
          0.9431524547803617,
          0.9570707070707071,
          0.8999999999999999,
          0.9483695652173914,
          0.4787234042553192,
          0.9305555555555557,
          0.8979591836734694,
          0.915,
          0.9705882352941176,
          0.9811320754716981,
          0.9259259259259259,
          0.9454545454545454,
          0.9196428571428571,
          0.9824561403508771,
          0.9661016949152543,
          0.9836065573770492,
          0.9841269841269841,
          0.9393939393939394,
          0.8955223880597015,
          0.9558823529411765,
          0.9565217391304348,
          0.9066666666666666,
          0.9529411764705882,
          0.9391304347826087,
          0.937007874015748,
          0.9485294117647058
         ],
         "yaxis": "y2",
         "type": "scatter"
        },
        {
         "hovertemplate": "language=basque<br>lemmatized=False<br>length=%{x}<br>accuracy-mean=%{y}<extra></extra>",
         "legendgroup": "basque, False",
         "line": {
          "color": "#EF553B",
          "dash": "solid"
         },
         "marker": {
          "symbol": "circle"
         },
         "mode": "lines",
         "name": "basque, False",
         "orientation": "v",
         "showlegend": true,
         "x": [
          3,
          4,
          5,
          6,
          7,
          8,
          9,
          10,
          11,
          12,
          13,
          14,
          15,
          16,
          17,
          18,
          19,
          20,
          21,
          22,
          23,
          24,
          25,
          26,
          27,
          28,
          29,
          30,
          31,
          32,
          33,
          34,
          35,
          38,
          39
         ],
         "xaxis": "x",
         "y": [
          0.6388888888888888,
          0.775,
          0.8137931034482759,
          0.8265993265993266,
          0.8295739348370927,
          0.8455882352941176,
          0.8314176245210728,
          0.8211382113821138,
          0.8199300699300699,
          0.8317610062893083,
          0.835076923076923,
          0.8263157894736842,
          0.8284848484848485,
          0.8269927536231884,
          0.8346020761245674,
          0.8251028806584363,
          0.8338815789473684,
          0.8254237288135594,
          0.8250517598343684,
          0.8359683794466403,
          0.8347826086956522,
          0.8225308641975309,
          0.8314285714285715,
          0.8238866396761133,
          0.7847222222222222,
          0.8418367346938777,
          0.8,
          0.8333333333333334,
          0.8266129032258065,
          0.815625,
          0.8181818181818182,
          0.8529411764705882,
          0.8714285714285714,
          0.6842105263157895,
          0.8974358974358975
         ],
         "yaxis": "y",
         "type": "scatter"
        },
        {
         "hovertemplate": "language=basque<br>lemmatized=True<br>length=%{x}<br>accuracy-mean=%{y}<extra></extra>",
         "legendgroup": "basque, True",
         "line": {
          "color": "#EF553B",
          "dash": "dot"
         },
         "marker": {
          "symbol": "circle"
         },
         "mode": "lines",
         "name": "basque, True",
         "orientation": "v",
         "showlegend": true,
         "x": [
          3,
          4,
          5,
          6,
          7,
          8,
          9,
          10,
          11,
          12,
          13,
          14,
          15,
          16,
          17,
          18,
          19,
          20,
          21,
          22,
          23,
          24,
          25,
          26,
          27,
          28,
          29,
          30,
          31,
          32,
          33,
          34,
          35,
          38,
          39
         ],
         "xaxis": "x",
         "y": [
          0.9444444444444443,
          0.8833333333333333,
          0.896551724137931,
          0.9141414141414141,
          0.9110275689223059,
          0.9086134453781513,
          0.910919540229885,
          0.9130081300813008,
          0.9108391608391609,
          0.9150943396226415,
          0.9187692307692308,
          0.9210526315789473,
          0.9145454545454544,
          0.9193840579710145,
          0.9100346020761245,
          0.9022633744855967,
          0.9111842105263158,
          0.9186440677966102,
          0.9120082815734989,
          0.9268774703557312,
          0.9217391304347826,
          0.9074074074074074,
          0.9157142857142857,
          0.902834008097166,
          0.9027777777777778,
          0.8979591836734694,
          0.8965517241379309,
          0.9444444444444445,
          0.9233870967741935,
          0.90625,
          0.8181818181818182,
          0.9529411764705882,
          0.9571428571428571,
          0.8157894736842105,
          0.9743589743589743
         ],
         "yaxis": "y",
         "type": "scatter"
        }
       ],
       "layout": {
        "template": {
         "data": {
          "histogram2dcontour": [
           {
            "type": "histogram2dcontour",
            "colorbar": {
             "outlinewidth": 0,
             "ticks": ""
            },
            "colorscale": [
             [
              0.0,
              "#0d0887"
             ],
             [
              0.1111111111111111,
              "#46039f"
             ],
             [
              0.2222222222222222,
              "#7201a8"
             ],
             [
              0.3333333333333333,
              "#9c179e"
             ],
             [
              0.4444444444444444,
              "#bd3786"
             ],
             [
              0.5555555555555556,
              "#d8576b"
             ],
             [
              0.6666666666666666,
              "#ed7953"
             ],
             [
              0.7777777777777778,
              "#fb9f3a"
             ],
             [
              0.8888888888888888,
              "#fdca26"
             ],
             [
              1.0,
              "#f0f921"
             ]
            ]
           }
          ],
          "choropleth": [
           {
            "type": "choropleth",
            "colorbar": {
             "outlinewidth": 0,
             "ticks": ""
            }
           }
          ],
          "histogram2d": [
           {
            "type": "histogram2d",
            "colorbar": {
             "outlinewidth": 0,
             "ticks": ""
            },
            "colorscale": [
             [
              0.0,
              "#0d0887"
             ],
             [
              0.1111111111111111,
              "#46039f"
             ],
             [
              0.2222222222222222,
              "#7201a8"
             ],
             [
              0.3333333333333333,
              "#9c179e"
             ],
             [
              0.4444444444444444,
              "#bd3786"
             ],
             [
              0.5555555555555556,
              "#d8576b"
             ],
             [
              0.6666666666666666,
              "#ed7953"
             ],
             [
              0.7777777777777778,
              "#fb9f3a"
             ],
             [
              0.8888888888888888,
              "#fdca26"
             ],
             [
              1.0,
              "#f0f921"
             ]
            ]
           }
          ],
          "heatmap": [
           {
            "type": "heatmap",
            "colorbar": {
             "outlinewidth": 0,
             "ticks": ""
            },
            "colorscale": [
             [
              0.0,
              "#0d0887"
             ],
             [
              0.1111111111111111,
              "#46039f"
             ],
             [
              0.2222222222222222,
              "#7201a8"
             ],
             [
              0.3333333333333333,
              "#9c179e"
             ],
             [
              0.4444444444444444,
              "#bd3786"
             ],
             [
              0.5555555555555556,
              "#d8576b"
             ],
             [
              0.6666666666666666,
              "#ed7953"
             ],
             [
              0.7777777777777778,
              "#fb9f3a"
             ],
             [
              0.8888888888888888,
              "#fdca26"
             ],
             [
              1.0,
              "#f0f921"
             ]
            ]
           }
          ],
          "heatmapgl": [
           {
            "type": "heatmapgl",
            "colorbar": {
             "outlinewidth": 0,
             "ticks": ""
            },
            "colorscale": [
             [
              0.0,
              "#0d0887"
             ],
             [
              0.1111111111111111,
              "#46039f"
             ],
             [
              0.2222222222222222,
              "#7201a8"
             ],
             [
              0.3333333333333333,
              "#9c179e"
             ],
             [
              0.4444444444444444,
              "#bd3786"
             ],
             [
              0.5555555555555556,
              "#d8576b"
             ],
             [
              0.6666666666666666,
              "#ed7953"
             ],
             [
              0.7777777777777778,
              "#fb9f3a"
             ],
             [
              0.8888888888888888,
              "#fdca26"
             ],
             [
              1.0,
              "#f0f921"
             ]
            ]
           }
          ],
          "contourcarpet": [
           {
            "type": "contourcarpet",
            "colorbar": {
             "outlinewidth": 0,
             "ticks": ""
            }
           }
          ],
          "contour": [
           {
            "type": "contour",
            "colorbar": {
             "outlinewidth": 0,
             "ticks": ""
            },
            "colorscale": [
             [
              0.0,
              "#0d0887"
             ],
             [
              0.1111111111111111,
              "#46039f"
             ],
             [
              0.2222222222222222,
              "#7201a8"
             ],
             [
              0.3333333333333333,
              "#9c179e"
             ],
             [
              0.4444444444444444,
              "#bd3786"
             ],
             [
              0.5555555555555556,
              "#d8576b"
             ],
             [
              0.6666666666666666,
              "#ed7953"
             ],
             [
              0.7777777777777778,
              "#fb9f3a"
             ],
             [
              0.8888888888888888,
              "#fdca26"
             ],
             [
              1.0,
              "#f0f921"
             ]
            ]
           }
          ],
          "surface": [
           {
            "type": "surface",
            "colorbar": {
             "outlinewidth": 0,
             "ticks": ""
            },
            "colorscale": [
             [
              0.0,
              "#0d0887"
             ],
             [
              0.1111111111111111,
              "#46039f"
             ],
             [
              0.2222222222222222,
              "#7201a8"
             ],
             [
              0.3333333333333333,
              "#9c179e"
             ],
             [
              0.4444444444444444,
              "#bd3786"
             ],
             [
              0.5555555555555556,
              "#d8576b"
             ],
             [
              0.6666666666666666,
              "#ed7953"
             ],
             [
              0.7777777777777778,
              "#fb9f3a"
             ],
             [
              0.8888888888888888,
              "#fdca26"
             ],
             [
              1.0,
              "#f0f921"
             ]
            ]
           }
          ],
          "mesh3d": [
           {
            "type": "mesh3d",
            "colorbar": {
             "outlinewidth": 0,
             "ticks": ""
            }
           }
          ],
          "scatter": [
           {
            "fillpattern": {
             "fillmode": "overlay",
             "size": 10,
             "solidity": 0.2
            },
            "type": "scatter"
           }
          ],
          "parcoords": [
           {
            "type": "parcoords",
            "line": {
             "colorbar": {
              "outlinewidth": 0,
              "ticks": ""
             }
            }
           }
          ],
          "scatterpolargl": [
           {
            "type": "scatterpolargl",
            "marker": {
             "colorbar": {
              "outlinewidth": 0,
              "ticks": ""
             }
            }
           }
          ],
          "bar": [
           {
            "error_x": {
             "color": "#2a3f5f"
            },
            "error_y": {
             "color": "#2a3f5f"
            },
            "marker": {
             "line": {
              "color": "white",
              "width": 0.5
             },
             "pattern": {
              "fillmode": "overlay",
              "size": 10,
              "solidity": 0.2
             }
            },
            "type": "bar"
           }
          ],
          "scattergeo": [
           {
            "type": "scattergeo",
            "marker": {
             "colorbar": {
              "outlinewidth": 0,
              "ticks": ""
             }
            }
           }
          ],
          "scatterpolar": [
           {
            "type": "scatterpolar",
            "marker": {
             "colorbar": {
              "outlinewidth": 0,
              "ticks": ""
             }
            }
           }
          ],
          "histogram": [
           {
            "marker": {
             "pattern": {
              "fillmode": "overlay",
              "size": 10,
              "solidity": 0.2
             }
            },
            "type": "histogram"
           }
          ],
          "scattergl": [
           {
            "type": "scattergl",
            "marker": {
             "colorbar": {
              "outlinewidth": 0,
              "ticks": ""
             }
            }
           }
          ],
          "scatter3d": [
           {
            "type": "scatter3d",
            "line": {
             "colorbar": {
              "outlinewidth": 0,
              "ticks": ""
             }
            },
            "marker": {
             "colorbar": {
              "outlinewidth": 0,
              "ticks": ""
             }
            }
           }
          ],
          "scattermapbox": [
           {
            "type": "scattermapbox",
            "marker": {
             "colorbar": {
              "outlinewidth": 0,
              "ticks": ""
             }
            }
           }
          ],
          "scatterternary": [
           {
            "type": "scatterternary",
            "marker": {
             "colorbar": {
              "outlinewidth": 0,
              "ticks": ""
             }
            }
           }
          ],
          "scattercarpet": [
           {
            "type": "scattercarpet",
            "marker": {
             "colorbar": {
              "outlinewidth": 0,
              "ticks": ""
             }
            }
           }
          ],
          "carpet": [
           {
            "aaxis": {
             "endlinecolor": "#2a3f5f",
             "gridcolor": "#C8D4E3",
             "linecolor": "#C8D4E3",
             "minorgridcolor": "#C8D4E3",
             "startlinecolor": "#2a3f5f"
            },
            "baxis": {
             "endlinecolor": "#2a3f5f",
             "gridcolor": "#C8D4E3",
             "linecolor": "#C8D4E3",
             "minorgridcolor": "#C8D4E3",
             "startlinecolor": "#2a3f5f"
            },
            "type": "carpet"
           }
          ],
          "table": [
           {
            "cells": {
             "fill": {
              "color": "#EBF0F8"
             },
             "line": {
              "color": "white"
             }
            },
            "header": {
             "fill": {
              "color": "#C8D4E3"
             },
             "line": {
              "color": "white"
             }
            },
            "type": "table"
           }
          ],
          "barpolar": [
           {
            "marker": {
             "line": {
              "color": "white",
              "width": 0.5
             },
             "pattern": {
              "fillmode": "overlay",
              "size": 10,
              "solidity": 0.2
             }
            },
            "type": "barpolar"
           }
          ],
          "pie": [
           {
            "automargin": true,
            "type": "pie"
           }
          ]
         },
         "layout": {
          "autotypenumbers": "strict",
          "colorway": [
           "#636efa",
           "#EF553B",
           "#00cc96",
           "#ab63fa",
           "#FFA15A",
           "#19d3f3",
           "#FF6692",
           "#B6E880",
           "#FF97FF",
           "#FECB52"
          ],
          "font": {
           "color": "#2a3f5f"
          },
          "hovermode": "closest",
          "hoverlabel": {
           "align": "left"
          },
          "paper_bgcolor": "white",
          "plot_bgcolor": "white",
          "polar": {
           "bgcolor": "white",
           "angularaxis": {
            "gridcolor": "#EBF0F8",
            "linecolor": "#EBF0F8",
            "ticks": ""
           },
           "radialaxis": {
            "gridcolor": "#EBF0F8",
            "linecolor": "#EBF0F8",
            "ticks": ""
           }
          },
          "ternary": {
           "bgcolor": "white",
           "aaxis": {
            "gridcolor": "#DFE8F3",
            "linecolor": "#A2B1C6",
            "ticks": ""
           },
           "baxis": {
            "gridcolor": "#DFE8F3",
            "linecolor": "#A2B1C6",
            "ticks": ""
           },
           "caxis": {
            "gridcolor": "#DFE8F3",
            "linecolor": "#A2B1C6",
            "ticks": ""
           }
          },
          "coloraxis": {
           "colorbar": {
            "outlinewidth": 0,
            "ticks": ""
           }
          },
          "colorscale": {
           "sequential": [
            [
             0.0,
             "#0d0887"
            ],
            [
             0.1111111111111111,
             "#46039f"
            ],
            [
             0.2222222222222222,
             "#7201a8"
            ],
            [
             0.3333333333333333,
             "#9c179e"
            ],
            [
             0.4444444444444444,
             "#bd3786"
            ],
            [
             0.5555555555555556,
             "#d8576b"
            ],
            [
             0.6666666666666666,
             "#ed7953"
            ],
            [
             0.7777777777777778,
             "#fb9f3a"
            ],
            [
             0.8888888888888888,
             "#fdca26"
            ],
            [
             1.0,
             "#f0f921"
            ]
           ],
           "sequentialminus": [
            [
             0.0,
             "#0d0887"
            ],
            [
             0.1111111111111111,
             "#46039f"
            ],
            [
             0.2222222222222222,
             "#7201a8"
            ],
            [
             0.3333333333333333,
             "#9c179e"
            ],
            [
             0.4444444444444444,
             "#bd3786"
            ],
            [
             0.5555555555555556,
             "#d8576b"
            ],
            [
             0.6666666666666666,
             "#ed7953"
            ],
            [
             0.7777777777777778,
             "#fb9f3a"
            ],
            [
             0.8888888888888888,
             "#fdca26"
            ],
            [
             1.0,
             "#f0f921"
            ]
           ],
           "diverging": [
            [
             0,
             "#8e0152"
            ],
            [
             0.1,
             "#c51b7d"
            ],
            [
             0.2,
             "#de77ae"
            ],
            [
             0.3,
             "#f1b6da"
            ],
            [
             0.4,
             "#fde0ef"
            ],
            [
             0.5,
             "#f7f7f7"
            ],
            [
             0.6,
             "#e6f5d0"
            ],
            [
             0.7,
             "#b8e186"
            ],
            [
             0.8,
             "#7fbc41"
            ],
            [
             0.9,
             "#4d9221"
            ],
            [
             1,
             "#276419"
            ]
           ]
          },
          "xaxis": {
           "gridcolor": "#EBF0F8",
           "linecolor": "#EBF0F8",
           "ticks": "",
           "title": {
            "standoff": 15
           },
           "zerolinecolor": "#EBF0F8",
           "automargin": true,
           "zerolinewidth": 2
          },
          "yaxis": {
           "gridcolor": "#EBF0F8",
           "linecolor": "#EBF0F8",
           "ticks": "",
           "title": {
            "standoff": 15
           },
           "zerolinecolor": "#EBF0F8",
           "automargin": true,
           "zerolinewidth": 2
          },
          "scene": {
           "xaxis": {
            "backgroundcolor": "white",
            "gridcolor": "#DFE8F3",
            "linecolor": "#EBF0F8",
            "showbackground": true,
            "ticks": "",
            "zerolinecolor": "#EBF0F8",
            "gridwidth": 2
           },
           "yaxis": {
            "backgroundcolor": "white",
            "gridcolor": "#DFE8F3",
            "linecolor": "#EBF0F8",
            "showbackground": true,
            "ticks": "",
            "zerolinecolor": "#EBF0F8",
            "gridwidth": 2
           },
           "zaxis": {
            "backgroundcolor": "white",
            "gridcolor": "#DFE8F3",
            "linecolor": "#EBF0F8",
            "showbackground": true,
            "ticks": "",
            "zerolinecolor": "#EBF0F8",
            "gridwidth": 2
           }
          },
          "shapedefaults": {
           "line": {
            "color": "#2a3f5f"
           }
          },
          "annotationdefaults": {
           "arrowcolor": "#2a3f5f",
           "arrowhead": 0,
           "arrowwidth": 1
          },
          "geo": {
           "bgcolor": "white",
           "landcolor": "white",
           "subunitcolor": "#C8D4E3",
           "showland": true,
           "showlakes": true,
           "lakecolor": "white"
          },
          "title": {
           "x": 0.05
          },
          "mapbox": {
           "style": "light"
          }
         }
        },
        "xaxis": {
         "anchor": "y",
         "domain": [
          0.0,
          0.98
         ],
         "title": {
          "text": "length"
         }
        },
        "yaxis": {
         "anchor": "x",
         "domain": [
          0.0,
          0.485
         ],
         "title": {
          "text": "accuracy-mean"
         }
        },
        "xaxis2": {
         "anchor": "y2",
         "domain": [
          0.0,
          0.98
         ],
         "matches": "x",
         "showticklabels": false
        },
        "yaxis2": {
         "anchor": "x2",
         "domain": [
          0.515,
          1.0
         ],
         "matches": "y",
         "title": {
          "text": "accuracy-mean"
         }
        },
        "annotations": [
         {
          "font": {},
          "showarrow": false,
          "text": "language=basque",
          "textangle": 90,
          "x": 0.98,
          "xanchor": "left",
          "xref": "paper",
          "y": 0.2425,
          "yanchor": "middle",
          "yref": "paper"
         },
         {
          "font": {},
          "showarrow": false,
          "text": "language=japanese",
          "textangle": 90,
          "x": 0.98,
          "xanchor": "left",
          "xref": "paper",
          "y": 0.7575000000000001,
          "yanchor": "middle",
          "yref": "paper"
         }
        ],
        "legend": {
         "title": {
          "text": "language, lemmatized"
         },
         "tracegroupgap": 0
        },
        "margin": {
         "t": 60
        }
       },
       "config": {
        "plotlyServerURL": "https://plot.ly"
       }
      },
      "text/html": "<div>                            <div id=\"0c3c6bfa-baaf-428c-8f42-86aa6975ca6f\" class=\"plotly-graph-div\" style=\"height:525px; width:100%;\"></div>            <script type=\"text/javascript\">                require([\"plotly\"], function(Plotly) {                    window.PLOTLYENV=window.PLOTLYENV || {};                                    if (document.getElementById(\"0c3c6bfa-baaf-428c-8f42-86aa6975ca6f\")) {                    Plotly.newPlot(                        \"0c3c6bfa-baaf-428c-8f42-86aa6975ca6f\",                        [{\"hovertemplate\":\"language=japanese\\u003cbr\\u003elemmatized=False\\u003cbr\\u003elength=%{x}\\u003cbr\\u003eaccuracy-mean=%{y}\\u003cextra\\u003e\\u003c\\u002fextra\\u003e\",\"legendgroup\":\"japanese, False\",\"line\":{\"color\":\"#636efa\",\"dash\":\"solid\"},\"marker\":{\"symbol\":\"circle\"},\"mode\":\"lines\",\"name\":\"japanese, False\",\"orientation\":\"v\",\"showlegend\":true,\"x\":[2,3,4,5,6,7,8,9,10,11,12,13,14,15,16,17,18,19,20,21,22,23,24,25,26,27,28,29,30,31,32,33,34,35,36,37,38,39,40,41,42,43,44,45,46,47,48,49,50,51,53,54,55,56,57,59,61,63,66,67,68,69,75,85,115,127,136],\"xaxis\":\"x2\",\"y\":[1.0,0.8666666666666666,0.8611111111111112,0.8,0.9166666666666666,0.901098901098901,0.8645833333333334,0.8461538461538461,0.93125,0.9090909090909092,0.9010416666666666,0.8557692307692308,0.9285714285714286,0.9372549019607843,0.9208333333333333,0.9019607843137255,0.9116161616161617,0.9071207430340557,0.8821428571428571,0.873015873015873,0.9090909090909091,0.9359267734553774,0.9212962962962963,0.88,0.9065934065934067,0.9135802469135802,0.8794642857142857,0.894088669950739,0.9545454545454546,0.8911290322580645,0.90625,0.9004329004329004,0.9019607843137255,0.9085714285714286,0.9,0.9459459459459459,0.9385964912280702,0.9166666666666667,0.925,0.8878048780487806,0.9149659863945578,0.930232558139535,0.9217171717171717,0.8999999999999999,0.9021739130434783,0.46808510638297873,0.9236111111111112,0.8979591836734694,0.885,0.9313725490196079,0.9811320754716981,0.9259259259259259,0.915151515151515,0.9107142857142857,0.9649122807017544,0.9491525423728814,0.9344262295081968,0.9682539682539683,0.9242424242424242,0.8805970149253731,0.9411764705882353,0.927536231884058,0.9066666666666666,0.9176470588235294,0.9304347826086956,0.8976377952755905,0.9558823529411765],\"yaxis\":\"y2\",\"type\":\"scatter\"},{\"hovertemplate\":\"language=japanese\\u003cbr\\u003elemmatized=True\\u003cbr\\u003elength=%{x}\\u003cbr\\u003eaccuracy-mean=%{y}\\u003cextra\\u003e\\u003c\\u002fextra\\u003e\",\"legendgroup\":\"japanese, True\",\"line\":{\"color\":\"#636efa\",\"dash\":\"dot\"},\"marker\":{\"symbol\":\"circle\"},\"mode\":\"lines\",\"name\":\"japanese, True\",\"orientation\":\"v\",\"showlegend\":true,\"x\":[2,3,4,5,6,7,8,9,10,11,12,13,14,15,16,17,18,19,20,21,22,23,24,25,26,27,28,29,30,31,32,33,34,35,36,37,38,39,40,41,42,43,44,45,46,47,48,49,50,51,53,54,55,56,57,59,61,63,66,67,68,69,75,85,115,127,136],\"xaxis\":\"x2\",\"y\":[1.0,0.9333333333333332,0.9166666666666666,0.86,0.9305555555555555,0.9340659340659341,0.9166666666666666,0.9145299145299146,0.9625,0.9469696969696969,0.9375,0.8846153846153846,0.9523809523809523,0.9568627450980391,0.9375,0.9436274509803922,0.9419191919191919,0.9256965944272446,0.9214285714285715,0.9384920634920634,0.9335664335664335,0.9519450800915331,0.9351851851851851,0.96,0.9395604395604396,0.9320987654320988,0.9308035714285714,0.9334975369458128,0.9636363636363636,0.9233870967741935,0.9403409090909091,0.9264069264069263,0.9166666666666666,0.96,0.9277777777777777,0.9575289575289575,0.956140350877193,0.9423076923076923,0.96875,0.9317073170731707,0.9319727891156463,0.9431524547803617,0.9570707070707071,0.8999999999999999,0.9483695652173914,0.4787234042553192,0.9305555555555557,0.8979591836734694,0.915,0.9705882352941176,0.9811320754716981,0.9259259259259259,0.9454545454545454,0.9196428571428571,0.9824561403508771,0.9661016949152543,0.9836065573770492,0.9841269841269841,0.9393939393939394,0.8955223880597015,0.9558823529411765,0.9565217391304348,0.9066666666666666,0.9529411764705882,0.9391304347826087,0.937007874015748,0.9485294117647058],\"yaxis\":\"y2\",\"type\":\"scatter\"},{\"hovertemplate\":\"language=basque\\u003cbr\\u003elemmatized=False\\u003cbr\\u003elength=%{x}\\u003cbr\\u003eaccuracy-mean=%{y}\\u003cextra\\u003e\\u003c\\u002fextra\\u003e\",\"legendgroup\":\"basque, False\",\"line\":{\"color\":\"#EF553B\",\"dash\":\"solid\"},\"marker\":{\"symbol\":\"circle\"},\"mode\":\"lines\",\"name\":\"basque, False\",\"orientation\":\"v\",\"showlegend\":true,\"x\":[3,4,5,6,7,8,9,10,11,12,13,14,15,16,17,18,19,20,21,22,23,24,25,26,27,28,29,30,31,32,33,34,35,38,39],\"xaxis\":\"x\",\"y\":[0.6388888888888888,0.775,0.8137931034482759,0.8265993265993266,0.8295739348370927,0.8455882352941176,0.8314176245210728,0.8211382113821138,0.8199300699300699,0.8317610062893083,0.835076923076923,0.8263157894736842,0.8284848484848485,0.8269927536231884,0.8346020761245674,0.8251028806584363,0.8338815789473684,0.8254237288135594,0.8250517598343684,0.8359683794466403,0.8347826086956522,0.8225308641975309,0.8314285714285715,0.8238866396761133,0.7847222222222222,0.8418367346938777,0.8,0.8333333333333334,0.8266129032258065,0.815625,0.8181818181818182,0.8529411764705882,0.8714285714285714,0.6842105263157895,0.8974358974358975],\"yaxis\":\"y\",\"type\":\"scatter\"},{\"hovertemplate\":\"language=basque\\u003cbr\\u003elemmatized=True\\u003cbr\\u003elength=%{x}\\u003cbr\\u003eaccuracy-mean=%{y}\\u003cextra\\u003e\\u003c\\u002fextra\\u003e\",\"legendgroup\":\"basque, True\",\"line\":{\"color\":\"#EF553B\",\"dash\":\"dot\"},\"marker\":{\"symbol\":\"circle\"},\"mode\":\"lines\",\"name\":\"basque, True\",\"orientation\":\"v\",\"showlegend\":true,\"x\":[3,4,5,6,7,8,9,10,11,12,13,14,15,16,17,18,19,20,21,22,23,24,25,26,27,28,29,30,31,32,33,34,35,38,39],\"xaxis\":\"x\",\"y\":[0.9444444444444443,0.8833333333333333,0.896551724137931,0.9141414141414141,0.9110275689223059,0.9086134453781513,0.910919540229885,0.9130081300813008,0.9108391608391609,0.9150943396226415,0.9187692307692308,0.9210526315789473,0.9145454545454544,0.9193840579710145,0.9100346020761245,0.9022633744855967,0.9111842105263158,0.9186440677966102,0.9120082815734989,0.9268774703557312,0.9217391304347826,0.9074074074074074,0.9157142857142857,0.902834008097166,0.9027777777777778,0.8979591836734694,0.8965517241379309,0.9444444444444445,0.9233870967741935,0.90625,0.8181818181818182,0.9529411764705882,0.9571428571428571,0.8157894736842105,0.9743589743589743],\"yaxis\":\"y\",\"type\":\"scatter\"}],                        {\"template\":{\"data\":{\"histogram2dcontour\":[{\"type\":\"histogram2dcontour\",\"colorbar\":{\"outlinewidth\":0,\"ticks\":\"\"},\"colorscale\":[[0.0,\"#0d0887\"],[0.1111111111111111,\"#46039f\"],[0.2222222222222222,\"#7201a8\"],[0.3333333333333333,\"#9c179e\"],[0.4444444444444444,\"#bd3786\"],[0.5555555555555556,\"#d8576b\"],[0.6666666666666666,\"#ed7953\"],[0.7777777777777778,\"#fb9f3a\"],[0.8888888888888888,\"#fdca26\"],[1.0,\"#f0f921\"]]}],\"choropleth\":[{\"type\":\"choropleth\",\"colorbar\":{\"outlinewidth\":0,\"ticks\":\"\"}}],\"histogram2d\":[{\"type\":\"histogram2d\",\"colorbar\":{\"outlinewidth\":0,\"ticks\":\"\"},\"colorscale\":[[0.0,\"#0d0887\"],[0.1111111111111111,\"#46039f\"],[0.2222222222222222,\"#7201a8\"],[0.3333333333333333,\"#9c179e\"],[0.4444444444444444,\"#bd3786\"],[0.5555555555555556,\"#d8576b\"],[0.6666666666666666,\"#ed7953\"],[0.7777777777777778,\"#fb9f3a\"],[0.8888888888888888,\"#fdca26\"],[1.0,\"#f0f921\"]]}],\"heatmap\":[{\"type\":\"heatmap\",\"colorbar\":{\"outlinewidth\":0,\"ticks\":\"\"},\"colorscale\":[[0.0,\"#0d0887\"],[0.1111111111111111,\"#46039f\"],[0.2222222222222222,\"#7201a8\"],[0.3333333333333333,\"#9c179e\"],[0.4444444444444444,\"#bd3786\"],[0.5555555555555556,\"#d8576b\"],[0.6666666666666666,\"#ed7953\"],[0.7777777777777778,\"#fb9f3a\"],[0.8888888888888888,\"#fdca26\"],[1.0,\"#f0f921\"]]}],\"heatmapgl\":[{\"type\":\"heatmapgl\",\"colorbar\":{\"outlinewidth\":0,\"ticks\":\"\"},\"colorscale\":[[0.0,\"#0d0887\"],[0.1111111111111111,\"#46039f\"],[0.2222222222222222,\"#7201a8\"],[0.3333333333333333,\"#9c179e\"],[0.4444444444444444,\"#bd3786\"],[0.5555555555555556,\"#d8576b\"],[0.6666666666666666,\"#ed7953\"],[0.7777777777777778,\"#fb9f3a\"],[0.8888888888888888,\"#fdca26\"],[1.0,\"#f0f921\"]]}],\"contourcarpet\":[{\"type\":\"contourcarpet\",\"colorbar\":{\"outlinewidth\":0,\"ticks\":\"\"}}],\"contour\":[{\"type\":\"contour\",\"colorbar\":{\"outlinewidth\":0,\"ticks\":\"\"},\"colorscale\":[[0.0,\"#0d0887\"],[0.1111111111111111,\"#46039f\"],[0.2222222222222222,\"#7201a8\"],[0.3333333333333333,\"#9c179e\"],[0.4444444444444444,\"#bd3786\"],[0.5555555555555556,\"#d8576b\"],[0.6666666666666666,\"#ed7953\"],[0.7777777777777778,\"#fb9f3a\"],[0.8888888888888888,\"#fdca26\"],[1.0,\"#f0f921\"]]}],\"surface\":[{\"type\":\"surface\",\"colorbar\":{\"outlinewidth\":0,\"ticks\":\"\"},\"colorscale\":[[0.0,\"#0d0887\"],[0.1111111111111111,\"#46039f\"],[0.2222222222222222,\"#7201a8\"],[0.3333333333333333,\"#9c179e\"],[0.4444444444444444,\"#bd3786\"],[0.5555555555555556,\"#d8576b\"],[0.6666666666666666,\"#ed7953\"],[0.7777777777777778,\"#fb9f3a\"],[0.8888888888888888,\"#fdca26\"],[1.0,\"#f0f921\"]]}],\"mesh3d\":[{\"type\":\"mesh3d\",\"colorbar\":{\"outlinewidth\":0,\"ticks\":\"\"}}],\"scatter\":[{\"fillpattern\":{\"fillmode\":\"overlay\",\"size\":10,\"solidity\":0.2},\"type\":\"scatter\"}],\"parcoords\":[{\"type\":\"parcoords\",\"line\":{\"colorbar\":{\"outlinewidth\":0,\"ticks\":\"\"}}}],\"scatterpolargl\":[{\"type\":\"scatterpolargl\",\"marker\":{\"colorbar\":{\"outlinewidth\":0,\"ticks\":\"\"}}}],\"bar\":[{\"error_x\":{\"color\":\"#2a3f5f\"},\"error_y\":{\"color\":\"#2a3f5f\"},\"marker\":{\"line\":{\"color\":\"white\",\"width\":0.5},\"pattern\":{\"fillmode\":\"overlay\",\"size\":10,\"solidity\":0.2}},\"type\":\"bar\"}],\"scattergeo\":[{\"type\":\"scattergeo\",\"marker\":{\"colorbar\":{\"outlinewidth\":0,\"ticks\":\"\"}}}],\"scatterpolar\":[{\"type\":\"scatterpolar\",\"marker\":{\"colorbar\":{\"outlinewidth\":0,\"ticks\":\"\"}}}],\"histogram\":[{\"marker\":{\"pattern\":{\"fillmode\":\"overlay\",\"size\":10,\"solidity\":0.2}},\"type\":\"histogram\"}],\"scattergl\":[{\"type\":\"scattergl\",\"marker\":{\"colorbar\":{\"outlinewidth\":0,\"ticks\":\"\"}}}],\"scatter3d\":[{\"type\":\"scatter3d\",\"line\":{\"colorbar\":{\"outlinewidth\":0,\"ticks\":\"\"}},\"marker\":{\"colorbar\":{\"outlinewidth\":0,\"ticks\":\"\"}}}],\"scattermapbox\":[{\"type\":\"scattermapbox\",\"marker\":{\"colorbar\":{\"outlinewidth\":0,\"ticks\":\"\"}}}],\"scatterternary\":[{\"type\":\"scatterternary\",\"marker\":{\"colorbar\":{\"outlinewidth\":0,\"ticks\":\"\"}}}],\"scattercarpet\":[{\"type\":\"scattercarpet\",\"marker\":{\"colorbar\":{\"outlinewidth\":0,\"ticks\":\"\"}}}],\"carpet\":[{\"aaxis\":{\"endlinecolor\":\"#2a3f5f\",\"gridcolor\":\"#C8D4E3\",\"linecolor\":\"#C8D4E3\",\"minorgridcolor\":\"#C8D4E3\",\"startlinecolor\":\"#2a3f5f\"},\"baxis\":{\"endlinecolor\":\"#2a3f5f\",\"gridcolor\":\"#C8D4E3\",\"linecolor\":\"#C8D4E3\",\"minorgridcolor\":\"#C8D4E3\",\"startlinecolor\":\"#2a3f5f\"},\"type\":\"carpet\"}],\"table\":[{\"cells\":{\"fill\":{\"color\":\"#EBF0F8\"},\"line\":{\"color\":\"white\"}},\"header\":{\"fill\":{\"color\":\"#C8D4E3\"},\"line\":{\"color\":\"white\"}},\"type\":\"table\"}],\"barpolar\":[{\"marker\":{\"line\":{\"color\":\"white\",\"width\":0.5},\"pattern\":{\"fillmode\":\"overlay\",\"size\":10,\"solidity\":0.2}},\"type\":\"barpolar\"}],\"pie\":[{\"automargin\":true,\"type\":\"pie\"}]},\"layout\":{\"autotypenumbers\":\"strict\",\"colorway\":[\"#636efa\",\"#EF553B\",\"#00cc96\",\"#ab63fa\",\"#FFA15A\",\"#19d3f3\",\"#FF6692\",\"#B6E880\",\"#FF97FF\",\"#FECB52\"],\"font\":{\"color\":\"#2a3f5f\"},\"hovermode\":\"closest\",\"hoverlabel\":{\"align\":\"left\"},\"paper_bgcolor\":\"white\",\"plot_bgcolor\":\"white\",\"polar\":{\"bgcolor\":\"white\",\"angularaxis\":{\"gridcolor\":\"#EBF0F8\",\"linecolor\":\"#EBF0F8\",\"ticks\":\"\"},\"radialaxis\":{\"gridcolor\":\"#EBF0F8\",\"linecolor\":\"#EBF0F8\",\"ticks\":\"\"}},\"ternary\":{\"bgcolor\":\"white\",\"aaxis\":{\"gridcolor\":\"#DFE8F3\",\"linecolor\":\"#A2B1C6\",\"ticks\":\"\"},\"baxis\":{\"gridcolor\":\"#DFE8F3\",\"linecolor\":\"#A2B1C6\",\"ticks\":\"\"},\"caxis\":{\"gridcolor\":\"#DFE8F3\",\"linecolor\":\"#A2B1C6\",\"ticks\":\"\"}},\"coloraxis\":{\"colorbar\":{\"outlinewidth\":0,\"ticks\":\"\"}},\"colorscale\":{\"sequential\":[[0.0,\"#0d0887\"],[0.1111111111111111,\"#46039f\"],[0.2222222222222222,\"#7201a8\"],[0.3333333333333333,\"#9c179e\"],[0.4444444444444444,\"#bd3786\"],[0.5555555555555556,\"#d8576b\"],[0.6666666666666666,\"#ed7953\"],[0.7777777777777778,\"#fb9f3a\"],[0.8888888888888888,\"#fdca26\"],[1.0,\"#f0f921\"]],\"sequentialminus\":[[0.0,\"#0d0887\"],[0.1111111111111111,\"#46039f\"],[0.2222222222222222,\"#7201a8\"],[0.3333333333333333,\"#9c179e\"],[0.4444444444444444,\"#bd3786\"],[0.5555555555555556,\"#d8576b\"],[0.6666666666666666,\"#ed7953\"],[0.7777777777777778,\"#fb9f3a\"],[0.8888888888888888,\"#fdca26\"],[1.0,\"#f0f921\"]],\"diverging\":[[0,\"#8e0152\"],[0.1,\"#c51b7d\"],[0.2,\"#de77ae\"],[0.3,\"#f1b6da\"],[0.4,\"#fde0ef\"],[0.5,\"#f7f7f7\"],[0.6,\"#e6f5d0\"],[0.7,\"#b8e186\"],[0.8,\"#7fbc41\"],[0.9,\"#4d9221\"],[1,\"#276419\"]]},\"xaxis\":{\"gridcolor\":\"#EBF0F8\",\"linecolor\":\"#EBF0F8\",\"ticks\":\"\",\"title\":{\"standoff\":15},\"zerolinecolor\":\"#EBF0F8\",\"automargin\":true,\"zerolinewidth\":2},\"yaxis\":{\"gridcolor\":\"#EBF0F8\",\"linecolor\":\"#EBF0F8\",\"ticks\":\"\",\"title\":{\"standoff\":15},\"zerolinecolor\":\"#EBF0F8\",\"automargin\":true,\"zerolinewidth\":2},\"scene\":{\"xaxis\":{\"backgroundcolor\":\"white\",\"gridcolor\":\"#DFE8F3\",\"linecolor\":\"#EBF0F8\",\"showbackground\":true,\"ticks\":\"\",\"zerolinecolor\":\"#EBF0F8\",\"gridwidth\":2},\"yaxis\":{\"backgroundcolor\":\"white\",\"gridcolor\":\"#DFE8F3\",\"linecolor\":\"#EBF0F8\",\"showbackground\":true,\"ticks\":\"\",\"zerolinecolor\":\"#EBF0F8\",\"gridwidth\":2},\"zaxis\":{\"backgroundcolor\":\"white\",\"gridcolor\":\"#DFE8F3\",\"linecolor\":\"#EBF0F8\",\"showbackground\":true,\"ticks\":\"\",\"zerolinecolor\":\"#EBF0F8\",\"gridwidth\":2}},\"shapedefaults\":{\"line\":{\"color\":\"#2a3f5f\"}},\"annotationdefaults\":{\"arrowcolor\":\"#2a3f5f\",\"arrowhead\":0,\"arrowwidth\":1},\"geo\":{\"bgcolor\":\"white\",\"landcolor\":\"white\",\"subunitcolor\":\"#C8D4E3\",\"showland\":true,\"showlakes\":true,\"lakecolor\":\"white\"},\"title\":{\"x\":0.05},\"mapbox\":{\"style\":\"light\"}}},\"xaxis\":{\"anchor\":\"y\",\"domain\":[0.0,0.98],\"title\":{\"text\":\"length\"}},\"yaxis\":{\"anchor\":\"x\",\"domain\":[0.0,0.485],\"title\":{\"text\":\"accuracy-mean\"}},\"xaxis2\":{\"anchor\":\"y2\",\"domain\":[0.0,0.98],\"matches\":\"x\",\"showticklabels\":false},\"yaxis2\":{\"anchor\":\"x2\",\"domain\":[0.515,1.0],\"matches\":\"y\",\"title\":{\"text\":\"accuracy-mean\"}},\"annotations\":[{\"font\":{},\"showarrow\":false,\"text\":\"language=basque\",\"textangle\":90,\"x\":0.98,\"xanchor\":\"left\",\"xref\":\"paper\",\"y\":0.2425,\"yanchor\":\"middle\",\"yref\":\"paper\"},{\"font\":{},\"showarrow\":false,\"text\":\"language=japanese\",\"textangle\":90,\"x\":0.98,\"xanchor\":\"left\",\"xref\":\"paper\",\"y\":0.7575000000000001,\"yanchor\":\"middle\",\"yref\":\"paper\"}],\"legend\":{\"title\":{\"text\":\"language, lemmatized\"},\"tracegroupgap\":0},\"margin\":{\"t\":60}},                        {\"responsive\": true}                    ).then(function(){\n                            \nvar gd = document.getElementById('0c3c6bfa-baaf-428c-8f42-86aa6975ca6f');\nvar x = new MutationObserver(function (mutations, observer) {{\n        var display = window.getComputedStyle(gd).display;\n        if (!display || display === 'none') {{\n            console.log([gd, 'removed!']);\n            Plotly.purge(gd);\n            observer.disconnect();\n        }}\n}});\n\n// Listen for the removal of the full notebook cells\nvar notebookContainer = gd.closest('#notebook-container');\nif (notebookContainer) {{\n    x.observe(notebookContainer, {childList: true});\n}}\n\n// Listen for the clearing of the current output cell\nvar outputEl = gd.closest('.output');\nif (outputEl) {{\n    x.observe(outputEl, {childList: true});\n}}\n\n                        })                };                });            </script>        </div>"
     },
     "metadata": {},
     "output_type": "display_data"
    }
   ],
   "source": [
    "fig = px.line(\n",
    "    data_frame=df,\n",
    "    x='length', y='accuracy-mean',\n",
    "    line_dash='lemmatized',\n",
    "    color='language',\n",
    "    facet_row='language',\n",
    ")\n",
    "fig.show()"
   ],
   "metadata": {
    "collapsed": false,
    "ExecuteTime": {
     "end_time": "2023-11-05T22:10:57.005948500Z",
     "start_time": "2023-11-05T22:10:56.920471700Z"
    }
   },
   "id": "53c8a3a6ae03c40"
  },
  {
   "cell_type": "code",
   "execution_count": 19,
   "outputs": [
    {
     "name": "stdout",
     "output_type": "stream",
     "text": [
      "[('Zer egin ?', 'zer egin ?'),\n",
      " ('Zer egin ?', 'zer egin ?'),\n",
      " ('Zeu zara !', 'zeu izan !'),\n",
      " ('Urrutiegi zeuden .', 'urruti egon .'),\n",
      " ('Bukatua da !', 'bukatu izan !'),\n",
      " ('Asetu da .', 'ase izan .'),\n",
      " ('Polita litzateke :', 'polit izan :'),\n",
      " ('Zaude lasai .', 'egon lasai .'),\n",
      " ('Zer egin ?', 'zer egin ?'),\n",
      " ('Erranen dautzuet .', 'erran edun .'),\n",
      " ('Harriturik nago .', 'harritu egon .'),\n",
      " ('Bota ezan .', 'botatu ezan .')]\n"
     ]
    }
   ],
   "source": [
    "from pprint import pprint\n",
    "\n",
    "# Get the Basque predictions for length 3 sentences\n",
    "pprint(list(zip(_datasets[0]['sentences'][3], _datasets[1]['sentences'][3])))"
   ],
   "metadata": {
    "collapsed": false,
    "ExecuteTime": {
     "end_time": "2023-11-05T22:10:57.023521400Z",
     "start_time": "2023-11-05T22:10:56.997431300Z"
    }
   },
   "id": "358600ead5d9d584"
  },
  {
   "cell_type": "markdown",
   "source": [
    "### Error analysis"
   ],
   "metadata": {
    "collapsed": false
   },
   "id": "687628977a667d9a"
  },
  {
   "cell_type": "markdown",
   "source": [
    "#### Confusion matrix"
   ],
   "metadata": {
    "collapsed": false
   },
   "id": "513408ebdacb68c0"
  },
  {
   "cell_type": "code",
   "execution_count": 47,
   "outputs": [
    {
     "data": {
      "application/vnd.plotly.v1+json": {
       "data": [
        {
         "coloraxis": "coloraxis",
         "hovertemplate": "Predicted tag: %{x}<br>Gold tag: %{y}<br>Freq: %{z}<extra></extra>",
         "name": "0",
         "texttemplate": "%{z}",
         "x": [
          "PROPN",
          "SCONJ",
          "SYM",
          "NOUN",
          "PART",
          "NUM",
          "CCONJ",
          "ADP",
          "ADV",
          "ADJ",
          "INTJ",
          "DET",
          "PUNCT",
          "X",
          "PRON",
          "VERB",
          "AUX"
         ],
         "xaxis": "x",
         "y": [
          "PROPN",
          "SCONJ",
          "SYM",
          "NOUN",
          "PART",
          "NUM",
          "CCONJ",
          "ADP",
          "ADV",
          "ADJ",
          "INTJ",
          "DET",
          "PUNCT",
          "X",
          "PRON",
          "VERB",
          "AUX"
         ],
         "yaxis": "y",
         "z": [
          [
           1309,
           1,
           1,
           781,
           0,
           69,
           9,
           1,
           47,
           129,
           0,
           14,
           1,
           6,
           8,
           99,
           11
          ],
          [
           0,
           0,
           0,
           0,
           0,
           0,
           0,
           0,
           0,
           0,
           0,
           0,
           0,
           0,
           0,
           0,
           0
          ],
          [
           0,
           0,
           0,
           0,
           0,
           0,
           0,
           0,
           0,
           0,
           0,
           0,
           0,
           0,
           0,
           0,
           0
          ],
          [
           541,
           0,
           1,
           5064,
           1,
           131,
           4,
           28,
           137,
           476,
           5,
           65,
           0,
           3,
           26,
           529,
           99
          ],
          [
           0,
           0,
           0,
           3,
           285,
           0,
           0,
           0,
           0,
           0,
           0,
           0,
           0,
           0,
           0,
           0,
           0
          ],
          [
           2,
           0,
           0,
           0,
           0,
           505,
           0,
           1,
           0,
           0,
           0,
           0,
           0,
           0,
           0,
           0,
           0
          ],
          [
           0,
           0,
           0,
           6,
           0,
           0,
           1215,
           0,
           9,
           0,
           1,
           3,
           0,
           1,
           0,
           1,
           1
          ],
          [
           0,
           0,
           0,
           28,
           0,
           1,
           2,
           368,
           23,
           1,
           0,
           1,
           0,
           0,
           0,
           0,
           0
          ],
          [
           0,
           0,
           0,
           16,
           0,
           0,
           5,
           4,
           844,
           9,
           1,
           12,
           0,
           5,
           0,
           1,
           0
          ],
          [
           0,
           0,
           0,
           45,
           0,
           1,
           0,
           2,
           23,
           725,
           0,
           1,
           0,
           0,
           0,
           0,
           0
          ],
          [
           1,
           0,
           0,
           0,
           0,
           0,
           0,
           0,
           0,
           0,
           1,
           0,
           0,
           0,
           0,
           0,
           0
          ],
          [
           0,
           0,
           0,
           8,
           0,
           0,
           5,
           0,
           20,
           1,
           0,
           736,
           0,
           0,
           0,
           2,
           1
          ],
          [
           0,
           0,
           0,
           0,
           0,
           0,
           0,
           0,
           0,
           0,
           0,
           0,
           3903,
           0,
           0,
           0,
           0
          ],
          [
           0,
           0,
           0,
           0,
           0,
           0,
           0,
           0,
           4,
           0,
           0,
           0,
           0,
           8,
           0,
           0,
           0
          ],
          [
           0,
           0,
           0,
           0,
           0,
           0,
           0,
           0,
           0,
           0,
           0,
           0,
           0,
           0,
           130,
           0,
           0
          ],
          [
           20,
           0,
           0,
           95,
           0,
           2,
           1,
           1,
           7,
           59,
           0,
           2,
           0,
           0,
           1,
           2903,
           220
          ],
          [
           1,
           0,
           0,
           1,
           0,
           0,
           1,
           0,
           0,
           2,
           0,
           1,
           0,
           0,
           3,
           302,
           2185
          ]
         ],
         "type": "heatmap"
        },
        {
         "coloraxis": "coloraxis",
         "hovertemplate": "Predicted tag: %{x}<br>Gold tag: %{y}<br>Freq: %{z}<extra></extra>",
         "name": "0",
         "texttemplate": "%{z}",
         "x": [
          "PROPN",
          "SCONJ",
          "SYM",
          "NOUN",
          "PART",
          "NUM",
          "CCONJ",
          "ADP",
          "ADV",
          "ADJ",
          "INTJ",
          "DET",
          "PUNCT",
          "X",
          "PRON",
          "VERB",
          "AUX"
         ],
         "xaxis": "x2",
         "y": [
          "PROPN",
          "SCONJ",
          "SYM",
          "NOUN",
          "PART",
          "NUM",
          "CCONJ",
          "ADP",
          "ADV",
          "ADJ",
          "INTJ",
          "DET",
          "PUNCT",
          "X",
          "PRON",
          "VERB",
          "AUX"
         ],
         "yaxis": "y2",
         "z": [
          [
           1696,
           1,
           0,
           366,
           0,
           78,
           2,
           0,
           26,
           67,
           0,
           2,
           1,
           7,
           3,
           27,
           0
          ],
          [
           0,
           0,
           0,
           0,
           0,
           0,
           0,
           0,
           0,
           0,
           0,
           0,
           0,
           0,
           0,
           0,
           0
          ],
          [
           0,
           0,
           2,
           1,
           0,
           0,
           0,
           0,
           0,
           0,
           0,
           0,
           0,
           0,
           0,
           0,
           0
          ],
          [
           155,
           0,
           0,
           5435,
           0,
           50,
           0,
           27,
           96,
           185,
           4,
           4,
           0,
           0,
           1,
           96,
           0
          ],
          [
           0,
           0,
           0,
           3,
           286,
           0,
           0,
           1,
           0,
           0,
           0,
           0,
           0,
           0,
           0,
           0,
           0
          ],
          [
           0,
           0,
           0,
           2,
           0,
           573,
           0,
           5,
           0,
           0,
           0,
           1,
           0,
           0,
           0,
           0,
           0
          ],
          [
           0,
           0,
           0,
           2,
           0,
           0,
           1227,
           0,
           9,
           0,
           1,
           5,
           0,
           1,
           0,
           0,
           0
          ],
          [
           1,
           0,
           0,
           44,
           0,
           0,
           2,
           360,
           18,
           1,
           0,
           1,
           0,
           0,
           0,
           0,
           0
          ],
          [
           0,
           0,
           0,
           12,
           0,
           0,
           6,
           9,
           891,
           22,
           2,
           4,
           0,
           4,
           0,
           0,
           0
          ],
          [
           19,
           0,
           0,
           117,
           0,
           5,
           0,
           3,
           44,
           1093,
           0,
           1,
           0,
           1,
           0,
           10,
           0
          ],
          [
           0,
           0,
           0,
           0,
           0,
           0,
           0,
           0,
           0,
           0,
           1,
           0,
           0,
           0,
           0,
           0,
           0
          ],
          [
           0,
           0,
           0,
           12,
           0,
           0,
           5,
           0,
           21,
           6,
           0,
           817,
           0,
           0,
           0,
           0,
           0
          ],
          [
           0,
           0,
           0,
           0,
           0,
           0,
           0,
           0,
           0,
           0,
           0,
           0,
           3903,
           0,
           0,
           0,
           0
          ],
          [
           0,
           0,
           0,
           0,
           0,
           0,
           0,
           0,
           5,
           0,
           0,
           0,
           0,
           10,
           0,
           0,
           0
          ],
          [
           0,
           0,
           0,
           2,
           0,
           0,
           0,
           0,
           0,
           0,
           0,
           0,
           0,
           0,
           164,
           0,
           0
          ],
          [
           3,
           0,
           0,
           51,
           0,
           3,
           0,
           0,
           4,
           28,
           0,
           0,
           0,
           0,
           0,
           3509,
           218
          ],
          [
           0,
           0,
           0,
           0,
           0,
           0,
           0,
           0,
           0,
           0,
           0,
           0,
           0,
           0,
           0,
           195,
           2299
          ]
         ],
         "type": "heatmap"
        }
       ],
       "layout": {
        "template": {
         "data": {
          "histogram2dcontour": [
           {
            "type": "histogram2dcontour",
            "colorbar": {
             "outlinewidth": 0,
             "ticks": ""
            },
            "colorscale": [
             [
              0.0,
              "#0d0887"
             ],
             [
              0.1111111111111111,
              "#46039f"
             ],
             [
              0.2222222222222222,
              "#7201a8"
             ],
             [
              0.3333333333333333,
              "#9c179e"
             ],
             [
              0.4444444444444444,
              "#bd3786"
             ],
             [
              0.5555555555555556,
              "#d8576b"
             ],
             [
              0.6666666666666666,
              "#ed7953"
             ],
             [
              0.7777777777777778,
              "#fb9f3a"
             ],
             [
              0.8888888888888888,
              "#fdca26"
             ],
             [
              1.0,
              "#f0f921"
             ]
            ]
           }
          ],
          "choropleth": [
           {
            "type": "choropleth",
            "colorbar": {
             "outlinewidth": 0,
             "ticks": ""
            }
           }
          ],
          "histogram2d": [
           {
            "type": "histogram2d",
            "colorbar": {
             "outlinewidth": 0,
             "ticks": ""
            },
            "colorscale": [
             [
              0.0,
              "#0d0887"
             ],
             [
              0.1111111111111111,
              "#46039f"
             ],
             [
              0.2222222222222222,
              "#7201a8"
             ],
             [
              0.3333333333333333,
              "#9c179e"
             ],
             [
              0.4444444444444444,
              "#bd3786"
             ],
             [
              0.5555555555555556,
              "#d8576b"
             ],
             [
              0.6666666666666666,
              "#ed7953"
             ],
             [
              0.7777777777777778,
              "#fb9f3a"
             ],
             [
              0.8888888888888888,
              "#fdca26"
             ],
             [
              1.0,
              "#f0f921"
             ]
            ]
           }
          ],
          "heatmap": [
           {
            "type": "heatmap",
            "colorbar": {
             "outlinewidth": 0,
             "ticks": ""
            },
            "colorscale": [
             [
              0.0,
              "#0d0887"
             ],
             [
              0.1111111111111111,
              "#46039f"
             ],
             [
              0.2222222222222222,
              "#7201a8"
             ],
             [
              0.3333333333333333,
              "#9c179e"
             ],
             [
              0.4444444444444444,
              "#bd3786"
             ],
             [
              0.5555555555555556,
              "#d8576b"
             ],
             [
              0.6666666666666666,
              "#ed7953"
             ],
             [
              0.7777777777777778,
              "#fb9f3a"
             ],
             [
              0.8888888888888888,
              "#fdca26"
             ],
             [
              1.0,
              "#f0f921"
             ]
            ]
           }
          ],
          "heatmapgl": [
           {
            "type": "heatmapgl",
            "colorbar": {
             "outlinewidth": 0,
             "ticks": ""
            },
            "colorscale": [
             [
              0.0,
              "#0d0887"
             ],
             [
              0.1111111111111111,
              "#46039f"
             ],
             [
              0.2222222222222222,
              "#7201a8"
             ],
             [
              0.3333333333333333,
              "#9c179e"
             ],
             [
              0.4444444444444444,
              "#bd3786"
             ],
             [
              0.5555555555555556,
              "#d8576b"
             ],
             [
              0.6666666666666666,
              "#ed7953"
             ],
             [
              0.7777777777777778,
              "#fb9f3a"
             ],
             [
              0.8888888888888888,
              "#fdca26"
             ],
             [
              1.0,
              "#f0f921"
             ]
            ]
           }
          ],
          "contourcarpet": [
           {
            "type": "contourcarpet",
            "colorbar": {
             "outlinewidth": 0,
             "ticks": ""
            }
           }
          ],
          "contour": [
           {
            "type": "contour",
            "colorbar": {
             "outlinewidth": 0,
             "ticks": ""
            },
            "colorscale": [
             [
              0.0,
              "#0d0887"
             ],
             [
              0.1111111111111111,
              "#46039f"
             ],
             [
              0.2222222222222222,
              "#7201a8"
             ],
             [
              0.3333333333333333,
              "#9c179e"
             ],
             [
              0.4444444444444444,
              "#bd3786"
             ],
             [
              0.5555555555555556,
              "#d8576b"
             ],
             [
              0.6666666666666666,
              "#ed7953"
             ],
             [
              0.7777777777777778,
              "#fb9f3a"
             ],
             [
              0.8888888888888888,
              "#fdca26"
             ],
             [
              1.0,
              "#f0f921"
             ]
            ]
           }
          ],
          "surface": [
           {
            "type": "surface",
            "colorbar": {
             "outlinewidth": 0,
             "ticks": ""
            },
            "colorscale": [
             [
              0.0,
              "#0d0887"
             ],
             [
              0.1111111111111111,
              "#46039f"
             ],
             [
              0.2222222222222222,
              "#7201a8"
             ],
             [
              0.3333333333333333,
              "#9c179e"
             ],
             [
              0.4444444444444444,
              "#bd3786"
             ],
             [
              0.5555555555555556,
              "#d8576b"
             ],
             [
              0.6666666666666666,
              "#ed7953"
             ],
             [
              0.7777777777777778,
              "#fb9f3a"
             ],
             [
              0.8888888888888888,
              "#fdca26"
             ],
             [
              1.0,
              "#f0f921"
             ]
            ]
           }
          ],
          "mesh3d": [
           {
            "type": "mesh3d",
            "colorbar": {
             "outlinewidth": 0,
             "ticks": ""
            }
           }
          ],
          "scatter": [
           {
            "fillpattern": {
             "fillmode": "overlay",
             "size": 10,
             "solidity": 0.2
            },
            "type": "scatter"
           }
          ],
          "parcoords": [
           {
            "type": "parcoords",
            "line": {
             "colorbar": {
              "outlinewidth": 0,
              "ticks": ""
             }
            }
           }
          ],
          "scatterpolargl": [
           {
            "type": "scatterpolargl",
            "marker": {
             "colorbar": {
              "outlinewidth": 0,
              "ticks": ""
             }
            }
           }
          ],
          "bar": [
           {
            "error_x": {
             "color": "#2a3f5f"
            },
            "error_y": {
             "color": "#2a3f5f"
            },
            "marker": {
             "line": {
              "color": "white",
              "width": 0.5
             },
             "pattern": {
              "fillmode": "overlay",
              "size": 10,
              "solidity": 0.2
             }
            },
            "type": "bar"
           }
          ],
          "scattergeo": [
           {
            "type": "scattergeo",
            "marker": {
             "colorbar": {
              "outlinewidth": 0,
              "ticks": ""
             }
            }
           }
          ],
          "scatterpolar": [
           {
            "type": "scatterpolar",
            "marker": {
             "colorbar": {
              "outlinewidth": 0,
              "ticks": ""
             }
            }
           }
          ],
          "histogram": [
           {
            "marker": {
             "pattern": {
              "fillmode": "overlay",
              "size": 10,
              "solidity": 0.2
             }
            },
            "type": "histogram"
           }
          ],
          "scattergl": [
           {
            "type": "scattergl",
            "marker": {
             "colorbar": {
              "outlinewidth": 0,
              "ticks": ""
             }
            }
           }
          ],
          "scatter3d": [
           {
            "type": "scatter3d",
            "line": {
             "colorbar": {
              "outlinewidth": 0,
              "ticks": ""
             }
            },
            "marker": {
             "colorbar": {
              "outlinewidth": 0,
              "ticks": ""
             }
            }
           }
          ],
          "scattermapbox": [
           {
            "type": "scattermapbox",
            "marker": {
             "colorbar": {
              "outlinewidth": 0,
              "ticks": ""
             }
            }
           }
          ],
          "scatterternary": [
           {
            "type": "scatterternary",
            "marker": {
             "colorbar": {
              "outlinewidth": 0,
              "ticks": ""
             }
            }
           }
          ],
          "scattercarpet": [
           {
            "type": "scattercarpet",
            "marker": {
             "colorbar": {
              "outlinewidth": 0,
              "ticks": ""
             }
            }
           }
          ],
          "carpet": [
           {
            "aaxis": {
             "endlinecolor": "#2a3f5f",
             "gridcolor": "#C8D4E3",
             "linecolor": "#C8D4E3",
             "minorgridcolor": "#C8D4E3",
             "startlinecolor": "#2a3f5f"
            },
            "baxis": {
             "endlinecolor": "#2a3f5f",
             "gridcolor": "#C8D4E3",
             "linecolor": "#C8D4E3",
             "minorgridcolor": "#C8D4E3",
             "startlinecolor": "#2a3f5f"
            },
            "type": "carpet"
           }
          ],
          "table": [
           {
            "cells": {
             "fill": {
              "color": "#EBF0F8"
             },
             "line": {
              "color": "white"
             }
            },
            "header": {
             "fill": {
              "color": "#C8D4E3"
             },
             "line": {
              "color": "white"
             }
            },
            "type": "table"
           }
          ],
          "barpolar": [
           {
            "marker": {
             "line": {
              "color": "white",
              "width": 0.5
             },
             "pattern": {
              "fillmode": "overlay",
              "size": 10,
              "solidity": 0.2
             }
            },
            "type": "barpolar"
           }
          ],
          "pie": [
           {
            "automargin": true,
            "type": "pie"
           }
          ]
         },
         "layout": {
          "autotypenumbers": "strict",
          "colorway": [
           "#636efa",
           "#EF553B",
           "#00cc96",
           "#ab63fa",
           "#FFA15A",
           "#19d3f3",
           "#FF6692",
           "#B6E880",
           "#FF97FF",
           "#FECB52"
          ],
          "font": {
           "color": "#2a3f5f"
          },
          "hovermode": "closest",
          "hoverlabel": {
           "align": "left"
          },
          "paper_bgcolor": "white",
          "plot_bgcolor": "white",
          "polar": {
           "bgcolor": "white",
           "angularaxis": {
            "gridcolor": "#EBF0F8",
            "linecolor": "#EBF0F8",
            "ticks": ""
           },
           "radialaxis": {
            "gridcolor": "#EBF0F8",
            "linecolor": "#EBF0F8",
            "ticks": ""
           }
          },
          "ternary": {
           "bgcolor": "white",
           "aaxis": {
            "gridcolor": "#DFE8F3",
            "linecolor": "#A2B1C6",
            "ticks": ""
           },
           "baxis": {
            "gridcolor": "#DFE8F3",
            "linecolor": "#A2B1C6",
            "ticks": ""
           },
           "caxis": {
            "gridcolor": "#DFE8F3",
            "linecolor": "#A2B1C6",
            "ticks": ""
           }
          },
          "coloraxis": {
           "colorbar": {
            "outlinewidth": 0,
            "ticks": ""
           }
          },
          "colorscale": {
           "sequential": [
            [
             0.0,
             "#0d0887"
            ],
            [
             0.1111111111111111,
             "#46039f"
            ],
            [
             0.2222222222222222,
             "#7201a8"
            ],
            [
             0.3333333333333333,
             "#9c179e"
            ],
            [
             0.4444444444444444,
             "#bd3786"
            ],
            [
             0.5555555555555556,
             "#d8576b"
            ],
            [
             0.6666666666666666,
             "#ed7953"
            ],
            [
             0.7777777777777778,
             "#fb9f3a"
            ],
            [
             0.8888888888888888,
             "#fdca26"
            ],
            [
             1.0,
             "#f0f921"
            ]
           ],
           "sequentialminus": [
            [
             0.0,
             "#0d0887"
            ],
            [
             0.1111111111111111,
             "#46039f"
            ],
            [
             0.2222222222222222,
             "#7201a8"
            ],
            [
             0.3333333333333333,
             "#9c179e"
            ],
            [
             0.4444444444444444,
             "#bd3786"
            ],
            [
             0.5555555555555556,
             "#d8576b"
            ],
            [
             0.6666666666666666,
             "#ed7953"
            ],
            [
             0.7777777777777778,
             "#fb9f3a"
            ],
            [
             0.8888888888888888,
             "#fdca26"
            ],
            [
             1.0,
             "#f0f921"
            ]
           ],
           "diverging": [
            [
             0,
             "#8e0152"
            ],
            [
             0.1,
             "#c51b7d"
            ],
            [
             0.2,
             "#de77ae"
            ],
            [
             0.3,
             "#f1b6da"
            ],
            [
             0.4,
             "#fde0ef"
            ],
            [
             0.5,
             "#f7f7f7"
            ],
            [
             0.6,
             "#e6f5d0"
            ],
            [
             0.7,
             "#b8e186"
            ],
            [
             0.8,
             "#7fbc41"
            ],
            [
             0.9,
             "#4d9221"
            ],
            [
             1,
             "#276419"
            ]
           ]
          },
          "xaxis": {
           "gridcolor": "#EBF0F8",
           "linecolor": "#EBF0F8",
           "ticks": "",
           "title": {
            "standoff": 15
           },
           "zerolinecolor": "#EBF0F8",
           "automargin": true,
           "zerolinewidth": 2
          },
          "yaxis": {
           "gridcolor": "#EBF0F8",
           "linecolor": "#EBF0F8",
           "ticks": "",
           "title": {
            "standoff": 15
           },
           "zerolinecolor": "#EBF0F8",
           "automargin": true,
           "zerolinewidth": 2
          },
          "scene": {
           "xaxis": {
            "backgroundcolor": "white",
            "gridcolor": "#DFE8F3",
            "linecolor": "#EBF0F8",
            "showbackground": true,
            "ticks": "",
            "zerolinecolor": "#EBF0F8",
            "gridwidth": 2
           },
           "yaxis": {
            "backgroundcolor": "white",
            "gridcolor": "#DFE8F3",
            "linecolor": "#EBF0F8",
            "showbackground": true,
            "ticks": "",
            "zerolinecolor": "#EBF0F8",
            "gridwidth": 2
           },
           "zaxis": {
            "backgroundcolor": "white",
            "gridcolor": "#DFE8F3",
            "linecolor": "#EBF0F8",
            "showbackground": true,
            "ticks": "",
            "zerolinecolor": "#EBF0F8",
            "gridwidth": 2
           }
          },
          "shapedefaults": {
           "line": {
            "color": "#2a3f5f"
           }
          },
          "annotationdefaults": {
           "arrowcolor": "#2a3f5f",
           "arrowhead": 0,
           "arrowwidth": 1
          },
          "geo": {
           "bgcolor": "white",
           "landcolor": "white",
           "subunitcolor": "#C8D4E3",
           "showland": true,
           "showlakes": true,
           "lakecolor": "white"
          },
          "title": {
           "x": 0.05
          },
          "mapbox": {
           "style": "light"
          }
         }
        },
        "xaxis": {
         "anchor": "y",
         "domain": [
          0.0,
          0.45
         ]
        },
        "yaxis": {
         "anchor": "x",
         "domain": [
          0.0,
          1.0
         ]
        },
        "xaxis2": {
         "anchor": "y2",
         "domain": [
          0.55,
          1.0
         ]
        },
        "yaxis2": {
         "anchor": "x2",
         "domain": [
          0.0,
          1.0
         ]
        },
        "title": {
         "text": "Basque non-lemmatized vs lemmatized"
        }
       },
       "config": {
        "plotlyServerURL": "https://plot.ly"
       }
      },
      "text/html": "<div>                            <div id=\"a68c079f-a9eb-40af-bce1-d0a9c3bb7b27\" class=\"plotly-graph-div\" style=\"height:525px; width:100%;\"></div>            <script type=\"text/javascript\">                require([\"plotly\"], function(Plotly) {                    window.PLOTLYENV=window.PLOTLYENV || {};                                    if (document.getElementById(\"a68c079f-a9eb-40af-bce1-d0a9c3bb7b27\")) {                    Plotly.newPlot(                        \"a68c079f-a9eb-40af-bce1-d0a9c3bb7b27\",                        [{\"coloraxis\":\"coloraxis\",\"hovertemplate\":\"Predicted tag: %{x}\\u003cbr\\u003eGold tag: %{y}\\u003cbr\\u003eFreq: %{z}\\u003cextra\\u003e\\u003c\\u002fextra\\u003e\",\"name\":\"0\",\"texttemplate\":\"%{z}\",\"x\":[\"PROPN\",\"SCONJ\",\"SYM\",\"NOUN\",\"PART\",\"NUM\",\"CCONJ\",\"ADP\",\"ADV\",\"ADJ\",\"INTJ\",\"DET\",\"PUNCT\",\"X\",\"PRON\",\"VERB\",\"AUX\"],\"xaxis\":\"x\",\"y\":[\"PROPN\",\"SCONJ\",\"SYM\",\"NOUN\",\"PART\",\"NUM\",\"CCONJ\",\"ADP\",\"ADV\",\"ADJ\",\"INTJ\",\"DET\",\"PUNCT\",\"X\",\"PRON\",\"VERB\",\"AUX\"],\"yaxis\":\"y\",\"z\":[[1309,1,1,781,0,69,9,1,47,129,0,14,1,6,8,99,11],[0,0,0,0,0,0,0,0,0,0,0,0,0,0,0,0,0],[0,0,0,0,0,0,0,0,0,0,0,0,0,0,0,0,0],[541,0,1,5064,1,131,4,28,137,476,5,65,0,3,26,529,99],[0,0,0,3,285,0,0,0,0,0,0,0,0,0,0,0,0],[2,0,0,0,0,505,0,1,0,0,0,0,0,0,0,0,0],[0,0,0,6,0,0,1215,0,9,0,1,3,0,1,0,1,1],[0,0,0,28,0,1,2,368,23,1,0,1,0,0,0,0,0],[0,0,0,16,0,0,5,4,844,9,1,12,0,5,0,1,0],[0,0,0,45,0,1,0,2,23,725,0,1,0,0,0,0,0],[1,0,0,0,0,0,0,0,0,0,1,0,0,0,0,0,0],[0,0,0,8,0,0,5,0,20,1,0,736,0,0,0,2,1],[0,0,0,0,0,0,0,0,0,0,0,0,3903,0,0,0,0],[0,0,0,0,0,0,0,0,4,0,0,0,0,8,0,0,0],[0,0,0,0,0,0,0,0,0,0,0,0,0,0,130,0,0],[20,0,0,95,0,2,1,1,7,59,0,2,0,0,1,2903,220],[1,0,0,1,0,0,1,0,0,2,0,1,0,0,3,302,2185]],\"type\":\"heatmap\"},{\"coloraxis\":\"coloraxis\",\"hovertemplate\":\"Predicted tag: %{x}\\u003cbr\\u003eGold tag: %{y}\\u003cbr\\u003eFreq: %{z}\\u003cextra\\u003e\\u003c\\u002fextra\\u003e\",\"name\":\"0\",\"texttemplate\":\"%{z}\",\"x\":[\"PROPN\",\"SCONJ\",\"SYM\",\"NOUN\",\"PART\",\"NUM\",\"CCONJ\",\"ADP\",\"ADV\",\"ADJ\",\"INTJ\",\"DET\",\"PUNCT\",\"X\",\"PRON\",\"VERB\",\"AUX\"],\"xaxis\":\"x2\",\"y\":[\"PROPN\",\"SCONJ\",\"SYM\",\"NOUN\",\"PART\",\"NUM\",\"CCONJ\",\"ADP\",\"ADV\",\"ADJ\",\"INTJ\",\"DET\",\"PUNCT\",\"X\",\"PRON\",\"VERB\",\"AUX\"],\"yaxis\":\"y2\",\"z\":[[1696,1,0,366,0,78,2,0,26,67,0,2,1,7,3,27,0],[0,0,0,0,0,0,0,0,0,0,0,0,0,0,0,0,0],[0,0,2,1,0,0,0,0,0,0,0,0,0,0,0,0,0],[155,0,0,5435,0,50,0,27,96,185,4,4,0,0,1,96,0],[0,0,0,3,286,0,0,1,0,0,0,0,0,0,0,0,0],[0,0,0,2,0,573,0,5,0,0,0,1,0,0,0,0,0],[0,0,0,2,0,0,1227,0,9,0,1,5,0,1,0,0,0],[1,0,0,44,0,0,2,360,18,1,0,1,0,0,0,0,0],[0,0,0,12,0,0,6,9,891,22,2,4,0,4,0,0,0],[19,0,0,117,0,5,0,3,44,1093,0,1,0,1,0,10,0],[0,0,0,0,0,0,0,0,0,0,1,0,0,0,0,0,0],[0,0,0,12,0,0,5,0,21,6,0,817,0,0,0,0,0],[0,0,0,0,0,0,0,0,0,0,0,0,3903,0,0,0,0],[0,0,0,0,0,0,0,0,5,0,0,0,0,10,0,0,0],[0,0,0,2,0,0,0,0,0,0,0,0,0,0,164,0,0],[3,0,0,51,0,3,0,0,4,28,0,0,0,0,0,3509,218],[0,0,0,0,0,0,0,0,0,0,0,0,0,0,0,195,2299]],\"type\":\"heatmap\"}],                        {\"template\":{\"data\":{\"histogram2dcontour\":[{\"type\":\"histogram2dcontour\",\"colorbar\":{\"outlinewidth\":0,\"ticks\":\"\"},\"colorscale\":[[0.0,\"#0d0887\"],[0.1111111111111111,\"#46039f\"],[0.2222222222222222,\"#7201a8\"],[0.3333333333333333,\"#9c179e\"],[0.4444444444444444,\"#bd3786\"],[0.5555555555555556,\"#d8576b\"],[0.6666666666666666,\"#ed7953\"],[0.7777777777777778,\"#fb9f3a\"],[0.8888888888888888,\"#fdca26\"],[1.0,\"#f0f921\"]]}],\"choropleth\":[{\"type\":\"choropleth\",\"colorbar\":{\"outlinewidth\":0,\"ticks\":\"\"}}],\"histogram2d\":[{\"type\":\"histogram2d\",\"colorbar\":{\"outlinewidth\":0,\"ticks\":\"\"},\"colorscale\":[[0.0,\"#0d0887\"],[0.1111111111111111,\"#46039f\"],[0.2222222222222222,\"#7201a8\"],[0.3333333333333333,\"#9c179e\"],[0.4444444444444444,\"#bd3786\"],[0.5555555555555556,\"#d8576b\"],[0.6666666666666666,\"#ed7953\"],[0.7777777777777778,\"#fb9f3a\"],[0.8888888888888888,\"#fdca26\"],[1.0,\"#f0f921\"]]}],\"heatmap\":[{\"type\":\"heatmap\",\"colorbar\":{\"outlinewidth\":0,\"ticks\":\"\"},\"colorscale\":[[0.0,\"#0d0887\"],[0.1111111111111111,\"#46039f\"],[0.2222222222222222,\"#7201a8\"],[0.3333333333333333,\"#9c179e\"],[0.4444444444444444,\"#bd3786\"],[0.5555555555555556,\"#d8576b\"],[0.6666666666666666,\"#ed7953\"],[0.7777777777777778,\"#fb9f3a\"],[0.8888888888888888,\"#fdca26\"],[1.0,\"#f0f921\"]]}],\"heatmapgl\":[{\"type\":\"heatmapgl\",\"colorbar\":{\"outlinewidth\":0,\"ticks\":\"\"},\"colorscale\":[[0.0,\"#0d0887\"],[0.1111111111111111,\"#46039f\"],[0.2222222222222222,\"#7201a8\"],[0.3333333333333333,\"#9c179e\"],[0.4444444444444444,\"#bd3786\"],[0.5555555555555556,\"#d8576b\"],[0.6666666666666666,\"#ed7953\"],[0.7777777777777778,\"#fb9f3a\"],[0.8888888888888888,\"#fdca26\"],[1.0,\"#f0f921\"]]}],\"contourcarpet\":[{\"type\":\"contourcarpet\",\"colorbar\":{\"outlinewidth\":0,\"ticks\":\"\"}}],\"contour\":[{\"type\":\"contour\",\"colorbar\":{\"outlinewidth\":0,\"ticks\":\"\"},\"colorscale\":[[0.0,\"#0d0887\"],[0.1111111111111111,\"#46039f\"],[0.2222222222222222,\"#7201a8\"],[0.3333333333333333,\"#9c179e\"],[0.4444444444444444,\"#bd3786\"],[0.5555555555555556,\"#d8576b\"],[0.6666666666666666,\"#ed7953\"],[0.7777777777777778,\"#fb9f3a\"],[0.8888888888888888,\"#fdca26\"],[1.0,\"#f0f921\"]]}],\"surface\":[{\"type\":\"surface\",\"colorbar\":{\"outlinewidth\":0,\"ticks\":\"\"},\"colorscale\":[[0.0,\"#0d0887\"],[0.1111111111111111,\"#46039f\"],[0.2222222222222222,\"#7201a8\"],[0.3333333333333333,\"#9c179e\"],[0.4444444444444444,\"#bd3786\"],[0.5555555555555556,\"#d8576b\"],[0.6666666666666666,\"#ed7953\"],[0.7777777777777778,\"#fb9f3a\"],[0.8888888888888888,\"#fdca26\"],[1.0,\"#f0f921\"]]}],\"mesh3d\":[{\"type\":\"mesh3d\",\"colorbar\":{\"outlinewidth\":0,\"ticks\":\"\"}}],\"scatter\":[{\"fillpattern\":{\"fillmode\":\"overlay\",\"size\":10,\"solidity\":0.2},\"type\":\"scatter\"}],\"parcoords\":[{\"type\":\"parcoords\",\"line\":{\"colorbar\":{\"outlinewidth\":0,\"ticks\":\"\"}}}],\"scatterpolargl\":[{\"type\":\"scatterpolargl\",\"marker\":{\"colorbar\":{\"outlinewidth\":0,\"ticks\":\"\"}}}],\"bar\":[{\"error_x\":{\"color\":\"#2a3f5f\"},\"error_y\":{\"color\":\"#2a3f5f\"},\"marker\":{\"line\":{\"color\":\"white\",\"width\":0.5},\"pattern\":{\"fillmode\":\"overlay\",\"size\":10,\"solidity\":0.2}},\"type\":\"bar\"}],\"scattergeo\":[{\"type\":\"scattergeo\",\"marker\":{\"colorbar\":{\"outlinewidth\":0,\"ticks\":\"\"}}}],\"scatterpolar\":[{\"type\":\"scatterpolar\",\"marker\":{\"colorbar\":{\"outlinewidth\":0,\"ticks\":\"\"}}}],\"histogram\":[{\"marker\":{\"pattern\":{\"fillmode\":\"overlay\",\"size\":10,\"solidity\":0.2}},\"type\":\"histogram\"}],\"scattergl\":[{\"type\":\"scattergl\",\"marker\":{\"colorbar\":{\"outlinewidth\":0,\"ticks\":\"\"}}}],\"scatter3d\":[{\"type\":\"scatter3d\",\"line\":{\"colorbar\":{\"outlinewidth\":0,\"ticks\":\"\"}},\"marker\":{\"colorbar\":{\"outlinewidth\":0,\"ticks\":\"\"}}}],\"scattermapbox\":[{\"type\":\"scattermapbox\",\"marker\":{\"colorbar\":{\"outlinewidth\":0,\"ticks\":\"\"}}}],\"scatterternary\":[{\"type\":\"scatterternary\",\"marker\":{\"colorbar\":{\"outlinewidth\":0,\"ticks\":\"\"}}}],\"scattercarpet\":[{\"type\":\"scattercarpet\",\"marker\":{\"colorbar\":{\"outlinewidth\":0,\"ticks\":\"\"}}}],\"carpet\":[{\"aaxis\":{\"endlinecolor\":\"#2a3f5f\",\"gridcolor\":\"#C8D4E3\",\"linecolor\":\"#C8D4E3\",\"minorgridcolor\":\"#C8D4E3\",\"startlinecolor\":\"#2a3f5f\"},\"baxis\":{\"endlinecolor\":\"#2a3f5f\",\"gridcolor\":\"#C8D4E3\",\"linecolor\":\"#C8D4E3\",\"minorgridcolor\":\"#C8D4E3\",\"startlinecolor\":\"#2a3f5f\"},\"type\":\"carpet\"}],\"table\":[{\"cells\":{\"fill\":{\"color\":\"#EBF0F8\"},\"line\":{\"color\":\"white\"}},\"header\":{\"fill\":{\"color\":\"#C8D4E3\"},\"line\":{\"color\":\"white\"}},\"type\":\"table\"}],\"barpolar\":[{\"marker\":{\"line\":{\"color\":\"white\",\"width\":0.5},\"pattern\":{\"fillmode\":\"overlay\",\"size\":10,\"solidity\":0.2}},\"type\":\"barpolar\"}],\"pie\":[{\"automargin\":true,\"type\":\"pie\"}]},\"layout\":{\"autotypenumbers\":\"strict\",\"colorway\":[\"#636efa\",\"#EF553B\",\"#00cc96\",\"#ab63fa\",\"#FFA15A\",\"#19d3f3\",\"#FF6692\",\"#B6E880\",\"#FF97FF\",\"#FECB52\"],\"font\":{\"color\":\"#2a3f5f\"},\"hovermode\":\"closest\",\"hoverlabel\":{\"align\":\"left\"},\"paper_bgcolor\":\"white\",\"plot_bgcolor\":\"white\",\"polar\":{\"bgcolor\":\"white\",\"angularaxis\":{\"gridcolor\":\"#EBF0F8\",\"linecolor\":\"#EBF0F8\",\"ticks\":\"\"},\"radialaxis\":{\"gridcolor\":\"#EBF0F8\",\"linecolor\":\"#EBF0F8\",\"ticks\":\"\"}},\"ternary\":{\"bgcolor\":\"white\",\"aaxis\":{\"gridcolor\":\"#DFE8F3\",\"linecolor\":\"#A2B1C6\",\"ticks\":\"\"},\"baxis\":{\"gridcolor\":\"#DFE8F3\",\"linecolor\":\"#A2B1C6\",\"ticks\":\"\"},\"caxis\":{\"gridcolor\":\"#DFE8F3\",\"linecolor\":\"#A2B1C6\",\"ticks\":\"\"}},\"coloraxis\":{\"colorbar\":{\"outlinewidth\":0,\"ticks\":\"\"}},\"colorscale\":{\"sequential\":[[0.0,\"#0d0887\"],[0.1111111111111111,\"#46039f\"],[0.2222222222222222,\"#7201a8\"],[0.3333333333333333,\"#9c179e\"],[0.4444444444444444,\"#bd3786\"],[0.5555555555555556,\"#d8576b\"],[0.6666666666666666,\"#ed7953\"],[0.7777777777777778,\"#fb9f3a\"],[0.8888888888888888,\"#fdca26\"],[1.0,\"#f0f921\"]],\"sequentialminus\":[[0.0,\"#0d0887\"],[0.1111111111111111,\"#46039f\"],[0.2222222222222222,\"#7201a8\"],[0.3333333333333333,\"#9c179e\"],[0.4444444444444444,\"#bd3786\"],[0.5555555555555556,\"#d8576b\"],[0.6666666666666666,\"#ed7953\"],[0.7777777777777778,\"#fb9f3a\"],[0.8888888888888888,\"#fdca26\"],[1.0,\"#f0f921\"]],\"diverging\":[[0,\"#8e0152\"],[0.1,\"#c51b7d\"],[0.2,\"#de77ae\"],[0.3,\"#f1b6da\"],[0.4,\"#fde0ef\"],[0.5,\"#f7f7f7\"],[0.6,\"#e6f5d0\"],[0.7,\"#b8e186\"],[0.8,\"#7fbc41\"],[0.9,\"#4d9221\"],[1,\"#276419\"]]},\"xaxis\":{\"gridcolor\":\"#EBF0F8\",\"linecolor\":\"#EBF0F8\",\"ticks\":\"\",\"title\":{\"standoff\":15},\"zerolinecolor\":\"#EBF0F8\",\"automargin\":true,\"zerolinewidth\":2},\"yaxis\":{\"gridcolor\":\"#EBF0F8\",\"linecolor\":\"#EBF0F8\",\"ticks\":\"\",\"title\":{\"standoff\":15},\"zerolinecolor\":\"#EBF0F8\",\"automargin\":true,\"zerolinewidth\":2},\"scene\":{\"xaxis\":{\"backgroundcolor\":\"white\",\"gridcolor\":\"#DFE8F3\",\"linecolor\":\"#EBF0F8\",\"showbackground\":true,\"ticks\":\"\",\"zerolinecolor\":\"#EBF0F8\",\"gridwidth\":2},\"yaxis\":{\"backgroundcolor\":\"white\",\"gridcolor\":\"#DFE8F3\",\"linecolor\":\"#EBF0F8\",\"showbackground\":true,\"ticks\":\"\",\"zerolinecolor\":\"#EBF0F8\",\"gridwidth\":2},\"zaxis\":{\"backgroundcolor\":\"white\",\"gridcolor\":\"#DFE8F3\",\"linecolor\":\"#EBF0F8\",\"showbackground\":true,\"ticks\":\"\",\"zerolinecolor\":\"#EBF0F8\",\"gridwidth\":2}},\"shapedefaults\":{\"line\":{\"color\":\"#2a3f5f\"}},\"annotationdefaults\":{\"arrowcolor\":\"#2a3f5f\",\"arrowhead\":0,\"arrowwidth\":1},\"geo\":{\"bgcolor\":\"white\",\"landcolor\":\"white\",\"subunitcolor\":\"#C8D4E3\",\"showland\":true,\"showlakes\":true,\"lakecolor\":\"white\"},\"title\":{\"x\":0.05},\"mapbox\":{\"style\":\"light\"}}},\"xaxis\":{\"anchor\":\"y\",\"domain\":[0.0,0.45]},\"yaxis\":{\"anchor\":\"x\",\"domain\":[0.0,1.0]},\"xaxis2\":{\"anchor\":\"y2\",\"domain\":[0.55,1.0]},\"yaxis2\":{\"anchor\":\"x2\",\"domain\":[0.0,1.0]},\"title\":{\"text\":\"Basque non-lemmatized vs lemmatized\"}},                        {\"responsive\": true}                    ).then(function(){\n                            \nvar gd = document.getElementById('a68c079f-a9eb-40af-bce1-d0a9c3bb7b27');\nvar x = new MutationObserver(function (mutations, observer) {{\n        var display = window.getComputedStyle(gd).display;\n        if (!display || display === 'none') {{\n            console.log([gd, 'removed!']);\n            Plotly.purge(gd);\n            observer.disconnect();\n        }}\n}});\n\n// Listen for the removal of the full notebook cells\nvar notebookContainer = gd.closest('#notebook-container');\nif (notebookContainer) {{\n    x.observe(notebookContainer, {childList: true});\n}}\n\n// Listen for the clearing of the current output cell\nvar outputEl = gd.closest('.output');\nif (outputEl) {{\n    x.observe(outputEl, {childList: true});\n}}\n\n                        })                };                });            </script>        </div>"
     },
     "metadata": {},
     "output_type": "display_data"
    },
    {
     "data": {
      "application/vnd.plotly.v1+json": {
       "data": [
        {
         "coloraxis": "coloraxis",
         "hovertemplate": "Predicted tag: %{x}<br>Gold tag: %{y}<br>Freq: %{z}<extra></extra>",
         "name": "0",
         "texttemplate": "%{z}",
         "x": [
          "PROPN",
          "SCONJ",
          "SYM",
          "NOUN",
          "PART",
          "NUM",
          "ADP",
          "CCONJ",
          "ADV",
          "ADJ",
          "INTJ",
          "DET",
          "PUNCT",
          "PRON",
          "VERB",
          "AUX"
         ],
         "xaxis": "x",
         "y": [
          "PROPN",
          "SCONJ",
          "SYM",
          "NOUN",
          "PART",
          "NUM",
          "ADP",
          "CCONJ",
          "ADV",
          "ADJ",
          "INTJ",
          "DET",
          "PUNCT",
          "PRON",
          "VERB",
          "AUX"
         ],
         "yaxis": "y",
         "z": [
          [
           198,
           8,
           2,
           116,
           3,
           11,
           16,
           2,
           6,
           9,
           0,
           2,
           7,
           3,
           14,
           8
          ],
          [
           0,
           592,
           0,
           14,
           0,
           0,
           77,
           0,
           0,
           0,
           0,
           0,
           0,
           0,
           0,
           7
          ],
          [
           0,
           0,
           67,
           0,
           0,
           0,
           0,
           0,
           0,
           0,
           0,
           0,
           0,
           0,
           0,
           0
          ],
          [
           113,
           15,
           0,
           3407,
           5,
           17,
           4,
           0,
           32,
           44,
           0,
           0,
           2,
           3,
           118,
           9
          ],
          [
           0,
           0,
           0,
           0,
           91,
           0,
           17,
           0,
           0,
           0,
           0,
           0,
           0,
           0,
           0,
           0
          ],
          [
           1,
           0,
           0,
           1,
           0,
           220,
           0,
           0,
           0,
           0,
           0,
           0,
           0,
           0,
           0,
           0
          ],
          [
           0,
           40,
           0,
           2,
           8,
           0,
           2683,
           0,
           0,
           0,
           0,
           0,
           0,
           0,
           1,
           129
          ],
          [
           0,
           0,
           0,
           2,
           0,
           0,
           0,
           40,
           2,
           0,
           0,
           0,
           0,
           0,
           0,
           0
          ],
          [
           0,
           0,
           0,
           8,
           0,
           0,
           0,
           0,
           175,
           9,
           0,
           0,
           0,
           0,
           5,
           0
          ],
          [
           0,
           0,
           0,
           12,
           0,
           0,
           0,
           0,
           3,
           242,
           0,
           0,
           0,
           0,
           6,
           10
          ],
          [
           0,
           0,
           0,
           0,
           0,
           0,
           0,
           0,
           0,
           0,
           0,
           0,
           0,
           0,
           0,
           0
          ],
          [
           0,
           0,
           0,
           0,
           0,
           0,
           0,
           0,
           0,
           0,
           0,
           68,
           0,
           0,
           0,
           0
          ],
          [
           0,
           0,
           1,
           0,
           0,
           0,
           0,
           0,
           0,
           0,
           0,
           0,
           1282,
           0,
           0,
           0
          ],
          [
           0,
           0,
           0,
           0,
           0,
           0,
           0,
           1,
           0,
           0,
           0,
           0,
           0,
           91,
           0,
           0
          ],
          [
           1,
           1,
           0,
           123,
           1,
           3,
           0,
           1,
           4,
           31,
           1,
           1,
           0,
           1,
           1373,
           38
          ],
          [
           0,
           23,
           0,
           4,
           20,
           0,
           10,
           0,
           1,
           14,
           0,
           0,
           0,
           0,
           19,
           1283
          ]
         ],
         "type": "heatmap"
        },
        {
         "coloraxis": "coloraxis",
         "hovertemplate": "Predicted tag: %{x}<br>Gold tag: %{y}<br>Freq: %{z}<extra></extra>",
         "name": "0",
         "texttemplate": "%{z}",
         "x": [
          "PROPN",
          "SCONJ",
          "SYM",
          "NOUN",
          "PART",
          "NUM",
          "ADP",
          "CCONJ",
          "ADV",
          "ADJ",
          "INTJ",
          "DET",
          "PUNCT",
          "PRON",
          "VERB",
          "AUX"
         ],
         "xaxis": "x2",
         "y": [
          "PROPN",
          "SCONJ",
          "SYM",
          "NOUN",
          "PART",
          "NUM",
          "ADP",
          "CCONJ",
          "ADV",
          "ADJ",
          "INTJ",
          "DET",
          "PUNCT",
          "PRON",
          "VERB",
          "AUX"
         ],
         "yaxis": "y2",
         "z": [
          [
           202,
           6,
           0,
           123,
           1,
           13,
           15,
           2,
           5,
           10,
           0,
           0,
           5,
           2,
           6,
           5
          ],
          [
           0,
           627,
           0,
           17,
           0,
           0,
           78,
           0,
           0,
           0,
           0,
           0,
           0,
           0,
           0,
           0
          ],
          [
           0,
           0,
           69,
           0,
           0,
           0,
           0,
           0,
           0,
           0,
           0,
           0,
           0,
           0,
           0,
           0
          ],
          [
           109,
           14,
           0,
           3442,
           2,
           17,
           0,
           0,
           31,
           32,
           1,
           0,
           2,
           1,
           68,
           0
          ],
          [
           0,
           0,
           0,
           0,
           117,
           0,
           16,
           0,
           0,
           0,
           0,
           0,
           0,
           0,
           0,
           0
          ],
          [
           1,
           0,
           0,
           1,
           0,
           221,
           0,
           0,
           0,
           0,
           0,
           0,
           0,
           1,
           0,
           0
          ],
          [
           0,
           28,
           0,
           0,
           7,
           0,
           2698,
           0,
           0,
           0,
           0,
           0,
           0,
           0,
           0,
           0
          ],
          [
           0,
           0,
           0,
           1,
           0,
           0,
           0,
           40,
           2,
           0,
           0,
           0,
           0,
           0,
           0,
           0
          ],
          [
           0,
           0,
           0,
           6,
           0,
           0,
           0,
           0,
           180,
           4,
           0,
           0,
           0,
           0,
           4,
           0
          ],
          [
           0,
           0,
           0,
           13,
           0,
           0,
           0,
           0,
           1,
           269,
           0,
           0,
           0,
           0,
           1,
           9
          ],
          [
           0,
           0,
           0,
           0,
           0,
           0,
           0,
           0,
           0,
           0,
           0,
           0,
           0,
           0,
           0,
           0
          ],
          [
           0,
           0,
           0,
           0,
           0,
           0,
           0,
           0,
           0,
           0,
           0,
           71,
           0,
           0,
           0,
           0
          ],
          [
           0,
           0,
           1,
           0,
           0,
           0,
           0,
           0,
           0,
           0,
           0,
           0,
           1284,
           0,
           0,
           0
          ],
          [
           0,
           0,
           0,
           0,
           0,
           0,
           0,
           1,
           0,
           0,
           0,
           0,
           0,
           94,
           0,
           0
          ],
          [
           1,
           0,
           0,
           77,
           1,
           0,
           0,
           1,
           3,
           22,
           0,
           0,
           0,
           0,
           1438,
           34
          ],
          [
           0,
           4,
           0,
           9,
           0,
           0,
           0,
           0,
           1,
           12,
           0,
           0,
           0,
           0,
           19,
           1436
          ]
         ],
         "type": "heatmap"
        }
       ],
       "layout": {
        "template": {
         "data": {
          "histogram2dcontour": [
           {
            "type": "histogram2dcontour",
            "colorbar": {
             "outlinewidth": 0,
             "ticks": ""
            },
            "colorscale": [
             [
              0.0,
              "#0d0887"
             ],
             [
              0.1111111111111111,
              "#46039f"
             ],
             [
              0.2222222222222222,
              "#7201a8"
             ],
             [
              0.3333333333333333,
              "#9c179e"
             ],
             [
              0.4444444444444444,
              "#bd3786"
             ],
             [
              0.5555555555555556,
              "#d8576b"
             ],
             [
              0.6666666666666666,
              "#ed7953"
             ],
             [
              0.7777777777777778,
              "#fb9f3a"
             ],
             [
              0.8888888888888888,
              "#fdca26"
             ],
             [
              1.0,
              "#f0f921"
             ]
            ]
           }
          ],
          "choropleth": [
           {
            "type": "choropleth",
            "colorbar": {
             "outlinewidth": 0,
             "ticks": ""
            }
           }
          ],
          "histogram2d": [
           {
            "type": "histogram2d",
            "colorbar": {
             "outlinewidth": 0,
             "ticks": ""
            },
            "colorscale": [
             [
              0.0,
              "#0d0887"
             ],
             [
              0.1111111111111111,
              "#46039f"
             ],
             [
              0.2222222222222222,
              "#7201a8"
             ],
             [
              0.3333333333333333,
              "#9c179e"
             ],
             [
              0.4444444444444444,
              "#bd3786"
             ],
             [
              0.5555555555555556,
              "#d8576b"
             ],
             [
              0.6666666666666666,
              "#ed7953"
             ],
             [
              0.7777777777777778,
              "#fb9f3a"
             ],
             [
              0.8888888888888888,
              "#fdca26"
             ],
             [
              1.0,
              "#f0f921"
             ]
            ]
           }
          ],
          "heatmap": [
           {
            "type": "heatmap",
            "colorbar": {
             "outlinewidth": 0,
             "ticks": ""
            },
            "colorscale": [
             [
              0.0,
              "#0d0887"
             ],
             [
              0.1111111111111111,
              "#46039f"
             ],
             [
              0.2222222222222222,
              "#7201a8"
             ],
             [
              0.3333333333333333,
              "#9c179e"
             ],
             [
              0.4444444444444444,
              "#bd3786"
             ],
             [
              0.5555555555555556,
              "#d8576b"
             ],
             [
              0.6666666666666666,
              "#ed7953"
             ],
             [
              0.7777777777777778,
              "#fb9f3a"
             ],
             [
              0.8888888888888888,
              "#fdca26"
             ],
             [
              1.0,
              "#f0f921"
             ]
            ]
           }
          ],
          "heatmapgl": [
           {
            "type": "heatmapgl",
            "colorbar": {
             "outlinewidth": 0,
             "ticks": ""
            },
            "colorscale": [
             [
              0.0,
              "#0d0887"
             ],
             [
              0.1111111111111111,
              "#46039f"
             ],
             [
              0.2222222222222222,
              "#7201a8"
             ],
             [
              0.3333333333333333,
              "#9c179e"
             ],
             [
              0.4444444444444444,
              "#bd3786"
             ],
             [
              0.5555555555555556,
              "#d8576b"
             ],
             [
              0.6666666666666666,
              "#ed7953"
             ],
             [
              0.7777777777777778,
              "#fb9f3a"
             ],
             [
              0.8888888888888888,
              "#fdca26"
             ],
             [
              1.0,
              "#f0f921"
             ]
            ]
           }
          ],
          "contourcarpet": [
           {
            "type": "contourcarpet",
            "colorbar": {
             "outlinewidth": 0,
             "ticks": ""
            }
           }
          ],
          "contour": [
           {
            "type": "contour",
            "colorbar": {
             "outlinewidth": 0,
             "ticks": ""
            },
            "colorscale": [
             [
              0.0,
              "#0d0887"
             ],
             [
              0.1111111111111111,
              "#46039f"
             ],
             [
              0.2222222222222222,
              "#7201a8"
             ],
             [
              0.3333333333333333,
              "#9c179e"
             ],
             [
              0.4444444444444444,
              "#bd3786"
             ],
             [
              0.5555555555555556,
              "#d8576b"
             ],
             [
              0.6666666666666666,
              "#ed7953"
             ],
             [
              0.7777777777777778,
              "#fb9f3a"
             ],
             [
              0.8888888888888888,
              "#fdca26"
             ],
             [
              1.0,
              "#f0f921"
             ]
            ]
           }
          ],
          "surface": [
           {
            "type": "surface",
            "colorbar": {
             "outlinewidth": 0,
             "ticks": ""
            },
            "colorscale": [
             [
              0.0,
              "#0d0887"
             ],
             [
              0.1111111111111111,
              "#46039f"
             ],
             [
              0.2222222222222222,
              "#7201a8"
             ],
             [
              0.3333333333333333,
              "#9c179e"
             ],
             [
              0.4444444444444444,
              "#bd3786"
             ],
             [
              0.5555555555555556,
              "#d8576b"
             ],
             [
              0.6666666666666666,
              "#ed7953"
             ],
             [
              0.7777777777777778,
              "#fb9f3a"
             ],
             [
              0.8888888888888888,
              "#fdca26"
             ],
             [
              1.0,
              "#f0f921"
             ]
            ]
           }
          ],
          "mesh3d": [
           {
            "type": "mesh3d",
            "colorbar": {
             "outlinewidth": 0,
             "ticks": ""
            }
           }
          ],
          "scatter": [
           {
            "fillpattern": {
             "fillmode": "overlay",
             "size": 10,
             "solidity": 0.2
            },
            "type": "scatter"
           }
          ],
          "parcoords": [
           {
            "type": "parcoords",
            "line": {
             "colorbar": {
              "outlinewidth": 0,
              "ticks": ""
             }
            }
           }
          ],
          "scatterpolargl": [
           {
            "type": "scatterpolargl",
            "marker": {
             "colorbar": {
              "outlinewidth": 0,
              "ticks": ""
             }
            }
           }
          ],
          "bar": [
           {
            "error_x": {
             "color": "#2a3f5f"
            },
            "error_y": {
             "color": "#2a3f5f"
            },
            "marker": {
             "line": {
              "color": "white",
              "width": 0.5
             },
             "pattern": {
              "fillmode": "overlay",
              "size": 10,
              "solidity": 0.2
             }
            },
            "type": "bar"
           }
          ],
          "scattergeo": [
           {
            "type": "scattergeo",
            "marker": {
             "colorbar": {
              "outlinewidth": 0,
              "ticks": ""
             }
            }
           }
          ],
          "scatterpolar": [
           {
            "type": "scatterpolar",
            "marker": {
             "colorbar": {
              "outlinewidth": 0,
              "ticks": ""
             }
            }
           }
          ],
          "histogram": [
           {
            "marker": {
             "pattern": {
              "fillmode": "overlay",
              "size": 10,
              "solidity": 0.2
             }
            },
            "type": "histogram"
           }
          ],
          "scattergl": [
           {
            "type": "scattergl",
            "marker": {
             "colorbar": {
              "outlinewidth": 0,
              "ticks": ""
             }
            }
           }
          ],
          "scatter3d": [
           {
            "type": "scatter3d",
            "line": {
             "colorbar": {
              "outlinewidth": 0,
              "ticks": ""
             }
            },
            "marker": {
             "colorbar": {
              "outlinewidth": 0,
              "ticks": ""
             }
            }
           }
          ],
          "scattermapbox": [
           {
            "type": "scattermapbox",
            "marker": {
             "colorbar": {
              "outlinewidth": 0,
              "ticks": ""
             }
            }
           }
          ],
          "scatterternary": [
           {
            "type": "scatterternary",
            "marker": {
             "colorbar": {
              "outlinewidth": 0,
              "ticks": ""
             }
            }
           }
          ],
          "scattercarpet": [
           {
            "type": "scattercarpet",
            "marker": {
             "colorbar": {
              "outlinewidth": 0,
              "ticks": ""
             }
            }
           }
          ],
          "carpet": [
           {
            "aaxis": {
             "endlinecolor": "#2a3f5f",
             "gridcolor": "#C8D4E3",
             "linecolor": "#C8D4E3",
             "minorgridcolor": "#C8D4E3",
             "startlinecolor": "#2a3f5f"
            },
            "baxis": {
             "endlinecolor": "#2a3f5f",
             "gridcolor": "#C8D4E3",
             "linecolor": "#C8D4E3",
             "minorgridcolor": "#C8D4E3",
             "startlinecolor": "#2a3f5f"
            },
            "type": "carpet"
           }
          ],
          "table": [
           {
            "cells": {
             "fill": {
              "color": "#EBF0F8"
             },
             "line": {
              "color": "white"
             }
            },
            "header": {
             "fill": {
              "color": "#C8D4E3"
             },
             "line": {
              "color": "white"
             }
            },
            "type": "table"
           }
          ],
          "barpolar": [
           {
            "marker": {
             "line": {
              "color": "white",
              "width": 0.5
             },
             "pattern": {
              "fillmode": "overlay",
              "size": 10,
              "solidity": 0.2
             }
            },
            "type": "barpolar"
           }
          ],
          "pie": [
           {
            "automargin": true,
            "type": "pie"
           }
          ]
         },
         "layout": {
          "autotypenumbers": "strict",
          "colorway": [
           "#636efa",
           "#EF553B",
           "#00cc96",
           "#ab63fa",
           "#FFA15A",
           "#19d3f3",
           "#FF6692",
           "#B6E880",
           "#FF97FF",
           "#FECB52"
          ],
          "font": {
           "color": "#2a3f5f"
          },
          "hovermode": "closest",
          "hoverlabel": {
           "align": "left"
          },
          "paper_bgcolor": "white",
          "plot_bgcolor": "white",
          "polar": {
           "bgcolor": "white",
           "angularaxis": {
            "gridcolor": "#EBF0F8",
            "linecolor": "#EBF0F8",
            "ticks": ""
           },
           "radialaxis": {
            "gridcolor": "#EBF0F8",
            "linecolor": "#EBF0F8",
            "ticks": ""
           }
          },
          "ternary": {
           "bgcolor": "white",
           "aaxis": {
            "gridcolor": "#DFE8F3",
            "linecolor": "#A2B1C6",
            "ticks": ""
           },
           "baxis": {
            "gridcolor": "#DFE8F3",
            "linecolor": "#A2B1C6",
            "ticks": ""
           },
           "caxis": {
            "gridcolor": "#DFE8F3",
            "linecolor": "#A2B1C6",
            "ticks": ""
           }
          },
          "coloraxis": {
           "colorbar": {
            "outlinewidth": 0,
            "ticks": ""
           }
          },
          "colorscale": {
           "sequential": [
            [
             0.0,
             "#0d0887"
            ],
            [
             0.1111111111111111,
             "#46039f"
            ],
            [
             0.2222222222222222,
             "#7201a8"
            ],
            [
             0.3333333333333333,
             "#9c179e"
            ],
            [
             0.4444444444444444,
             "#bd3786"
            ],
            [
             0.5555555555555556,
             "#d8576b"
            ],
            [
             0.6666666666666666,
             "#ed7953"
            ],
            [
             0.7777777777777778,
             "#fb9f3a"
            ],
            [
             0.8888888888888888,
             "#fdca26"
            ],
            [
             1.0,
             "#f0f921"
            ]
           ],
           "sequentialminus": [
            [
             0.0,
             "#0d0887"
            ],
            [
             0.1111111111111111,
             "#46039f"
            ],
            [
             0.2222222222222222,
             "#7201a8"
            ],
            [
             0.3333333333333333,
             "#9c179e"
            ],
            [
             0.4444444444444444,
             "#bd3786"
            ],
            [
             0.5555555555555556,
             "#d8576b"
            ],
            [
             0.6666666666666666,
             "#ed7953"
            ],
            [
             0.7777777777777778,
             "#fb9f3a"
            ],
            [
             0.8888888888888888,
             "#fdca26"
            ],
            [
             1.0,
             "#f0f921"
            ]
           ],
           "diverging": [
            [
             0,
             "#8e0152"
            ],
            [
             0.1,
             "#c51b7d"
            ],
            [
             0.2,
             "#de77ae"
            ],
            [
             0.3,
             "#f1b6da"
            ],
            [
             0.4,
             "#fde0ef"
            ],
            [
             0.5,
             "#f7f7f7"
            ],
            [
             0.6,
             "#e6f5d0"
            ],
            [
             0.7,
             "#b8e186"
            ],
            [
             0.8,
             "#7fbc41"
            ],
            [
             0.9,
             "#4d9221"
            ],
            [
             1,
             "#276419"
            ]
           ]
          },
          "xaxis": {
           "gridcolor": "#EBF0F8",
           "linecolor": "#EBF0F8",
           "ticks": "",
           "title": {
            "standoff": 15
           },
           "zerolinecolor": "#EBF0F8",
           "automargin": true,
           "zerolinewidth": 2
          },
          "yaxis": {
           "gridcolor": "#EBF0F8",
           "linecolor": "#EBF0F8",
           "ticks": "",
           "title": {
            "standoff": 15
           },
           "zerolinecolor": "#EBF0F8",
           "automargin": true,
           "zerolinewidth": 2
          },
          "scene": {
           "xaxis": {
            "backgroundcolor": "white",
            "gridcolor": "#DFE8F3",
            "linecolor": "#EBF0F8",
            "showbackground": true,
            "ticks": "",
            "zerolinecolor": "#EBF0F8",
            "gridwidth": 2
           },
           "yaxis": {
            "backgroundcolor": "white",
            "gridcolor": "#DFE8F3",
            "linecolor": "#EBF0F8",
            "showbackground": true,
            "ticks": "",
            "zerolinecolor": "#EBF0F8",
            "gridwidth": 2
           },
           "zaxis": {
            "backgroundcolor": "white",
            "gridcolor": "#DFE8F3",
            "linecolor": "#EBF0F8",
            "showbackground": true,
            "ticks": "",
            "zerolinecolor": "#EBF0F8",
            "gridwidth": 2
           }
          },
          "shapedefaults": {
           "line": {
            "color": "#2a3f5f"
           }
          },
          "annotationdefaults": {
           "arrowcolor": "#2a3f5f",
           "arrowhead": 0,
           "arrowwidth": 1
          },
          "geo": {
           "bgcolor": "white",
           "landcolor": "white",
           "subunitcolor": "#C8D4E3",
           "showland": true,
           "showlakes": true,
           "lakecolor": "white"
          },
          "title": {
           "x": 0.05
          },
          "mapbox": {
           "style": "light"
          }
         }
        },
        "xaxis": {
         "anchor": "y",
         "domain": [
          0.0,
          0.45
         ]
        },
        "yaxis": {
         "anchor": "x",
         "domain": [
          0.0,
          1.0
         ]
        },
        "xaxis2": {
         "anchor": "y2",
         "domain": [
          0.55,
          1.0
         ]
        },
        "yaxis2": {
         "anchor": "x2",
         "domain": [
          0.0,
          1.0
         ]
        },
        "title": {
         "text": "Japanese non-lemmatized vs lemmatized"
        }
       },
       "config": {
        "plotlyServerURL": "https://plot.ly"
       }
      },
      "text/html": "<div>                            <div id=\"2738b435-e513-482c-89c6-4f026dc5950c\" class=\"plotly-graph-div\" style=\"height:525px; width:100%;\"></div>            <script type=\"text/javascript\">                require([\"plotly\"], function(Plotly) {                    window.PLOTLYENV=window.PLOTLYENV || {};                                    if (document.getElementById(\"2738b435-e513-482c-89c6-4f026dc5950c\")) {                    Plotly.newPlot(                        \"2738b435-e513-482c-89c6-4f026dc5950c\",                        [{\"coloraxis\":\"coloraxis\",\"hovertemplate\":\"Predicted tag: %{x}\\u003cbr\\u003eGold tag: %{y}\\u003cbr\\u003eFreq: %{z}\\u003cextra\\u003e\\u003c\\u002fextra\\u003e\",\"name\":\"0\",\"texttemplate\":\"%{z}\",\"x\":[\"PROPN\",\"SCONJ\",\"SYM\",\"NOUN\",\"PART\",\"NUM\",\"ADP\",\"CCONJ\",\"ADV\",\"ADJ\",\"INTJ\",\"DET\",\"PUNCT\",\"PRON\",\"VERB\",\"AUX\"],\"xaxis\":\"x\",\"y\":[\"PROPN\",\"SCONJ\",\"SYM\",\"NOUN\",\"PART\",\"NUM\",\"ADP\",\"CCONJ\",\"ADV\",\"ADJ\",\"INTJ\",\"DET\",\"PUNCT\",\"PRON\",\"VERB\",\"AUX\"],\"yaxis\":\"y\",\"z\":[[198,8,2,116,3,11,16,2,6,9,0,2,7,3,14,8],[0,592,0,14,0,0,77,0,0,0,0,0,0,0,0,7],[0,0,67,0,0,0,0,0,0,0,0,0,0,0,0,0],[113,15,0,3407,5,17,4,0,32,44,0,0,2,3,118,9],[0,0,0,0,91,0,17,0,0,0,0,0,0,0,0,0],[1,0,0,1,0,220,0,0,0,0,0,0,0,0,0,0],[0,40,0,2,8,0,2683,0,0,0,0,0,0,0,1,129],[0,0,0,2,0,0,0,40,2,0,0,0,0,0,0,0],[0,0,0,8,0,0,0,0,175,9,0,0,0,0,5,0],[0,0,0,12,0,0,0,0,3,242,0,0,0,0,6,10],[0,0,0,0,0,0,0,0,0,0,0,0,0,0,0,0],[0,0,0,0,0,0,0,0,0,0,0,68,0,0,0,0],[0,0,1,0,0,0,0,0,0,0,0,0,1282,0,0,0],[0,0,0,0,0,0,0,1,0,0,0,0,0,91,0,0],[1,1,0,123,1,3,0,1,4,31,1,1,0,1,1373,38],[0,23,0,4,20,0,10,0,1,14,0,0,0,0,19,1283]],\"type\":\"heatmap\"},{\"coloraxis\":\"coloraxis\",\"hovertemplate\":\"Predicted tag: %{x}\\u003cbr\\u003eGold tag: %{y}\\u003cbr\\u003eFreq: %{z}\\u003cextra\\u003e\\u003c\\u002fextra\\u003e\",\"name\":\"0\",\"texttemplate\":\"%{z}\",\"x\":[\"PROPN\",\"SCONJ\",\"SYM\",\"NOUN\",\"PART\",\"NUM\",\"ADP\",\"CCONJ\",\"ADV\",\"ADJ\",\"INTJ\",\"DET\",\"PUNCT\",\"PRON\",\"VERB\",\"AUX\"],\"xaxis\":\"x2\",\"y\":[\"PROPN\",\"SCONJ\",\"SYM\",\"NOUN\",\"PART\",\"NUM\",\"ADP\",\"CCONJ\",\"ADV\",\"ADJ\",\"INTJ\",\"DET\",\"PUNCT\",\"PRON\",\"VERB\",\"AUX\"],\"yaxis\":\"y2\",\"z\":[[202,6,0,123,1,13,15,2,5,10,0,0,5,2,6,5],[0,627,0,17,0,0,78,0,0,0,0,0,0,0,0,0],[0,0,69,0,0,0,0,0,0,0,0,0,0,0,0,0],[109,14,0,3442,2,17,0,0,31,32,1,0,2,1,68,0],[0,0,0,0,117,0,16,0,0,0,0,0,0,0,0,0],[1,0,0,1,0,221,0,0,0,0,0,0,0,1,0,0],[0,28,0,0,7,0,2698,0,0,0,0,0,0,0,0,0],[0,0,0,1,0,0,0,40,2,0,0,0,0,0,0,0],[0,0,0,6,0,0,0,0,180,4,0,0,0,0,4,0],[0,0,0,13,0,0,0,0,1,269,0,0,0,0,1,9],[0,0,0,0,0,0,0,0,0,0,0,0,0,0,0,0],[0,0,0,0,0,0,0,0,0,0,0,71,0,0,0,0],[0,0,1,0,0,0,0,0,0,0,0,0,1284,0,0,0],[0,0,0,0,0,0,0,1,0,0,0,0,0,94,0,0],[1,0,0,77,1,0,0,1,3,22,0,0,0,0,1438,34],[0,4,0,9,0,0,0,0,1,12,0,0,0,0,19,1436]],\"type\":\"heatmap\"}],                        {\"template\":{\"data\":{\"histogram2dcontour\":[{\"type\":\"histogram2dcontour\",\"colorbar\":{\"outlinewidth\":0,\"ticks\":\"\"},\"colorscale\":[[0.0,\"#0d0887\"],[0.1111111111111111,\"#46039f\"],[0.2222222222222222,\"#7201a8\"],[0.3333333333333333,\"#9c179e\"],[0.4444444444444444,\"#bd3786\"],[0.5555555555555556,\"#d8576b\"],[0.6666666666666666,\"#ed7953\"],[0.7777777777777778,\"#fb9f3a\"],[0.8888888888888888,\"#fdca26\"],[1.0,\"#f0f921\"]]}],\"choropleth\":[{\"type\":\"choropleth\",\"colorbar\":{\"outlinewidth\":0,\"ticks\":\"\"}}],\"histogram2d\":[{\"type\":\"histogram2d\",\"colorbar\":{\"outlinewidth\":0,\"ticks\":\"\"},\"colorscale\":[[0.0,\"#0d0887\"],[0.1111111111111111,\"#46039f\"],[0.2222222222222222,\"#7201a8\"],[0.3333333333333333,\"#9c179e\"],[0.4444444444444444,\"#bd3786\"],[0.5555555555555556,\"#d8576b\"],[0.6666666666666666,\"#ed7953\"],[0.7777777777777778,\"#fb9f3a\"],[0.8888888888888888,\"#fdca26\"],[1.0,\"#f0f921\"]]}],\"heatmap\":[{\"type\":\"heatmap\",\"colorbar\":{\"outlinewidth\":0,\"ticks\":\"\"},\"colorscale\":[[0.0,\"#0d0887\"],[0.1111111111111111,\"#46039f\"],[0.2222222222222222,\"#7201a8\"],[0.3333333333333333,\"#9c179e\"],[0.4444444444444444,\"#bd3786\"],[0.5555555555555556,\"#d8576b\"],[0.6666666666666666,\"#ed7953\"],[0.7777777777777778,\"#fb9f3a\"],[0.8888888888888888,\"#fdca26\"],[1.0,\"#f0f921\"]]}],\"heatmapgl\":[{\"type\":\"heatmapgl\",\"colorbar\":{\"outlinewidth\":0,\"ticks\":\"\"},\"colorscale\":[[0.0,\"#0d0887\"],[0.1111111111111111,\"#46039f\"],[0.2222222222222222,\"#7201a8\"],[0.3333333333333333,\"#9c179e\"],[0.4444444444444444,\"#bd3786\"],[0.5555555555555556,\"#d8576b\"],[0.6666666666666666,\"#ed7953\"],[0.7777777777777778,\"#fb9f3a\"],[0.8888888888888888,\"#fdca26\"],[1.0,\"#f0f921\"]]}],\"contourcarpet\":[{\"type\":\"contourcarpet\",\"colorbar\":{\"outlinewidth\":0,\"ticks\":\"\"}}],\"contour\":[{\"type\":\"contour\",\"colorbar\":{\"outlinewidth\":0,\"ticks\":\"\"},\"colorscale\":[[0.0,\"#0d0887\"],[0.1111111111111111,\"#46039f\"],[0.2222222222222222,\"#7201a8\"],[0.3333333333333333,\"#9c179e\"],[0.4444444444444444,\"#bd3786\"],[0.5555555555555556,\"#d8576b\"],[0.6666666666666666,\"#ed7953\"],[0.7777777777777778,\"#fb9f3a\"],[0.8888888888888888,\"#fdca26\"],[1.0,\"#f0f921\"]]}],\"surface\":[{\"type\":\"surface\",\"colorbar\":{\"outlinewidth\":0,\"ticks\":\"\"},\"colorscale\":[[0.0,\"#0d0887\"],[0.1111111111111111,\"#46039f\"],[0.2222222222222222,\"#7201a8\"],[0.3333333333333333,\"#9c179e\"],[0.4444444444444444,\"#bd3786\"],[0.5555555555555556,\"#d8576b\"],[0.6666666666666666,\"#ed7953\"],[0.7777777777777778,\"#fb9f3a\"],[0.8888888888888888,\"#fdca26\"],[1.0,\"#f0f921\"]]}],\"mesh3d\":[{\"type\":\"mesh3d\",\"colorbar\":{\"outlinewidth\":0,\"ticks\":\"\"}}],\"scatter\":[{\"fillpattern\":{\"fillmode\":\"overlay\",\"size\":10,\"solidity\":0.2},\"type\":\"scatter\"}],\"parcoords\":[{\"type\":\"parcoords\",\"line\":{\"colorbar\":{\"outlinewidth\":0,\"ticks\":\"\"}}}],\"scatterpolargl\":[{\"type\":\"scatterpolargl\",\"marker\":{\"colorbar\":{\"outlinewidth\":0,\"ticks\":\"\"}}}],\"bar\":[{\"error_x\":{\"color\":\"#2a3f5f\"},\"error_y\":{\"color\":\"#2a3f5f\"},\"marker\":{\"line\":{\"color\":\"white\",\"width\":0.5},\"pattern\":{\"fillmode\":\"overlay\",\"size\":10,\"solidity\":0.2}},\"type\":\"bar\"}],\"scattergeo\":[{\"type\":\"scattergeo\",\"marker\":{\"colorbar\":{\"outlinewidth\":0,\"ticks\":\"\"}}}],\"scatterpolar\":[{\"type\":\"scatterpolar\",\"marker\":{\"colorbar\":{\"outlinewidth\":0,\"ticks\":\"\"}}}],\"histogram\":[{\"marker\":{\"pattern\":{\"fillmode\":\"overlay\",\"size\":10,\"solidity\":0.2}},\"type\":\"histogram\"}],\"scattergl\":[{\"type\":\"scattergl\",\"marker\":{\"colorbar\":{\"outlinewidth\":0,\"ticks\":\"\"}}}],\"scatter3d\":[{\"type\":\"scatter3d\",\"line\":{\"colorbar\":{\"outlinewidth\":0,\"ticks\":\"\"}},\"marker\":{\"colorbar\":{\"outlinewidth\":0,\"ticks\":\"\"}}}],\"scattermapbox\":[{\"type\":\"scattermapbox\",\"marker\":{\"colorbar\":{\"outlinewidth\":0,\"ticks\":\"\"}}}],\"scatterternary\":[{\"type\":\"scatterternary\",\"marker\":{\"colorbar\":{\"outlinewidth\":0,\"ticks\":\"\"}}}],\"scattercarpet\":[{\"type\":\"scattercarpet\",\"marker\":{\"colorbar\":{\"outlinewidth\":0,\"ticks\":\"\"}}}],\"carpet\":[{\"aaxis\":{\"endlinecolor\":\"#2a3f5f\",\"gridcolor\":\"#C8D4E3\",\"linecolor\":\"#C8D4E3\",\"minorgridcolor\":\"#C8D4E3\",\"startlinecolor\":\"#2a3f5f\"},\"baxis\":{\"endlinecolor\":\"#2a3f5f\",\"gridcolor\":\"#C8D4E3\",\"linecolor\":\"#C8D4E3\",\"minorgridcolor\":\"#C8D4E3\",\"startlinecolor\":\"#2a3f5f\"},\"type\":\"carpet\"}],\"table\":[{\"cells\":{\"fill\":{\"color\":\"#EBF0F8\"},\"line\":{\"color\":\"white\"}},\"header\":{\"fill\":{\"color\":\"#C8D4E3\"},\"line\":{\"color\":\"white\"}},\"type\":\"table\"}],\"barpolar\":[{\"marker\":{\"line\":{\"color\":\"white\",\"width\":0.5},\"pattern\":{\"fillmode\":\"overlay\",\"size\":10,\"solidity\":0.2}},\"type\":\"barpolar\"}],\"pie\":[{\"automargin\":true,\"type\":\"pie\"}]},\"layout\":{\"autotypenumbers\":\"strict\",\"colorway\":[\"#636efa\",\"#EF553B\",\"#00cc96\",\"#ab63fa\",\"#FFA15A\",\"#19d3f3\",\"#FF6692\",\"#B6E880\",\"#FF97FF\",\"#FECB52\"],\"font\":{\"color\":\"#2a3f5f\"},\"hovermode\":\"closest\",\"hoverlabel\":{\"align\":\"left\"},\"paper_bgcolor\":\"white\",\"plot_bgcolor\":\"white\",\"polar\":{\"bgcolor\":\"white\",\"angularaxis\":{\"gridcolor\":\"#EBF0F8\",\"linecolor\":\"#EBF0F8\",\"ticks\":\"\"},\"radialaxis\":{\"gridcolor\":\"#EBF0F8\",\"linecolor\":\"#EBF0F8\",\"ticks\":\"\"}},\"ternary\":{\"bgcolor\":\"white\",\"aaxis\":{\"gridcolor\":\"#DFE8F3\",\"linecolor\":\"#A2B1C6\",\"ticks\":\"\"},\"baxis\":{\"gridcolor\":\"#DFE8F3\",\"linecolor\":\"#A2B1C6\",\"ticks\":\"\"},\"caxis\":{\"gridcolor\":\"#DFE8F3\",\"linecolor\":\"#A2B1C6\",\"ticks\":\"\"}},\"coloraxis\":{\"colorbar\":{\"outlinewidth\":0,\"ticks\":\"\"}},\"colorscale\":{\"sequential\":[[0.0,\"#0d0887\"],[0.1111111111111111,\"#46039f\"],[0.2222222222222222,\"#7201a8\"],[0.3333333333333333,\"#9c179e\"],[0.4444444444444444,\"#bd3786\"],[0.5555555555555556,\"#d8576b\"],[0.6666666666666666,\"#ed7953\"],[0.7777777777777778,\"#fb9f3a\"],[0.8888888888888888,\"#fdca26\"],[1.0,\"#f0f921\"]],\"sequentialminus\":[[0.0,\"#0d0887\"],[0.1111111111111111,\"#46039f\"],[0.2222222222222222,\"#7201a8\"],[0.3333333333333333,\"#9c179e\"],[0.4444444444444444,\"#bd3786\"],[0.5555555555555556,\"#d8576b\"],[0.6666666666666666,\"#ed7953\"],[0.7777777777777778,\"#fb9f3a\"],[0.8888888888888888,\"#fdca26\"],[1.0,\"#f0f921\"]],\"diverging\":[[0,\"#8e0152\"],[0.1,\"#c51b7d\"],[0.2,\"#de77ae\"],[0.3,\"#f1b6da\"],[0.4,\"#fde0ef\"],[0.5,\"#f7f7f7\"],[0.6,\"#e6f5d0\"],[0.7,\"#b8e186\"],[0.8,\"#7fbc41\"],[0.9,\"#4d9221\"],[1,\"#276419\"]]},\"xaxis\":{\"gridcolor\":\"#EBF0F8\",\"linecolor\":\"#EBF0F8\",\"ticks\":\"\",\"title\":{\"standoff\":15},\"zerolinecolor\":\"#EBF0F8\",\"automargin\":true,\"zerolinewidth\":2},\"yaxis\":{\"gridcolor\":\"#EBF0F8\",\"linecolor\":\"#EBF0F8\",\"ticks\":\"\",\"title\":{\"standoff\":15},\"zerolinecolor\":\"#EBF0F8\",\"automargin\":true,\"zerolinewidth\":2},\"scene\":{\"xaxis\":{\"backgroundcolor\":\"white\",\"gridcolor\":\"#DFE8F3\",\"linecolor\":\"#EBF0F8\",\"showbackground\":true,\"ticks\":\"\",\"zerolinecolor\":\"#EBF0F8\",\"gridwidth\":2},\"yaxis\":{\"backgroundcolor\":\"white\",\"gridcolor\":\"#DFE8F3\",\"linecolor\":\"#EBF0F8\",\"showbackground\":true,\"ticks\":\"\",\"zerolinecolor\":\"#EBF0F8\",\"gridwidth\":2},\"zaxis\":{\"backgroundcolor\":\"white\",\"gridcolor\":\"#DFE8F3\",\"linecolor\":\"#EBF0F8\",\"showbackground\":true,\"ticks\":\"\",\"zerolinecolor\":\"#EBF0F8\",\"gridwidth\":2}},\"shapedefaults\":{\"line\":{\"color\":\"#2a3f5f\"}},\"annotationdefaults\":{\"arrowcolor\":\"#2a3f5f\",\"arrowhead\":0,\"arrowwidth\":1},\"geo\":{\"bgcolor\":\"white\",\"landcolor\":\"white\",\"subunitcolor\":\"#C8D4E3\",\"showland\":true,\"showlakes\":true,\"lakecolor\":\"white\"},\"title\":{\"x\":0.05},\"mapbox\":{\"style\":\"light\"}}},\"xaxis\":{\"anchor\":\"y\",\"domain\":[0.0,0.45]},\"yaxis\":{\"anchor\":\"x\",\"domain\":[0.0,1.0]},\"xaxis2\":{\"anchor\":\"y2\",\"domain\":[0.55,1.0]},\"yaxis2\":{\"anchor\":\"x2\",\"domain\":[0.0,1.0]},\"title\":{\"text\":\"Japanese non-lemmatized vs lemmatized\"}},                        {\"responsive\": true}                    ).then(function(){\n                            \nvar gd = document.getElementById('2738b435-e513-482c-89c6-4f026dc5950c');\nvar x = new MutationObserver(function (mutations, observer) {{\n        var display = window.getComputedStyle(gd).display;\n        if (!display || display === 'none') {{\n            console.log([gd, 'removed!']);\n            Plotly.purge(gd);\n            observer.disconnect();\n        }}\n}});\n\n// Listen for the removal of the full notebook cells\nvar notebookContainer = gd.closest('#notebook-container');\nif (notebookContainer) {{\n    x.observe(notebookContainer, {childList: true});\n}}\n\n// Listen for the clearing of the current output cell\nvar outputEl = gd.closest('.output');\nif (outputEl) {{\n    x.observe(outputEl, {childList: true});\n}}\n\n                        })                };                });            </script>        </div>"
     },
     "metadata": {},
     "output_type": "display_data"
    },
    {
     "data": {
      "application/vnd.plotly.v1+json": {
       "data": [
        {
         "coloraxis": "coloraxis",
         "hovertemplate": "Predicted tag: %{x}<br>Gold tag: %{y}<br>Freq: %{z}<extra></extra>",
         "name": "0",
         "texttemplate": "%{z}",
         "x": [
          "PROPN",
          "SCONJ",
          "SYM",
          "NOUN",
          "PART",
          "NUM",
          "CCONJ",
          "ADP",
          "ADV",
          "ADJ",
          "INTJ",
          "DET",
          "PUNCT",
          "X",
          "PRON",
          "VERB",
          "AUX"
         ],
         "xaxis": "x",
         "y": [
          "PROPN",
          "SCONJ",
          "SYM",
          "NOUN",
          "PART",
          "NUM",
          "CCONJ",
          "ADP",
          "ADV",
          "ADJ",
          "INTJ",
          "DET",
          "PUNCT",
          "X",
          "PRON",
          "VERB",
          "AUX"
         ],
         "yaxis": "y",
         "z": [
          [
           52.7,
           0.0,
           0.0,
           31.4,
           0.0,
           2.8,
           0.4,
           0.0,
           1.9,
           5.2,
           0.0,
           0.6,
           0.0,
           0.2,
           0.3,
           4.0,
           0.4
          ],
          [
           0.0,
           0.0,
           0.0,
           0.0,
           0.0,
           0.0,
           0.0,
           0.0,
           0.0,
           0.0,
           0.0,
           0.0,
           0.0,
           0.0,
           0.0,
           0.0,
           0.0
          ],
          [
           0.0,
           0.0,
           0.0,
           0.0,
           0.0,
           0.0,
           0.0,
           0.0,
           0.0,
           0.0,
           0.0,
           0.0,
           0.0,
           0.0,
           0.0,
           0.0,
           0.0
          ],
          [
           7.6,
           0.0,
           0.0,
           71.2,
           0.0,
           1.8,
           0.1,
           0.4,
           1.9,
           6.7,
           0.1,
           0.9,
           0.0,
           0.0,
           0.4,
           7.4,
           1.4
          ],
          [
           0.0,
           0.0,
           0.0,
           1.0,
           99.0,
           0.0,
           0.0,
           0.0,
           0.0,
           0.0,
           0.0,
           0.0,
           0.0,
           0.0,
           0.0,
           0.0,
           0.0
          ],
          [
           0.4,
           0.0,
           0.0,
           0.0,
           0.0,
           99.4,
           0.0,
           0.2,
           0.0,
           0.0,
           0.0,
           0.0,
           0.0,
           0.0,
           0.0,
           0.0,
           0.0
          ],
          [
           0.0,
           0.0,
           0.0,
           0.5,
           0.0,
           0.0,
           98.2,
           0.0,
           0.7,
           0.0,
           0.1,
           0.2,
           0.0,
           0.1,
           0.0,
           0.1,
           0.1
          ],
          [
           0.0,
           0.0,
           0.0,
           6.6,
           0.0,
           0.2,
           0.5,
           86.8,
           5.4,
           0.2,
           0.0,
           0.2,
           0.0,
           0.0,
           0.0,
           0.0,
           0.0
          ],
          [
           0.0,
           0.0,
           0.0,
           1.8,
           0.0,
           0.0,
           0.6,
           0.4,
           94.1,
           1.0,
           0.1,
           1.3,
           0.0,
           0.6,
           0.0,
           0.1,
           0.0
          ],
          [
           0.0,
           0.0,
           0.0,
           5.6,
           0.0,
           0.1,
           0.0,
           0.3,
           2.9,
           91.0,
           0.0,
           0.1,
           0.0,
           0.0,
           0.0,
           0.0,
           0.0
          ],
          [
           50.0,
           0.0,
           0.0,
           0.0,
           0.0,
           0.0,
           0.0,
           0.0,
           0.0,
           0.0,
           50.0,
           0.0,
           0.0,
           0.0,
           0.0,
           0.0,
           0.0
          ],
          [
           0.0,
           0.0,
           0.0,
           1.0,
           0.0,
           0.0,
           0.6,
           0.0,
           2.6,
           0.1,
           0.0,
           95.2,
           0.0,
           0.0,
           0.0,
           0.3,
           0.1
          ],
          [
           0.0,
           0.0,
           0.0,
           0.0,
           0.0,
           0.0,
           0.0,
           0.0,
           0.0,
           0.0,
           0.0,
           0.0,
           100.0,
           0.0,
           0.0,
           0.0,
           0.0
          ],
          [
           0.0,
           0.0,
           0.0,
           0.0,
           0.0,
           0.0,
           0.0,
           0.0,
           33.3,
           0.0,
           0.0,
           0.0,
           0.0,
           66.7,
           0.0,
           0.0,
           0.0
          ],
          [
           0.0,
           0.0,
           0.0,
           0.0,
           0.0,
           0.0,
           0.0,
           0.0,
           0.0,
           0.0,
           0.0,
           0.0,
           0.0,
           0.0,
           100.0,
           0.0,
           0.0
          ],
          [
           0.6,
           0.0,
           0.0,
           2.9,
           0.0,
           0.1,
           0.0,
           0.0,
           0.2,
           1.8,
           0.0,
           0.1,
           0.0,
           0.0,
           0.0,
           87.7,
           6.6
          ],
          [
           0.0,
           0.0,
           0.0,
           0.0,
           0.0,
           0.0,
           0.0,
           0.0,
           0.0,
           0.1,
           0.0,
           0.0,
           0.0,
           0.0,
           0.1,
           12.1,
           87.5
          ]
         ],
         "type": "heatmap"
        },
        {
         "coloraxis": "coloraxis",
         "hovertemplate": "Predicted tag: %{x}<br>Gold tag: %{y}<br>Freq: %{z}<extra></extra>",
         "name": "0",
         "texttemplate": "%{z}",
         "x": [
          "PROPN",
          "SCONJ",
          "SYM",
          "NOUN",
          "PART",
          "NUM",
          "CCONJ",
          "ADP",
          "ADV",
          "ADJ",
          "INTJ",
          "DET",
          "PUNCT",
          "X",
          "PRON",
          "VERB",
          "AUX"
         ],
         "xaxis": "x2",
         "y": [
          "PROPN",
          "SCONJ",
          "SYM",
          "NOUN",
          "PART",
          "NUM",
          "CCONJ",
          "ADP",
          "ADV",
          "ADJ",
          "INTJ",
          "DET",
          "PUNCT",
          "X",
          "PRON",
          "VERB",
          "AUX"
         ],
         "yaxis": "y2",
         "z": [
          [
           74.5,
           0.0,
           0.0,
           16.1,
           0.0,
           3.4,
           0.1,
           0.0,
           1.1,
           2.9,
           0.0,
           0.1,
           0.0,
           0.3,
           0.1,
           1.2,
           0.0
          ],
          [
           0.0,
           0.0,
           0.0,
           0.0,
           0.0,
           0.0,
           0.0,
           0.0,
           0.0,
           0.0,
           0.0,
           0.0,
           0.0,
           0.0,
           0.0,
           0.0,
           0.0
          ],
          [
           0.0,
           0.0,
           66.7,
           33.3,
           0.0,
           0.0,
           0.0,
           0.0,
           0.0,
           0.0,
           0.0,
           0.0,
           0.0,
           0.0,
           0.0,
           0.0,
           0.0
          ],
          [
           2.6,
           0.0,
           0.0,
           89.8,
           0.0,
           0.8,
           0.0,
           0.4,
           1.6,
           3.1,
           0.1,
           0.1,
           0.0,
           0.0,
           0.0,
           1.6,
           0.0
          ],
          [
           0.0,
           0.0,
           0.0,
           1.0,
           98.6,
           0.0,
           0.0,
           0.3,
           0.0,
           0.0,
           0.0,
           0.0,
           0.0,
           0.0,
           0.0,
           0.0,
           0.0
          ],
          [
           0.0,
           0.0,
           0.0,
           0.3,
           0.0,
           98.6,
           0.0,
           0.9,
           0.0,
           0.0,
           0.0,
           0.2,
           0.0,
           0.0,
           0.0,
           0.0,
           0.0
          ],
          [
           0.0,
           0.0,
           0.0,
           0.2,
           0.0,
           0.0,
           98.6,
           0.0,
           0.7,
           0.0,
           0.1,
           0.4,
           0.0,
           0.1,
           0.0,
           0.0,
           0.0
          ],
          [
           0.2,
           0.0,
           0.0,
           10.3,
           0.0,
           0.0,
           0.5,
           84.3,
           4.2,
           0.2,
           0.0,
           0.2,
           0.0,
           0.0,
           0.0,
           0.0,
           0.0
          ],
          [
           0.0,
           0.0,
           0.0,
           1.3,
           0.0,
           0.0,
           0.6,
           0.9,
           93.8,
           2.3,
           0.2,
           0.4,
           0.0,
           0.4,
           0.0,
           0.0,
           0.0
          ],
          [
           1.5,
           0.0,
           0.0,
           9.0,
           0.0,
           0.4,
           0.0,
           0.2,
           3.4,
           84.5,
           0.0,
           0.1,
           0.0,
           0.1,
           0.0,
           0.8,
           0.0
          ],
          [
           0.0,
           0.0,
           0.0,
           0.0,
           0.0,
           0.0,
           0.0,
           0.0,
           0.0,
           0.0,
           100.0,
           0.0,
           0.0,
           0.0,
           0.0,
           0.0,
           0.0
          ],
          [
           0.0,
           0.0,
           0.0,
           1.4,
           0.0,
           0.0,
           0.6,
           0.0,
           2.4,
           0.7,
           0.0,
           94.9,
           0.0,
           0.0,
           0.0,
           0.0,
           0.0
          ],
          [
           0.0,
           0.0,
           0.0,
           0.0,
           0.0,
           0.0,
           0.0,
           0.0,
           0.0,
           0.0,
           0.0,
           0.0,
           100.0,
           0.0,
           0.0,
           0.0,
           0.0
          ],
          [
           0.0,
           0.0,
           0.0,
           0.0,
           0.0,
           0.0,
           0.0,
           0.0,
           33.3,
           0.0,
           0.0,
           0.0,
           0.0,
           66.7,
           0.0,
           0.0,
           0.0
          ],
          [
           0.0,
           0.0,
           0.0,
           1.2,
           0.0,
           0.0,
           0.0,
           0.0,
           0.0,
           0.0,
           0.0,
           0.0,
           0.0,
           0.0,
           98.8,
           0.0,
           0.0
          ],
          [
           0.1,
           0.0,
           0.0,
           1.3,
           0.0,
           0.1,
           0.0,
           0.0,
           0.1,
           0.7,
           0.0,
           0.0,
           0.0,
           0.0,
           0.0,
           92.0,
           5.7
          ],
          [
           0.0,
           0.0,
           0.0,
           0.0,
           0.0,
           0.0,
           0.0,
           0.0,
           0.0,
           0.0,
           0.0,
           0.0,
           0.0,
           0.0,
           0.0,
           7.8,
           92.2
          ]
         ],
         "type": "heatmap"
        }
       ],
       "layout": {
        "template": {
         "data": {
          "histogram2dcontour": [
           {
            "type": "histogram2dcontour",
            "colorbar": {
             "outlinewidth": 0,
             "ticks": ""
            },
            "colorscale": [
             [
              0.0,
              "#0d0887"
             ],
             [
              0.1111111111111111,
              "#46039f"
             ],
             [
              0.2222222222222222,
              "#7201a8"
             ],
             [
              0.3333333333333333,
              "#9c179e"
             ],
             [
              0.4444444444444444,
              "#bd3786"
             ],
             [
              0.5555555555555556,
              "#d8576b"
             ],
             [
              0.6666666666666666,
              "#ed7953"
             ],
             [
              0.7777777777777778,
              "#fb9f3a"
             ],
             [
              0.8888888888888888,
              "#fdca26"
             ],
             [
              1.0,
              "#f0f921"
             ]
            ]
           }
          ],
          "choropleth": [
           {
            "type": "choropleth",
            "colorbar": {
             "outlinewidth": 0,
             "ticks": ""
            }
           }
          ],
          "histogram2d": [
           {
            "type": "histogram2d",
            "colorbar": {
             "outlinewidth": 0,
             "ticks": ""
            },
            "colorscale": [
             [
              0.0,
              "#0d0887"
             ],
             [
              0.1111111111111111,
              "#46039f"
             ],
             [
              0.2222222222222222,
              "#7201a8"
             ],
             [
              0.3333333333333333,
              "#9c179e"
             ],
             [
              0.4444444444444444,
              "#bd3786"
             ],
             [
              0.5555555555555556,
              "#d8576b"
             ],
             [
              0.6666666666666666,
              "#ed7953"
             ],
             [
              0.7777777777777778,
              "#fb9f3a"
             ],
             [
              0.8888888888888888,
              "#fdca26"
             ],
             [
              1.0,
              "#f0f921"
             ]
            ]
           }
          ],
          "heatmap": [
           {
            "type": "heatmap",
            "colorbar": {
             "outlinewidth": 0,
             "ticks": ""
            },
            "colorscale": [
             [
              0.0,
              "#0d0887"
             ],
             [
              0.1111111111111111,
              "#46039f"
             ],
             [
              0.2222222222222222,
              "#7201a8"
             ],
             [
              0.3333333333333333,
              "#9c179e"
             ],
             [
              0.4444444444444444,
              "#bd3786"
             ],
             [
              0.5555555555555556,
              "#d8576b"
             ],
             [
              0.6666666666666666,
              "#ed7953"
             ],
             [
              0.7777777777777778,
              "#fb9f3a"
             ],
             [
              0.8888888888888888,
              "#fdca26"
             ],
             [
              1.0,
              "#f0f921"
             ]
            ]
           }
          ],
          "heatmapgl": [
           {
            "type": "heatmapgl",
            "colorbar": {
             "outlinewidth": 0,
             "ticks": ""
            },
            "colorscale": [
             [
              0.0,
              "#0d0887"
             ],
             [
              0.1111111111111111,
              "#46039f"
             ],
             [
              0.2222222222222222,
              "#7201a8"
             ],
             [
              0.3333333333333333,
              "#9c179e"
             ],
             [
              0.4444444444444444,
              "#bd3786"
             ],
             [
              0.5555555555555556,
              "#d8576b"
             ],
             [
              0.6666666666666666,
              "#ed7953"
             ],
             [
              0.7777777777777778,
              "#fb9f3a"
             ],
             [
              0.8888888888888888,
              "#fdca26"
             ],
             [
              1.0,
              "#f0f921"
             ]
            ]
           }
          ],
          "contourcarpet": [
           {
            "type": "contourcarpet",
            "colorbar": {
             "outlinewidth": 0,
             "ticks": ""
            }
           }
          ],
          "contour": [
           {
            "type": "contour",
            "colorbar": {
             "outlinewidth": 0,
             "ticks": ""
            },
            "colorscale": [
             [
              0.0,
              "#0d0887"
             ],
             [
              0.1111111111111111,
              "#46039f"
             ],
             [
              0.2222222222222222,
              "#7201a8"
             ],
             [
              0.3333333333333333,
              "#9c179e"
             ],
             [
              0.4444444444444444,
              "#bd3786"
             ],
             [
              0.5555555555555556,
              "#d8576b"
             ],
             [
              0.6666666666666666,
              "#ed7953"
             ],
             [
              0.7777777777777778,
              "#fb9f3a"
             ],
             [
              0.8888888888888888,
              "#fdca26"
             ],
             [
              1.0,
              "#f0f921"
             ]
            ]
           }
          ],
          "surface": [
           {
            "type": "surface",
            "colorbar": {
             "outlinewidth": 0,
             "ticks": ""
            },
            "colorscale": [
             [
              0.0,
              "#0d0887"
             ],
             [
              0.1111111111111111,
              "#46039f"
             ],
             [
              0.2222222222222222,
              "#7201a8"
             ],
             [
              0.3333333333333333,
              "#9c179e"
             ],
             [
              0.4444444444444444,
              "#bd3786"
             ],
             [
              0.5555555555555556,
              "#d8576b"
             ],
             [
              0.6666666666666666,
              "#ed7953"
             ],
             [
              0.7777777777777778,
              "#fb9f3a"
             ],
             [
              0.8888888888888888,
              "#fdca26"
             ],
             [
              1.0,
              "#f0f921"
             ]
            ]
           }
          ],
          "mesh3d": [
           {
            "type": "mesh3d",
            "colorbar": {
             "outlinewidth": 0,
             "ticks": ""
            }
           }
          ],
          "scatter": [
           {
            "fillpattern": {
             "fillmode": "overlay",
             "size": 10,
             "solidity": 0.2
            },
            "type": "scatter"
           }
          ],
          "parcoords": [
           {
            "type": "parcoords",
            "line": {
             "colorbar": {
              "outlinewidth": 0,
              "ticks": ""
             }
            }
           }
          ],
          "scatterpolargl": [
           {
            "type": "scatterpolargl",
            "marker": {
             "colorbar": {
              "outlinewidth": 0,
              "ticks": ""
             }
            }
           }
          ],
          "bar": [
           {
            "error_x": {
             "color": "#2a3f5f"
            },
            "error_y": {
             "color": "#2a3f5f"
            },
            "marker": {
             "line": {
              "color": "white",
              "width": 0.5
             },
             "pattern": {
              "fillmode": "overlay",
              "size": 10,
              "solidity": 0.2
             }
            },
            "type": "bar"
           }
          ],
          "scattergeo": [
           {
            "type": "scattergeo",
            "marker": {
             "colorbar": {
              "outlinewidth": 0,
              "ticks": ""
             }
            }
           }
          ],
          "scatterpolar": [
           {
            "type": "scatterpolar",
            "marker": {
             "colorbar": {
              "outlinewidth": 0,
              "ticks": ""
             }
            }
           }
          ],
          "histogram": [
           {
            "marker": {
             "pattern": {
              "fillmode": "overlay",
              "size": 10,
              "solidity": 0.2
             }
            },
            "type": "histogram"
           }
          ],
          "scattergl": [
           {
            "type": "scattergl",
            "marker": {
             "colorbar": {
              "outlinewidth": 0,
              "ticks": ""
             }
            }
           }
          ],
          "scatter3d": [
           {
            "type": "scatter3d",
            "line": {
             "colorbar": {
              "outlinewidth": 0,
              "ticks": ""
             }
            },
            "marker": {
             "colorbar": {
              "outlinewidth": 0,
              "ticks": ""
             }
            }
           }
          ],
          "scattermapbox": [
           {
            "type": "scattermapbox",
            "marker": {
             "colorbar": {
              "outlinewidth": 0,
              "ticks": ""
             }
            }
           }
          ],
          "scatterternary": [
           {
            "type": "scatterternary",
            "marker": {
             "colorbar": {
              "outlinewidth": 0,
              "ticks": ""
             }
            }
           }
          ],
          "scattercarpet": [
           {
            "type": "scattercarpet",
            "marker": {
             "colorbar": {
              "outlinewidth": 0,
              "ticks": ""
             }
            }
           }
          ],
          "carpet": [
           {
            "aaxis": {
             "endlinecolor": "#2a3f5f",
             "gridcolor": "#C8D4E3",
             "linecolor": "#C8D4E3",
             "minorgridcolor": "#C8D4E3",
             "startlinecolor": "#2a3f5f"
            },
            "baxis": {
             "endlinecolor": "#2a3f5f",
             "gridcolor": "#C8D4E3",
             "linecolor": "#C8D4E3",
             "minorgridcolor": "#C8D4E3",
             "startlinecolor": "#2a3f5f"
            },
            "type": "carpet"
           }
          ],
          "table": [
           {
            "cells": {
             "fill": {
              "color": "#EBF0F8"
             },
             "line": {
              "color": "white"
             }
            },
            "header": {
             "fill": {
              "color": "#C8D4E3"
             },
             "line": {
              "color": "white"
             }
            },
            "type": "table"
           }
          ],
          "barpolar": [
           {
            "marker": {
             "line": {
              "color": "white",
              "width": 0.5
             },
             "pattern": {
              "fillmode": "overlay",
              "size": 10,
              "solidity": 0.2
             }
            },
            "type": "barpolar"
           }
          ],
          "pie": [
           {
            "automargin": true,
            "type": "pie"
           }
          ]
         },
         "layout": {
          "autotypenumbers": "strict",
          "colorway": [
           "#636efa",
           "#EF553B",
           "#00cc96",
           "#ab63fa",
           "#FFA15A",
           "#19d3f3",
           "#FF6692",
           "#B6E880",
           "#FF97FF",
           "#FECB52"
          ],
          "font": {
           "color": "#2a3f5f"
          },
          "hovermode": "closest",
          "hoverlabel": {
           "align": "left"
          },
          "paper_bgcolor": "white",
          "plot_bgcolor": "white",
          "polar": {
           "bgcolor": "white",
           "angularaxis": {
            "gridcolor": "#EBF0F8",
            "linecolor": "#EBF0F8",
            "ticks": ""
           },
           "radialaxis": {
            "gridcolor": "#EBF0F8",
            "linecolor": "#EBF0F8",
            "ticks": ""
           }
          },
          "ternary": {
           "bgcolor": "white",
           "aaxis": {
            "gridcolor": "#DFE8F3",
            "linecolor": "#A2B1C6",
            "ticks": ""
           },
           "baxis": {
            "gridcolor": "#DFE8F3",
            "linecolor": "#A2B1C6",
            "ticks": ""
           },
           "caxis": {
            "gridcolor": "#DFE8F3",
            "linecolor": "#A2B1C6",
            "ticks": ""
           }
          },
          "coloraxis": {
           "colorbar": {
            "outlinewidth": 0,
            "ticks": ""
           }
          },
          "colorscale": {
           "sequential": [
            [
             0.0,
             "#0d0887"
            ],
            [
             0.1111111111111111,
             "#46039f"
            ],
            [
             0.2222222222222222,
             "#7201a8"
            ],
            [
             0.3333333333333333,
             "#9c179e"
            ],
            [
             0.4444444444444444,
             "#bd3786"
            ],
            [
             0.5555555555555556,
             "#d8576b"
            ],
            [
             0.6666666666666666,
             "#ed7953"
            ],
            [
             0.7777777777777778,
             "#fb9f3a"
            ],
            [
             0.8888888888888888,
             "#fdca26"
            ],
            [
             1.0,
             "#f0f921"
            ]
           ],
           "sequentialminus": [
            [
             0.0,
             "#0d0887"
            ],
            [
             0.1111111111111111,
             "#46039f"
            ],
            [
             0.2222222222222222,
             "#7201a8"
            ],
            [
             0.3333333333333333,
             "#9c179e"
            ],
            [
             0.4444444444444444,
             "#bd3786"
            ],
            [
             0.5555555555555556,
             "#d8576b"
            ],
            [
             0.6666666666666666,
             "#ed7953"
            ],
            [
             0.7777777777777778,
             "#fb9f3a"
            ],
            [
             0.8888888888888888,
             "#fdca26"
            ],
            [
             1.0,
             "#f0f921"
            ]
           ],
           "diverging": [
            [
             0,
             "#8e0152"
            ],
            [
             0.1,
             "#c51b7d"
            ],
            [
             0.2,
             "#de77ae"
            ],
            [
             0.3,
             "#f1b6da"
            ],
            [
             0.4,
             "#fde0ef"
            ],
            [
             0.5,
             "#f7f7f7"
            ],
            [
             0.6,
             "#e6f5d0"
            ],
            [
             0.7,
             "#b8e186"
            ],
            [
             0.8,
             "#7fbc41"
            ],
            [
             0.9,
             "#4d9221"
            ],
            [
             1,
             "#276419"
            ]
           ]
          },
          "xaxis": {
           "gridcolor": "#EBF0F8",
           "linecolor": "#EBF0F8",
           "ticks": "",
           "title": {
            "standoff": 15
           },
           "zerolinecolor": "#EBF0F8",
           "automargin": true,
           "zerolinewidth": 2
          },
          "yaxis": {
           "gridcolor": "#EBF0F8",
           "linecolor": "#EBF0F8",
           "ticks": "",
           "title": {
            "standoff": 15
           },
           "zerolinecolor": "#EBF0F8",
           "automargin": true,
           "zerolinewidth": 2
          },
          "scene": {
           "xaxis": {
            "backgroundcolor": "white",
            "gridcolor": "#DFE8F3",
            "linecolor": "#EBF0F8",
            "showbackground": true,
            "ticks": "",
            "zerolinecolor": "#EBF0F8",
            "gridwidth": 2
           },
           "yaxis": {
            "backgroundcolor": "white",
            "gridcolor": "#DFE8F3",
            "linecolor": "#EBF0F8",
            "showbackground": true,
            "ticks": "",
            "zerolinecolor": "#EBF0F8",
            "gridwidth": 2
           },
           "zaxis": {
            "backgroundcolor": "white",
            "gridcolor": "#DFE8F3",
            "linecolor": "#EBF0F8",
            "showbackground": true,
            "ticks": "",
            "zerolinecolor": "#EBF0F8",
            "gridwidth": 2
           }
          },
          "shapedefaults": {
           "line": {
            "color": "#2a3f5f"
           }
          },
          "annotationdefaults": {
           "arrowcolor": "#2a3f5f",
           "arrowhead": 0,
           "arrowwidth": 1
          },
          "geo": {
           "bgcolor": "white",
           "landcolor": "white",
           "subunitcolor": "#C8D4E3",
           "showland": true,
           "showlakes": true,
           "lakecolor": "white"
          },
          "title": {
           "x": 0.05
          },
          "mapbox": {
           "style": "light"
          }
         }
        },
        "xaxis": {
         "anchor": "y",
         "domain": [
          0.0,
          0.45
         ]
        },
        "yaxis": {
         "anchor": "x",
         "domain": [
          0.0,
          1.0
         ]
        },
        "xaxis2": {
         "anchor": "y2",
         "domain": [
          0.55,
          1.0
         ]
        },
        "yaxis2": {
         "anchor": "x2",
         "domain": [
          0.0,
          1.0
         ]
        },
        "title": {
         "text": "Basque non-lemmatized vs lemmatized (normalized)"
        }
       },
       "config": {
        "plotlyServerURL": "https://plot.ly"
       }
      },
      "text/html": "<div>                            <div id=\"e4739993-2179-48a9-a66b-6287f30f4285\" class=\"plotly-graph-div\" style=\"height:525px; width:100%;\"></div>            <script type=\"text/javascript\">                require([\"plotly\"], function(Plotly) {                    window.PLOTLYENV=window.PLOTLYENV || {};                                    if (document.getElementById(\"e4739993-2179-48a9-a66b-6287f30f4285\")) {                    Plotly.newPlot(                        \"e4739993-2179-48a9-a66b-6287f30f4285\",                        [{\"coloraxis\":\"coloraxis\",\"hovertemplate\":\"Predicted tag: %{x}\\u003cbr\\u003eGold tag: %{y}\\u003cbr\\u003eFreq: %{z}\\u003cextra\\u003e\\u003c\\u002fextra\\u003e\",\"name\":\"0\",\"texttemplate\":\"%{z}\",\"x\":[\"PROPN\",\"SCONJ\",\"SYM\",\"NOUN\",\"PART\",\"NUM\",\"CCONJ\",\"ADP\",\"ADV\",\"ADJ\",\"INTJ\",\"DET\",\"PUNCT\",\"X\",\"PRON\",\"VERB\",\"AUX\"],\"xaxis\":\"x\",\"y\":[\"PROPN\",\"SCONJ\",\"SYM\",\"NOUN\",\"PART\",\"NUM\",\"CCONJ\",\"ADP\",\"ADV\",\"ADJ\",\"INTJ\",\"DET\",\"PUNCT\",\"X\",\"PRON\",\"VERB\",\"AUX\"],\"yaxis\":\"y\",\"z\":[[52.7,0.0,0.0,31.4,0.0,2.8,0.4,0.0,1.9,5.2,0.0,0.6,0.0,0.2,0.3,4.0,0.4],[0.0,0.0,0.0,0.0,0.0,0.0,0.0,0.0,0.0,0.0,0.0,0.0,0.0,0.0,0.0,0.0,0.0],[0.0,0.0,0.0,0.0,0.0,0.0,0.0,0.0,0.0,0.0,0.0,0.0,0.0,0.0,0.0,0.0,0.0],[7.6,0.0,0.0,71.2,0.0,1.8,0.1,0.4,1.9,6.7,0.1,0.9,0.0,0.0,0.4,7.4,1.4],[0.0,0.0,0.0,1.0,99.0,0.0,0.0,0.0,0.0,0.0,0.0,0.0,0.0,0.0,0.0,0.0,0.0],[0.4,0.0,0.0,0.0,0.0,99.4,0.0,0.2,0.0,0.0,0.0,0.0,0.0,0.0,0.0,0.0,0.0],[0.0,0.0,0.0,0.5,0.0,0.0,98.2,0.0,0.7,0.0,0.1,0.2,0.0,0.1,0.0,0.1,0.1],[0.0,0.0,0.0,6.6,0.0,0.2,0.5,86.8,5.4,0.2,0.0,0.2,0.0,0.0,0.0,0.0,0.0],[0.0,0.0,0.0,1.8,0.0,0.0,0.6,0.4,94.1,1.0,0.1,1.3,0.0,0.6,0.0,0.1,0.0],[0.0,0.0,0.0,5.6,0.0,0.1,0.0,0.3,2.9,91.0,0.0,0.1,0.0,0.0,0.0,0.0,0.0],[50.0,0.0,0.0,0.0,0.0,0.0,0.0,0.0,0.0,0.0,50.0,0.0,0.0,0.0,0.0,0.0,0.0],[0.0,0.0,0.0,1.0,0.0,0.0,0.6,0.0,2.6,0.1,0.0,95.2,0.0,0.0,0.0,0.3,0.1],[0.0,0.0,0.0,0.0,0.0,0.0,0.0,0.0,0.0,0.0,0.0,0.0,100.0,0.0,0.0,0.0,0.0],[0.0,0.0,0.0,0.0,0.0,0.0,0.0,0.0,33.3,0.0,0.0,0.0,0.0,66.7,0.0,0.0,0.0],[0.0,0.0,0.0,0.0,0.0,0.0,0.0,0.0,0.0,0.0,0.0,0.0,0.0,0.0,100.0,0.0,0.0],[0.6,0.0,0.0,2.9,0.0,0.1,0.0,0.0,0.2,1.8,0.0,0.1,0.0,0.0,0.0,87.7,6.6],[0.0,0.0,0.0,0.0,0.0,0.0,0.0,0.0,0.0,0.1,0.0,0.0,0.0,0.0,0.1,12.1,87.5]],\"type\":\"heatmap\"},{\"coloraxis\":\"coloraxis\",\"hovertemplate\":\"Predicted tag: %{x}\\u003cbr\\u003eGold tag: %{y}\\u003cbr\\u003eFreq: %{z}\\u003cextra\\u003e\\u003c\\u002fextra\\u003e\",\"name\":\"0\",\"texttemplate\":\"%{z}\",\"x\":[\"PROPN\",\"SCONJ\",\"SYM\",\"NOUN\",\"PART\",\"NUM\",\"CCONJ\",\"ADP\",\"ADV\",\"ADJ\",\"INTJ\",\"DET\",\"PUNCT\",\"X\",\"PRON\",\"VERB\",\"AUX\"],\"xaxis\":\"x2\",\"y\":[\"PROPN\",\"SCONJ\",\"SYM\",\"NOUN\",\"PART\",\"NUM\",\"CCONJ\",\"ADP\",\"ADV\",\"ADJ\",\"INTJ\",\"DET\",\"PUNCT\",\"X\",\"PRON\",\"VERB\",\"AUX\"],\"yaxis\":\"y2\",\"z\":[[74.5,0.0,0.0,16.1,0.0,3.4,0.1,0.0,1.1,2.9,0.0,0.1,0.0,0.3,0.1,1.2,0.0],[0.0,0.0,0.0,0.0,0.0,0.0,0.0,0.0,0.0,0.0,0.0,0.0,0.0,0.0,0.0,0.0,0.0],[0.0,0.0,66.7,33.3,0.0,0.0,0.0,0.0,0.0,0.0,0.0,0.0,0.0,0.0,0.0,0.0,0.0],[2.6,0.0,0.0,89.8,0.0,0.8,0.0,0.4,1.6,3.1,0.1,0.1,0.0,0.0,0.0,1.6,0.0],[0.0,0.0,0.0,1.0,98.6,0.0,0.0,0.3,0.0,0.0,0.0,0.0,0.0,0.0,0.0,0.0,0.0],[0.0,0.0,0.0,0.3,0.0,98.6,0.0,0.9,0.0,0.0,0.0,0.2,0.0,0.0,0.0,0.0,0.0],[0.0,0.0,0.0,0.2,0.0,0.0,98.6,0.0,0.7,0.0,0.1,0.4,0.0,0.1,0.0,0.0,0.0],[0.2,0.0,0.0,10.3,0.0,0.0,0.5,84.3,4.2,0.2,0.0,0.2,0.0,0.0,0.0,0.0,0.0],[0.0,0.0,0.0,1.3,0.0,0.0,0.6,0.9,93.8,2.3,0.2,0.4,0.0,0.4,0.0,0.0,0.0],[1.5,0.0,0.0,9.0,0.0,0.4,0.0,0.2,3.4,84.5,0.0,0.1,0.0,0.1,0.0,0.8,0.0],[0.0,0.0,0.0,0.0,0.0,0.0,0.0,0.0,0.0,0.0,100.0,0.0,0.0,0.0,0.0,0.0,0.0],[0.0,0.0,0.0,1.4,0.0,0.0,0.6,0.0,2.4,0.7,0.0,94.9,0.0,0.0,0.0,0.0,0.0],[0.0,0.0,0.0,0.0,0.0,0.0,0.0,0.0,0.0,0.0,0.0,0.0,100.0,0.0,0.0,0.0,0.0],[0.0,0.0,0.0,0.0,0.0,0.0,0.0,0.0,33.3,0.0,0.0,0.0,0.0,66.7,0.0,0.0,0.0],[0.0,0.0,0.0,1.2,0.0,0.0,0.0,0.0,0.0,0.0,0.0,0.0,0.0,0.0,98.8,0.0,0.0],[0.1,0.0,0.0,1.3,0.0,0.1,0.0,0.0,0.1,0.7,0.0,0.0,0.0,0.0,0.0,92.0,5.7],[0.0,0.0,0.0,0.0,0.0,0.0,0.0,0.0,0.0,0.0,0.0,0.0,0.0,0.0,0.0,7.8,92.2]],\"type\":\"heatmap\"}],                        {\"template\":{\"data\":{\"histogram2dcontour\":[{\"type\":\"histogram2dcontour\",\"colorbar\":{\"outlinewidth\":0,\"ticks\":\"\"},\"colorscale\":[[0.0,\"#0d0887\"],[0.1111111111111111,\"#46039f\"],[0.2222222222222222,\"#7201a8\"],[0.3333333333333333,\"#9c179e\"],[0.4444444444444444,\"#bd3786\"],[0.5555555555555556,\"#d8576b\"],[0.6666666666666666,\"#ed7953\"],[0.7777777777777778,\"#fb9f3a\"],[0.8888888888888888,\"#fdca26\"],[1.0,\"#f0f921\"]]}],\"choropleth\":[{\"type\":\"choropleth\",\"colorbar\":{\"outlinewidth\":0,\"ticks\":\"\"}}],\"histogram2d\":[{\"type\":\"histogram2d\",\"colorbar\":{\"outlinewidth\":0,\"ticks\":\"\"},\"colorscale\":[[0.0,\"#0d0887\"],[0.1111111111111111,\"#46039f\"],[0.2222222222222222,\"#7201a8\"],[0.3333333333333333,\"#9c179e\"],[0.4444444444444444,\"#bd3786\"],[0.5555555555555556,\"#d8576b\"],[0.6666666666666666,\"#ed7953\"],[0.7777777777777778,\"#fb9f3a\"],[0.8888888888888888,\"#fdca26\"],[1.0,\"#f0f921\"]]}],\"heatmap\":[{\"type\":\"heatmap\",\"colorbar\":{\"outlinewidth\":0,\"ticks\":\"\"},\"colorscale\":[[0.0,\"#0d0887\"],[0.1111111111111111,\"#46039f\"],[0.2222222222222222,\"#7201a8\"],[0.3333333333333333,\"#9c179e\"],[0.4444444444444444,\"#bd3786\"],[0.5555555555555556,\"#d8576b\"],[0.6666666666666666,\"#ed7953\"],[0.7777777777777778,\"#fb9f3a\"],[0.8888888888888888,\"#fdca26\"],[1.0,\"#f0f921\"]]}],\"heatmapgl\":[{\"type\":\"heatmapgl\",\"colorbar\":{\"outlinewidth\":0,\"ticks\":\"\"},\"colorscale\":[[0.0,\"#0d0887\"],[0.1111111111111111,\"#46039f\"],[0.2222222222222222,\"#7201a8\"],[0.3333333333333333,\"#9c179e\"],[0.4444444444444444,\"#bd3786\"],[0.5555555555555556,\"#d8576b\"],[0.6666666666666666,\"#ed7953\"],[0.7777777777777778,\"#fb9f3a\"],[0.8888888888888888,\"#fdca26\"],[1.0,\"#f0f921\"]]}],\"contourcarpet\":[{\"type\":\"contourcarpet\",\"colorbar\":{\"outlinewidth\":0,\"ticks\":\"\"}}],\"contour\":[{\"type\":\"contour\",\"colorbar\":{\"outlinewidth\":0,\"ticks\":\"\"},\"colorscale\":[[0.0,\"#0d0887\"],[0.1111111111111111,\"#46039f\"],[0.2222222222222222,\"#7201a8\"],[0.3333333333333333,\"#9c179e\"],[0.4444444444444444,\"#bd3786\"],[0.5555555555555556,\"#d8576b\"],[0.6666666666666666,\"#ed7953\"],[0.7777777777777778,\"#fb9f3a\"],[0.8888888888888888,\"#fdca26\"],[1.0,\"#f0f921\"]]}],\"surface\":[{\"type\":\"surface\",\"colorbar\":{\"outlinewidth\":0,\"ticks\":\"\"},\"colorscale\":[[0.0,\"#0d0887\"],[0.1111111111111111,\"#46039f\"],[0.2222222222222222,\"#7201a8\"],[0.3333333333333333,\"#9c179e\"],[0.4444444444444444,\"#bd3786\"],[0.5555555555555556,\"#d8576b\"],[0.6666666666666666,\"#ed7953\"],[0.7777777777777778,\"#fb9f3a\"],[0.8888888888888888,\"#fdca26\"],[1.0,\"#f0f921\"]]}],\"mesh3d\":[{\"type\":\"mesh3d\",\"colorbar\":{\"outlinewidth\":0,\"ticks\":\"\"}}],\"scatter\":[{\"fillpattern\":{\"fillmode\":\"overlay\",\"size\":10,\"solidity\":0.2},\"type\":\"scatter\"}],\"parcoords\":[{\"type\":\"parcoords\",\"line\":{\"colorbar\":{\"outlinewidth\":0,\"ticks\":\"\"}}}],\"scatterpolargl\":[{\"type\":\"scatterpolargl\",\"marker\":{\"colorbar\":{\"outlinewidth\":0,\"ticks\":\"\"}}}],\"bar\":[{\"error_x\":{\"color\":\"#2a3f5f\"},\"error_y\":{\"color\":\"#2a3f5f\"},\"marker\":{\"line\":{\"color\":\"white\",\"width\":0.5},\"pattern\":{\"fillmode\":\"overlay\",\"size\":10,\"solidity\":0.2}},\"type\":\"bar\"}],\"scattergeo\":[{\"type\":\"scattergeo\",\"marker\":{\"colorbar\":{\"outlinewidth\":0,\"ticks\":\"\"}}}],\"scatterpolar\":[{\"type\":\"scatterpolar\",\"marker\":{\"colorbar\":{\"outlinewidth\":0,\"ticks\":\"\"}}}],\"histogram\":[{\"marker\":{\"pattern\":{\"fillmode\":\"overlay\",\"size\":10,\"solidity\":0.2}},\"type\":\"histogram\"}],\"scattergl\":[{\"type\":\"scattergl\",\"marker\":{\"colorbar\":{\"outlinewidth\":0,\"ticks\":\"\"}}}],\"scatter3d\":[{\"type\":\"scatter3d\",\"line\":{\"colorbar\":{\"outlinewidth\":0,\"ticks\":\"\"}},\"marker\":{\"colorbar\":{\"outlinewidth\":0,\"ticks\":\"\"}}}],\"scattermapbox\":[{\"type\":\"scattermapbox\",\"marker\":{\"colorbar\":{\"outlinewidth\":0,\"ticks\":\"\"}}}],\"scatterternary\":[{\"type\":\"scatterternary\",\"marker\":{\"colorbar\":{\"outlinewidth\":0,\"ticks\":\"\"}}}],\"scattercarpet\":[{\"type\":\"scattercarpet\",\"marker\":{\"colorbar\":{\"outlinewidth\":0,\"ticks\":\"\"}}}],\"carpet\":[{\"aaxis\":{\"endlinecolor\":\"#2a3f5f\",\"gridcolor\":\"#C8D4E3\",\"linecolor\":\"#C8D4E3\",\"minorgridcolor\":\"#C8D4E3\",\"startlinecolor\":\"#2a3f5f\"},\"baxis\":{\"endlinecolor\":\"#2a3f5f\",\"gridcolor\":\"#C8D4E3\",\"linecolor\":\"#C8D4E3\",\"minorgridcolor\":\"#C8D4E3\",\"startlinecolor\":\"#2a3f5f\"},\"type\":\"carpet\"}],\"table\":[{\"cells\":{\"fill\":{\"color\":\"#EBF0F8\"},\"line\":{\"color\":\"white\"}},\"header\":{\"fill\":{\"color\":\"#C8D4E3\"},\"line\":{\"color\":\"white\"}},\"type\":\"table\"}],\"barpolar\":[{\"marker\":{\"line\":{\"color\":\"white\",\"width\":0.5},\"pattern\":{\"fillmode\":\"overlay\",\"size\":10,\"solidity\":0.2}},\"type\":\"barpolar\"}],\"pie\":[{\"automargin\":true,\"type\":\"pie\"}]},\"layout\":{\"autotypenumbers\":\"strict\",\"colorway\":[\"#636efa\",\"#EF553B\",\"#00cc96\",\"#ab63fa\",\"#FFA15A\",\"#19d3f3\",\"#FF6692\",\"#B6E880\",\"#FF97FF\",\"#FECB52\"],\"font\":{\"color\":\"#2a3f5f\"},\"hovermode\":\"closest\",\"hoverlabel\":{\"align\":\"left\"},\"paper_bgcolor\":\"white\",\"plot_bgcolor\":\"white\",\"polar\":{\"bgcolor\":\"white\",\"angularaxis\":{\"gridcolor\":\"#EBF0F8\",\"linecolor\":\"#EBF0F8\",\"ticks\":\"\"},\"radialaxis\":{\"gridcolor\":\"#EBF0F8\",\"linecolor\":\"#EBF0F8\",\"ticks\":\"\"}},\"ternary\":{\"bgcolor\":\"white\",\"aaxis\":{\"gridcolor\":\"#DFE8F3\",\"linecolor\":\"#A2B1C6\",\"ticks\":\"\"},\"baxis\":{\"gridcolor\":\"#DFE8F3\",\"linecolor\":\"#A2B1C6\",\"ticks\":\"\"},\"caxis\":{\"gridcolor\":\"#DFE8F3\",\"linecolor\":\"#A2B1C6\",\"ticks\":\"\"}},\"coloraxis\":{\"colorbar\":{\"outlinewidth\":0,\"ticks\":\"\"}},\"colorscale\":{\"sequential\":[[0.0,\"#0d0887\"],[0.1111111111111111,\"#46039f\"],[0.2222222222222222,\"#7201a8\"],[0.3333333333333333,\"#9c179e\"],[0.4444444444444444,\"#bd3786\"],[0.5555555555555556,\"#d8576b\"],[0.6666666666666666,\"#ed7953\"],[0.7777777777777778,\"#fb9f3a\"],[0.8888888888888888,\"#fdca26\"],[1.0,\"#f0f921\"]],\"sequentialminus\":[[0.0,\"#0d0887\"],[0.1111111111111111,\"#46039f\"],[0.2222222222222222,\"#7201a8\"],[0.3333333333333333,\"#9c179e\"],[0.4444444444444444,\"#bd3786\"],[0.5555555555555556,\"#d8576b\"],[0.6666666666666666,\"#ed7953\"],[0.7777777777777778,\"#fb9f3a\"],[0.8888888888888888,\"#fdca26\"],[1.0,\"#f0f921\"]],\"diverging\":[[0,\"#8e0152\"],[0.1,\"#c51b7d\"],[0.2,\"#de77ae\"],[0.3,\"#f1b6da\"],[0.4,\"#fde0ef\"],[0.5,\"#f7f7f7\"],[0.6,\"#e6f5d0\"],[0.7,\"#b8e186\"],[0.8,\"#7fbc41\"],[0.9,\"#4d9221\"],[1,\"#276419\"]]},\"xaxis\":{\"gridcolor\":\"#EBF0F8\",\"linecolor\":\"#EBF0F8\",\"ticks\":\"\",\"title\":{\"standoff\":15},\"zerolinecolor\":\"#EBF0F8\",\"automargin\":true,\"zerolinewidth\":2},\"yaxis\":{\"gridcolor\":\"#EBF0F8\",\"linecolor\":\"#EBF0F8\",\"ticks\":\"\",\"title\":{\"standoff\":15},\"zerolinecolor\":\"#EBF0F8\",\"automargin\":true,\"zerolinewidth\":2},\"scene\":{\"xaxis\":{\"backgroundcolor\":\"white\",\"gridcolor\":\"#DFE8F3\",\"linecolor\":\"#EBF0F8\",\"showbackground\":true,\"ticks\":\"\",\"zerolinecolor\":\"#EBF0F8\",\"gridwidth\":2},\"yaxis\":{\"backgroundcolor\":\"white\",\"gridcolor\":\"#DFE8F3\",\"linecolor\":\"#EBF0F8\",\"showbackground\":true,\"ticks\":\"\",\"zerolinecolor\":\"#EBF0F8\",\"gridwidth\":2},\"zaxis\":{\"backgroundcolor\":\"white\",\"gridcolor\":\"#DFE8F3\",\"linecolor\":\"#EBF0F8\",\"showbackground\":true,\"ticks\":\"\",\"zerolinecolor\":\"#EBF0F8\",\"gridwidth\":2}},\"shapedefaults\":{\"line\":{\"color\":\"#2a3f5f\"}},\"annotationdefaults\":{\"arrowcolor\":\"#2a3f5f\",\"arrowhead\":0,\"arrowwidth\":1},\"geo\":{\"bgcolor\":\"white\",\"landcolor\":\"white\",\"subunitcolor\":\"#C8D4E3\",\"showland\":true,\"showlakes\":true,\"lakecolor\":\"white\"},\"title\":{\"x\":0.05},\"mapbox\":{\"style\":\"light\"}}},\"xaxis\":{\"anchor\":\"y\",\"domain\":[0.0,0.45]},\"yaxis\":{\"anchor\":\"x\",\"domain\":[0.0,1.0]},\"xaxis2\":{\"anchor\":\"y2\",\"domain\":[0.55,1.0]},\"yaxis2\":{\"anchor\":\"x2\",\"domain\":[0.0,1.0]},\"title\":{\"text\":\"Basque non-lemmatized vs lemmatized (normalized)\"}},                        {\"responsive\": true}                    ).then(function(){\n                            \nvar gd = document.getElementById('e4739993-2179-48a9-a66b-6287f30f4285');\nvar x = new MutationObserver(function (mutations, observer) {{\n        var display = window.getComputedStyle(gd).display;\n        if (!display || display === 'none') {{\n            console.log([gd, 'removed!']);\n            Plotly.purge(gd);\n            observer.disconnect();\n        }}\n}});\n\n// Listen for the removal of the full notebook cells\nvar notebookContainer = gd.closest('#notebook-container');\nif (notebookContainer) {{\n    x.observe(notebookContainer, {childList: true});\n}}\n\n// Listen for the clearing of the current output cell\nvar outputEl = gd.closest('.output');\nif (outputEl) {{\n    x.observe(outputEl, {childList: true});\n}}\n\n                        })                };                });            </script>        </div>"
     },
     "metadata": {},
     "output_type": "display_data"
    },
    {
     "data": {
      "application/vnd.plotly.v1+json": {
       "data": [
        {
         "coloraxis": "coloraxis",
         "hovertemplate": "Predicted tag: %{x}<br>Gold tag: %{y}<br>Freq: %{z}<extra></extra>",
         "name": "0",
         "texttemplate": "%{z}",
         "x": [
          "PROPN",
          "SCONJ",
          "SYM",
          "NOUN",
          "PART",
          "NUM",
          "ADP",
          "CCONJ",
          "ADV",
          "ADJ",
          "INTJ",
          "DET",
          "PUNCT",
          "PRON",
          "VERB",
          "AUX"
         ],
         "xaxis": "x",
         "y": [
          "PROPN",
          "SCONJ",
          "SYM",
          "NOUN",
          "PART",
          "NUM",
          "ADP",
          "CCONJ",
          "ADV",
          "ADJ",
          "INTJ",
          "DET",
          "PUNCT",
          "PRON",
          "VERB",
          "AUX"
         ],
         "yaxis": "y",
         "z": [
          [
           48.9,
           2.0,
           0.5,
           28.6,
           0.7,
           2.7,
           4.0,
           0.5,
           1.5,
           2.2,
           0.0,
           0.5,
           1.7,
           0.7,
           3.5,
           2.0
          ],
          [
           0.0,
           85.8,
           0.0,
           2.0,
           0.0,
           0.0,
           11.2,
           0.0,
           0.0,
           0.0,
           0.0,
           0.0,
           0.0,
           0.0,
           0.0,
           1.0
          ],
          [
           0.0,
           0.0,
           100.0,
           0.0,
           0.0,
           0.0,
           0.0,
           0.0,
           0.0,
           0.0,
           0.0,
           0.0,
           0.0,
           0.0,
           0.0,
           0.0
          ],
          [
           3.0,
           0.4,
           0.0,
           90.4,
           0.1,
           0.5,
           0.1,
           0.0,
           0.8,
           1.2,
           0.0,
           0.0,
           0.1,
           0.1,
           3.1,
           0.2
          ],
          [
           0.0,
           0.0,
           0.0,
           0.0,
           84.3,
           0.0,
           15.7,
           0.0,
           0.0,
           0.0,
           0.0,
           0.0,
           0.0,
           0.0,
           0.0,
           0.0
          ],
          [
           0.5,
           0.0,
           0.0,
           0.5,
           0.0,
           99.1,
           0.0,
           0.0,
           0.0,
           0.0,
           0.0,
           0.0,
           0.0,
           0.0,
           0.0,
           0.0
          ],
          [
           0.0,
           1.4,
           0.0,
           0.1,
           0.3,
           0.0,
           93.7,
           0.0,
           0.0,
           0.0,
           0.0,
           0.0,
           0.0,
           0.0,
           0.0,
           4.5
          ],
          [
           0.0,
           0.0,
           0.0,
           4.5,
           0.0,
           0.0,
           0.0,
           90.9,
           4.5,
           0.0,
           0.0,
           0.0,
           0.0,
           0.0,
           0.0,
           0.0
          ],
          [
           0.0,
           0.0,
           0.0,
           4.1,
           0.0,
           0.0,
           0.0,
           0.0,
           88.8,
           4.6,
           0.0,
           0.0,
           0.0,
           0.0,
           2.5,
           0.0
          ],
          [
           0.0,
           0.0,
           0.0,
           4.4,
           0.0,
           0.0,
           0.0,
           0.0,
           1.1,
           88.6,
           0.0,
           0.0,
           0.0,
           0.0,
           2.2,
           3.7
          ],
          [
           0.0,
           0.0,
           0.0,
           0.0,
           0.0,
           0.0,
           0.0,
           0.0,
           0.0,
           0.0,
           0.0,
           0.0,
           0.0,
           0.0,
           0.0,
           0.0
          ],
          [
           0.0,
           0.0,
           0.0,
           0.0,
           0.0,
           0.0,
           0.0,
           0.0,
           0.0,
           0.0,
           0.0,
           100.0,
           0.0,
           0.0,
           0.0,
           0.0
          ],
          [
           0.0,
           0.0,
           0.1,
           0.0,
           0.0,
           0.0,
           0.0,
           0.0,
           0.0,
           0.0,
           0.0,
           0.0,
           99.9,
           0.0,
           0.0,
           0.0
          ],
          [
           0.0,
           0.0,
           0.0,
           0.0,
           0.0,
           0.0,
           0.0,
           1.1,
           0.0,
           0.0,
           0.0,
           0.0,
           0.0,
           98.9,
           0.0,
           0.0
          ],
          [
           0.1,
           0.1,
           0.0,
           7.8,
           0.1,
           0.2,
           0.0,
           0.1,
           0.3,
           2.0,
           0.1,
           0.1,
           0.0,
           0.1,
           87.0,
           2.4
          ],
          [
           0.0,
           1.7,
           0.0,
           0.3,
           1.5,
           0.0,
           0.7,
           0.0,
           0.1,
           1.0,
           0.0,
           0.0,
           0.0,
           0.0,
           1.4,
           93.4
          ]
         ],
         "type": "heatmap"
        },
        {
         "coloraxis": "coloraxis",
         "hovertemplate": "Predicted tag: %{x}<br>Gold tag: %{y}<br>Freq: %{z}<extra></extra>",
         "name": "0",
         "texttemplate": "%{z}",
         "x": [
          "PROPN",
          "SCONJ",
          "SYM",
          "NOUN",
          "PART",
          "NUM",
          "ADP",
          "CCONJ",
          "ADV",
          "ADJ",
          "INTJ",
          "DET",
          "PUNCT",
          "PRON",
          "VERB",
          "AUX"
         ],
         "xaxis": "x2",
         "y": [
          "PROPN",
          "SCONJ",
          "SYM",
          "NOUN",
          "PART",
          "NUM",
          "ADP",
          "CCONJ",
          "ADV",
          "ADJ",
          "INTJ",
          "DET",
          "PUNCT",
          "PRON",
          "VERB",
          "AUX"
         ],
         "yaxis": "y2",
         "z": [
          [
           51.1,
           1.5,
           0.0,
           31.1,
           0.3,
           3.3,
           3.8,
           0.5,
           1.3,
           2.5,
           0.0,
           0.0,
           1.3,
           0.5,
           1.5,
           1.3
          ],
          [
           0.0,
           86.8,
           0.0,
           2.4,
           0.0,
           0.0,
           10.8,
           0.0,
           0.0,
           0.0,
           0.0,
           0.0,
           0.0,
           0.0,
           0.0,
           0.0
          ],
          [
           0.0,
           0.0,
           100.0,
           0.0,
           0.0,
           0.0,
           0.0,
           0.0,
           0.0,
           0.0,
           0.0,
           0.0,
           0.0,
           0.0,
           0.0,
           0.0
          ],
          [
           2.9,
           0.4,
           0.0,
           92.6,
           0.1,
           0.5,
           0.0,
           0.0,
           0.8,
           0.9,
           0.0,
           0.0,
           0.1,
           0.0,
           1.8,
           0.0
          ],
          [
           0.0,
           0.0,
           0.0,
           0.0,
           88.0,
           0.0,
           12.0,
           0.0,
           0.0,
           0.0,
           0.0,
           0.0,
           0.0,
           0.0,
           0.0,
           0.0
          ],
          [
           0.4,
           0.0,
           0.0,
           0.4,
           0.0,
           98.7,
           0.0,
           0.0,
           0.0,
           0.0,
           0.0,
           0.0,
           0.0,
           0.4,
           0.0,
           0.0
          ],
          [
           0.0,
           1.0,
           0.0,
           0.0,
           0.3,
           0.0,
           98.7,
           0.0,
           0.0,
           0.0,
           0.0,
           0.0,
           0.0,
           0.0,
           0.0,
           0.0
          ],
          [
           0.0,
           0.0,
           0.0,
           2.3,
           0.0,
           0.0,
           0.0,
           93.0,
           4.7,
           0.0,
           0.0,
           0.0,
           0.0,
           0.0,
           0.0,
           0.0
          ],
          [
           0.0,
           0.0,
           0.0,
           3.1,
           0.0,
           0.0,
           0.0,
           0.0,
           92.8,
           2.1,
           0.0,
           0.0,
           0.0,
           0.0,
           2.1,
           0.0
          ],
          [
           0.0,
           0.0,
           0.0,
           4.4,
           0.0,
           0.0,
           0.0,
           0.0,
           0.3,
           91.8,
           0.0,
           0.0,
           0.0,
           0.0,
           0.3,
           3.1
          ],
          [
           0.0,
           0.0,
           0.0,
           0.0,
           0.0,
           0.0,
           0.0,
           0.0,
           0.0,
           0.0,
           0.0,
           0.0,
           0.0,
           0.0,
           0.0,
           0.0
          ],
          [
           0.0,
           0.0,
           0.0,
           0.0,
           0.0,
           0.0,
           0.0,
           0.0,
           0.0,
           0.0,
           0.0,
           100.0,
           0.0,
           0.0,
           0.0,
           0.0
          ],
          [
           0.0,
           0.0,
           0.1,
           0.0,
           0.0,
           0.0,
           0.0,
           0.0,
           0.0,
           0.0,
           0.0,
           0.0,
           99.9,
           0.0,
           0.0,
           0.0
          ],
          [
           0.0,
           0.0,
           0.0,
           0.0,
           0.0,
           0.0,
           0.0,
           1.1,
           0.0,
           0.0,
           0.0,
           0.0,
           0.0,
           98.9,
           0.0,
           0.0
          ],
          [
           0.1,
           0.0,
           0.0,
           4.9,
           0.1,
           0.0,
           0.0,
           0.1,
           0.2,
           1.4,
           0.0,
           0.0,
           0.0,
           0.0,
           91.2,
           2.2
          ],
          [
           0.0,
           0.3,
           0.0,
           0.6,
           0.0,
           0.0,
           0.0,
           0.0,
           0.1,
           0.8,
           0.0,
           0.0,
           0.0,
           0.0,
           1.3,
           97.0
          ]
         ],
         "type": "heatmap"
        }
       ],
       "layout": {
        "template": {
         "data": {
          "histogram2dcontour": [
           {
            "type": "histogram2dcontour",
            "colorbar": {
             "outlinewidth": 0,
             "ticks": ""
            },
            "colorscale": [
             [
              0.0,
              "#0d0887"
             ],
             [
              0.1111111111111111,
              "#46039f"
             ],
             [
              0.2222222222222222,
              "#7201a8"
             ],
             [
              0.3333333333333333,
              "#9c179e"
             ],
             [
              0.4444444444444444,
              "#bd3786"
             ],
             [
              0.5555555555555556,
              "#d8576b"
             ],
             [
              0.6666666666666666,
              "#ed7953"
             ],
             [
              0.7777777777777778,
              "#fb9f3a"
             ],
             [
              0.8888888888888888,
              "#fdca26"
             ],
             [
              1.0,
              "#f0f921"
             ]
            ]
           }
          ],
          "choropleth": [
           {
            "type": "choropleth",
            "colorbar": {
             "outlinewidth": 0,
             "ticks": ""
            }
           }
          ],
          "histogram2d": [
           {
            "type": "histogram2d",
            "colorbar": {
             "outlinewidth": 0,
             "ticks": ""
            },
            "colorscale": [
             [
              0.0,
              "#0d0887"
             ],
             [
              0.1111111111111111,
              "#46039f"
             ],
             [
              0.2222222222222222,
              "#7201a8"
             ],
             [
              0.3333333333333333,
              "#9c179e"
             ],
             [
              0.4444444444444444,
              "#bd3786"
             ],
             [
              0.5555555555555556,
              "#d8576b"
             ],
             [
              0.6666666666666666,
              "#ed7953"
             ],
             [
              0.7777777777777778,
              "#fb9f3a"
             ],
             [
              0.8888888888888888,
              "#fdca26"
             ],
             [
              1.0,
              "#f0f921"
             ]
            ]
           }
          ],
          "heatmap": [
           {
            "type": "heatmap",
            "colorbar": {
             "outlinewidth": 0,
             "ticks": ""
            },
            "colorscale": [
             [
              0.0,
              "#0d0887"
             ],
             [
              0.1111111111111111,
              "#46039f"
             ],
             [
              0.2222222222222222,
              "#7201a8"
             ],
             [
              0.3333333333333333,
              "#9c179e"
             ],
             [
              0.4444444444444444,
              "#bd3786"
             ],
             [
              0.5555555555555556,
              "#d8576b"
             ],
             [
              0.6666666666666666,
              "#ed7953"
             ],
             [
              0.7777777777777778,
              "#fb9f3a"
             ],
             [
              0.8888888888888888,
              "#fdca26"
             ],
             [
              1.0,
              "#f0f921"
             ]
            ]
           }
          ],
          "heatmapgl": [
           {
            "type": "heatmapgl",
            "colorbar": {
             "outlinewidth": 0,
             "ticks": ""
            },
            "colorscale": [
             [
              0.0,
              "#0d0887"
             ],
             [
              0.1111111111111111,
              "#46039f"
             ],
             [
              0.2222222222222222,
              "#7201a8"
             ],
             [
              0.3333333333333333,
              "#9c179e"
             ],
             [
              0.4444444444444444,
              "#bd3786"
             ],
             [
              0.5555555555555556,
              "#d8576b"
             ],
             [
              0.6666666666666666,
              "#ed7953"
             ],
             [
              0.7777777777777778,
              "#fb9f3a"
             ],
             [
              0.8888888888888888,
              "#fdca26"
             ],
             [
              1.0,
              "#f0f921"
             ]
            ]
           }
          ],
          "contourcarpet": [
           {
            "type": "contourcarpet",
            "colorbar": {
             "outlinewidth": 0,
             "ticks": ""
            }
           }
          ],
          "contour": [
           {
            "type": "contour",
            "colorbar": {
             "outlinewidth": 0,
             "ticks": ""
            },
            "colorscale": [
             [
              0.0,
              "#0d0887"
             ],
             [
              0.1111111111111111,
              "#46039f"
             ],
             [
              0.2222222222222222,
              "#7201a8"
             ],
             [
              0.3333333333333333,
              "#9c179e"
             ],
             [
              0.4444444444444444,
              "#bd3786"
             ],
             [
              0.5555555555555556,
              "#d8576b"
             ],
             [
              0.6666666666666666,
              "#ed7953"
             ],
             [
              0.7777777777777778,
              "#fb9f3a"
             ],
             [
              0.8888888888888888,
              "#fdca26"
             ],
             [
              1.0,
              "#f0f921"
             ]
            ]
           }
          ],
          "surface": [
           {
            "type": "surface",
            "colorbar": {
             "outlinewidth": 0,
             "ticks": ""
            },
            "colorscale": [
             [
              0.0,
              "#0d0887"
             ],
             [
              0.1111111111111111,
              "#46039f"
             ],
             [
              0.2222222222222222,
              "#7201a8"
             ],
             [
              0.3333333333333333,
              "#9c179e"
             ],
             [
              0.4444444444444444,
              "#bd3786"
             ],
             [
              0.5555555555555556,
              "#d8576b"
             ],
             [
              0.6666666666666666,
              "#ed7953"
             ],
             [
              0.7777777777777778,
              "#fb9f3a"
             ],
             [
              0.8888888888888888,
              "#fdca26"
             ],
             [
              1.0,
              "#f0f921"
             ]
            ]
           }
          ],
          "mesh3d": [
           {
            "type": "mesh3d",
            "colorbar": {
             "outlinewidth": 0,
             "ticks": ""
            }
           }
          ],
          "scatter": [
           {
            "fillpattern": {
             "fillmode": "overlay",
             "size": 10,
             "solidity": 0.2
            },
            "type": "scatter"
           }
          ],
          "parcoords": [
           {
            "type": "parcoords",
            "line": {
             "colorbar": {
              "outlinewidth": 0,
              "ticks": ""
             }
            }
           }
          ],
          "scatterpolargl": [
           {
            "type": "scatterpolargl",
            "marker": {
             "colorbar": {
              "outlinewidth": 0,
              "ticks": ""
             }
            }
           }
          ],
          "bar": [
           {
            "error_x": {
             "color": "#2a3f5f"
            },
            "error_y": {
             "color": "#2a3f5f"
            },
            "marker": {
             "line": {
              "color": "white",
              "width": 0.5
             },
             "pattern": {
              "fillmode": "overlay",
              "size": 10,
              "solidity": 0.2
             }
            },
            "type": "bar"
           }
          ],
          "scattergeo": [
           {
            "type": "scattergeo",
            "marker": {
             "colorbar": {
              "outlinewidth": 0,
              "ticks": ""
             }
            }
           }
          ],
          "scatterpolar": [
           {
            "type": "scatterpolar",
            "marker": {
             "colorbar": {
              "outlinewidth": 0,
              "ticks": ""
             }
            }
           }
          ],
          "histogram": [
           {
            "marker": {
             "pattern": {
              "fillmode": "overlay",
              "size": 10,
              "solidity": 0.2
             }
            },
            "type": "histogram"
           }
          ],
          "scattergl": [
           {
            "type": "scattergl",
            "marker": {
             "colorbar": {
              "outlinewidth": 0,
              "ticks": ""
             }
            }
           }
          ],
          "scatter3d": [
           {
            "type": "scatter3d",
            "line": {
             "colorbar": {
              "outlinewidth": 0,
              "ticks": ""
             }
            },
            "marker": {
             "colorbar": {
              "outlinewidth": 0,
              "ticks": ""
             }
            }
           }
          ],
          "scattermapbox": [
           {
            "type": "scattermapbox",
            "marker": {
             "colorbar": {
              "outlinewidth": 0,
              "ticks": ""
             }
            }
           }
          ],
          "scatterternary": [
           {
            "type": "scatterternary",
            "marker": {
             "colorbar": {
              "outlinewidth": 0,
              "ticks": ""
             }
            }
           }
          ],
          "scattercarpet": [
           {
            "type": "scattercarpet",
            "marker": {
             "colorbar": {
              "outlinewidth": 0,
              "ticks": ""
             }
            }
           }
          ],
          "carpet": [
           {
            "aaxis": {
             "endlinecolor": "#2a3f5f",
             "gridcolor": "#C8D4E3",
             "linecolor": "#C8D4E3",
             "minorgridcolor": "#C8D4E3",
             "startlinecolor": "#2a3f5f"
            },
            "baxis": {
             "endlinecolor": "#2a3f5f",
             "gridcolor": "#C8D4E3",
             "linecolor": "#C8D4E3",
             "minorgridcolor": "#C8D4E3",
             "startlinecolor": "#2a3f5f"
            },
            "type": "carpet"
           }
          ],
          "table": [
           {
            "cells": {
             "fill": {
              "color": "#EBF0F8"
             },
             "line": {
              "color": "white"
             }
            },
            "header": {
             "fill": {
              "color": "#C8D4E3"
             },
             "line": {
              "color": "white"
             }
            },
            "type": "table"
           }
          ],
          "barpolar": [
           {
            "marker": {
             "line": {
              "color": "white",
              "width": 0.5
             },
             "pattern": {
              "fillmode": "overlay",
              "size": 10,
              "solidity": 0.2
             }
            },
            "type": "barpolar"
           }
          ],
          "pie": [
           {
            "automargin": true,
            "type": "pie"
           }
          ]
         },
         "layout": {
          "autotypenumbers": "strict",
          "colorway": [
           "#636efa",
           "#EF553B",
           "#00cc96",
           "#ab63fa",
           "#FFA15A",
           "#19d3f3",
           "#FF6692",
           "#B6E880",
           "#FF97FF",
           "#FECB52"
          ],
          "font": {
           "color": "#2a3f5f"
          },
          "hovermode": "closest",
          "hoverlabel": {
           "align": "left"
          },
          "paper_bgcolor": "white",
          "plot_bgcolor": "white",
          "polar": {
           "bgcolor": "white",
           "angularaxis": {
            "gridcolor": "#EBF0F8",
            "linecolor": "#EBF0F8",
            "ticks": ""
           },
           "radialaxis": {
            "gridcolor": "#EBF0F8",
            "linecolor": "#EBF0F8",
            "ticks": ""
           }
          },
          "ternary": {
           "bgcolor": "white",
           "aaxis": {
            "gridcolor": "#DFE8F3",
            "linecolor": "#A2B1C6",
            "ticks": ""
           },
           "baxis": {
            "gridcolor": "#DFE8F3",
            "linecolor": "#A2B1C6",
            "ticks": ""
           },
           "caxis": {
            "gridcolor": "#DFE8F3",
            "linecolor": "#A2B1C6",
            "ticks": ""
           }
          },
          "coloraxis": {
           "colorbar": {
            "outlinewidth": 0,
            "ticks": ""
           }
          },
          "colorscale": {
           "sequential": [
            [
             0.0,
             "#0d0887"
            ],
            [
             0.1111111111111111,
             "#46039f"
            ],
            [
             0.2222222222222222,
             "#7201a8"
            ],
            [
             0.3333333333333333,
             "#9c179e"
            ],
            [
             0.4444444444444444,
             "#bd3786"
            ],
            [
             0.5555555555555556,
             "#d8576b"
            ],
            [
             0.6666666666666666,
             "#ed7953"
            ],
            [
             0.7777777777777778,
             "#fb9f3a"
            ],
            [
             0.8888888888888888,
             "#fdca26"
            ],
            [
             1.0,
             "#f0f921"
            ]
           ],
           "sequentialminus": [
            [
             0.0,
             "#0d0887"
            ],
            [
             0.1111111111111111,
             "#46039f"
            ],
            [
             0.2222222222222222,
             "#7201a8"
            ],
            [
             0.3333333333333333,
             "#9c179e"
            ],
            [
             0.4444444444444444,
             "#bd3786"
            ],
            [
             0.5555555555555556,
             "#d8576b"
            ],
            [
             0.6666666666666666,
             "#ed7953"
            ],
            [
             0.7777777777777778,
             "#fb9f3a"
            ],
            [
             0.8888888888888888,
             "#fdca26"
            ],
            [
             1.0,
             "#f0f921"
            ]
           ],
           "diverging": [
            [
             0,
             "#8e0152"
            ],
            [
             0.1,
             "#c51b7d"
            ],
            [
             0.2,
             "#de77ae"
            ],
            [
             0.3,
             "#f1b6da"
            ],
            [
             0.4,
             "#fde0ef"
            ],
            [
             0.5,
             "#f7f7f7"
            ],
            [
             0.6,
             "#e6f5d0"
            ],
            [
             0.7,
             "#b8e186"
            ],
            [
             0.8,
             "#7fbc41"
            ],
            [
             0.9,
             "#4d9221"
            ],
            [
             1,
             "#276419"
            ]
           ]
          },
          "xaxis": {
           "gridcolor": "#EBF0F8",
           "linecolor": "#EBF0F8",
           "ticks": "",
           "title": {
            "standoff": 15
           },
           "zerolinecolor": "#EBF0F8",
           "automargin": true,
           "zerolinewidth": 2
          },
          "yaxis": {
           "gridcolor": "#EBF0F8",
           "linecolor": "#EBF0F8",
           "ticks": "",
           "title": {
            "standoff": 15
           },
           "zerolinecolor": "#EBF0F8",
           "automargin": true,
           "zerolinewidth": 2
          },
          "scene": {
           "xaxis": {
            "backgroundcolor": "white",
            "gridcolor": "#DFE8F3",
            "linecolor": "#EBF0F8",
            "showbackground": true,
            "ticks": "",
            "zerolinecolor": "#EBF0F8",
            "gridwidth": 2
           },
           "yaxis": {
            "backgroundcolor": "white",
            "gridcolor": "#DFE8F3",
            "linecolor": "#EBF0F8",
            "showbackground": true,
            "ticks": "",
            "zerolinecolor": "#EBF0F8",
            "gridwidth": 2
           },
           "zaxis": {
            "backgroundcolor": "white",
            "gridcolor": "#DFE8F3",
            "linecolor": "#EBF0F8",
            "showbackground": true,
            "ticks": "",
            "zerolinecolor": "#EBF0F8",
            "gridwidth": 2
           }
          },
          "shapedefaults": {
           "line": {
            "color": "#2a3f5f"
           }
          },
          "annotationdefaults": {
           "arrowcolor": "#2a3f5f",
           "arrowhead": 0,
           "arrowwidth": 1
          },
          "geo": {
           "bgcolor": "white",
           "landcolor": "white",
           "subunitcolor": "#C8D4E3",
           "showland": true,
           "showlakes": true,
           "lakecolor": "white"
          },
          "title": {
           "x": 0.05
          },
          "mapbox": {
           "style": "light"
          }
         }
        },
        "xaxis": {
         "anchor": "y",
         "domain": [
          0.0,
          0.45
         ]
        },
        "yaxis": {
         "anchor": "x",
         "domain": [
          0.0,
          1.0
         ]
        },
        "xaxis2": {
         "anchor": "y2",
         "domain": [
          0.55,
          1.0
         ]
        },
        "yaxis2": {
         "anchor": "x2",
         "domain": [
          0.0,
          1.0
         ]
        },
        "title": {
         "text": "Japanese non-lemmatized vs lemmatized (normalized)"
        }
       },
       "config": {
        "plotlyServerURL": "https://plot.ly"
       }
      },
      "text/html": "<div>                            <div id=\"49e616e7-c7c8-431b-9b1f-d247682f2d25\" class=\"plotly-graph-div\" style=\"height:525px; width:100%;\"></div>            <script type=\"text/javascript\">                require([\"plotly\"], function(Plotly) {                    window.PLOTLYENV=window.PLOTLYENV || {};                                    if (document.getElementById(\"49e616e7-c7c8-431b-9b1f-d247682f2d25\")) {                    Plotly.newPlot(                        \"49e616e7-c7c8-431b-9b1f-d247682f2d25\",                        [{\"coloraxis\":\"coloraxis\",\"hovertemplate\":\"Predicted tag: %{x}\\u003cbr\\u003eGold tag: %{y}\\u003cbr\\u003eFreq: %{z}\\u003cextra\\u003e\\u003c\\u002fextra\\u003e\",\"name\":\"0\",\"texttemplate\":\"%{z}\",\"x\":[\"PROPN\",\"SCONJ\",\"SYM\",\"NOUN\",\"PART\",\"NUM\",\"ADP\",\"CCONJ\",\"ADV\",\"ADJ\",\"INTJ\",\"DET\",\"PUNCT\",\"PRON\",\"VERB\",\"AUX\"],\"xaxis\":\"x\",\"y\":[\"PROPN\",\"SCONJ\",\"SYM\",\"NOUN\",\"PART\",\"NUM\",\"ADP\",\"CCONJ\",\"ADV\",\"ADJ\",\"INTJ\",\"DET\",\"PUNCT\",\"PRON\",\"VERB\",\"AUX\"],\"yaxis\":\"y\",\"z\":[[48.9,2.0,0.5,28.6,0.7,2.7,4.0,0.5,1.5,2.2,0.0,0.5,1.7,0.7,3.5,2.0],[0.0,85.8,0.0,2.0,0.0,0.0,11.2,0.0,0.0,0.0,0.0,0.0,0.0,0.0,0.0,1.0],[0.0,0.0,100.0,0.0,0.0,0.0,0.0,0.0,0.0,0.0,0.0,0.0,0.0,0.0,0.0,0.0],[3.0,0.4,0.0,90.4,0.1,0.5,0.1,0.0,0.8,1.2,0.0,0.0,0.1,0.1,3.1,0.2],[0.0,0.0,0.0,0.0,84.3,0.0,15.7,0.0,0.0,0.0,0.0,0.0,0.0,0.0,0.0,0.0],[0.5,0.0,0.0,0.5,0.0,99.1,0.0,0.0,0.0,0.0,0.0,0.0,0.0,0.0,0.0,0.0],[0.0,1.4,0.0,0.1,0.3,0.0,93.7,0.0,0.0,0.0,0.0,0.0,0.0,0.0,0.0,4.5],[0.0,0.0,0.0,4.5,0.0,0.0,0.0,90.9,4.5,0.0,0.0,0.0,0.0,0.0,0.0,0.0],[0.0,0.0,0.0,4.1,0.0,0.0,0.0,0.0,88.8,4.6,0.0,0.0,0.0,0.0,2.5,0.0],[0.0,0.0,0.0,4.4,0.0,0.0,0.0,0.0,1.1,88.6,0.0,0.0,0.0,0.0,2.2,3.7],[0.0,0.0,0.0,0.0,0.0,0.0,0.0,0.0,0.0,0.0,0.0,0.0,0.0,0.0,0.0,0.0],[0.0,0.0,0.0,0.0,0.0,0.0,0.0,0.0,0.0,0.0,0.0,100.0,0.0,0.0,0.0,0.0],[0.0,0.0,0.1,0.0,0.0,0.0,0.0,0.0,0.0,0.0,0.0,0.0,99.9,0.0,0.0,0.0],[0.0,0.0,0.0,0.0,0.0,0.0,0.0,1.1,0.0,0.0,0.0,0.0,0.0,98.9,0.0,0.0],[0.1,0.1,0.0,7.8,0.1,0.2,0.0,0.1,0.3,2.0,0.1,0.1,0.0,0.1,87.0,2.4],[0.0,1.7,0.0,0.3,1.5,0.0,0.7,0.0,0.1,1.0,0.0,0.0,0.0,0.0,1.4,93.4]],\"type\":\"heatmap\"},{\"coloraxis\":\"coloraxis\",\"hovertemplate\":\"Predicted tag: %{x}\\u003cbr\\u003eGold tag: %{y}\\u003cbr\\u003eFreq: %{z}\\u003cextra\\u003e\\u003c\\u002fextra\\u003e\",\"name\":\"0\",\"texttemplate\":\"%{z}\",\"x\":[\"PROPN\",\"SCONJ\",\"SYM\",\"NOUN\",\"PART\",\"NUM\",\"ADP\",\"CCONJ\",\"ADV\",\"ADJ\",\"INTJ\",\"DET\",\"PUNCT\",\"PRON\",\"VERB\",\"AUX\"],\"xaxis\":\"x2\",\"y\":[\"PROPN\",\"SCONJ\",\"SYM\",\"NOUN\",\"PART\",\"NUM\",\"ADP\",\"CCONJ\",\"ADV\",\"ADJ\",\"INTJ\",\"DET\",\"PUNCT\",\"PRON\",\"VERB\",\"AUX\"],\"yaxis\":\"y2\",\"z\":[[51.1,1.5,0.0,31.1,0.3,3.3,3.8,0.5,1.3,2.5,0.0,0.0,1.3,0.5,1.5,1.3],[0.0,86.8,0.0,2.4,0.0,0.0,10.8,0.0,0.0,0.0,0.0,0.0,0.0,0.0,0.0,0.0],[0.0,0.0,100.0,0.0,0.0,0.0,0.0,0.0,0.0,0.0,0.0,0.0,0.0,0.0,0.0,0.0],[2.9,0.4,0.0,92.6,0.1,0.5,0.0,0.0,0.8,0.9,0.0,0.0,0.1,0.0,1.8,0.0],[0.0,0.0,0.0,0.0,88.0,0.0,12.0,0.0,0.0,0.0,0.0,0.0,0.0,0.0,0.0,0.0],[0.4,0.0,0.0,0.4,0.0,98.7,0.0,0.0,0.0,0.0,0.0,0.0,0.0,0.4,0.0,0.0],[0.0,1.0,0.0,0.0,0.3,0.0,98.7,0.0,0.0,0.0,0.0,0.0,0.0,0.0,0.0,0.0],[0.0,0.0,0.0,2.3,0.0,0.0,0.0,93.0,4.7,0.0,0.0,0.0,0.0,0.0,0.0,0.0],[0.0,0.0,0.0,3.1,0.0,0.0,0.0,0.0,92.8,2.1,0.0,0.0,0.0,0.0,2.1,0.0],[0.0,0.0,0.0,4.4,0.0,0.0,0.0,0.0,0.3,91.8,0.0,0.0,0.0,0.0,0.3,3.1],[0.0,0.0,0.0,0.0,0.0,0.0,0.0,0.0,0.0,0.0,0.0,0.0,0.0,0.0,0.0,0.0],[0.0,0.0,0.0,0.0,0.0,0.0,0.0,0.0,0.0,0.0,0.0,100.0,0.0,0.0,0.0,0.0],[0.0,0.0,0.1,0.0,0.0,0.0,0.0,0.0,0.0,0.0,0.0,0.0,99.9,0.0,0.0,0.0],[0.0,0.0,0.0,0.0,0.0,0.0,0.0,1.1,0.0,0.0,0.0,0.0,0.0,98.9,0.0,0.0],[0.1,0.0,0.0,4.9,0.1,0.0,0.0,0.1,0.2,1.4,0.0,0.0,0.0,0.0,91.2,2.2],[0.0,0.3,0.0,0.6,0.0,0.0,0.0,0.0,0.1,0.8,0.0,0.0,0.0,0.0,1.3,97.0]],\"type\":\"heatmap\"}],                        {\"template\":{\"data\":{\"histogram2dcontour\":[{\"type\":\"histogram2dcontour\",\"colorbar\":{\"outlinewidth\":0,\"ticks\":\"\"},\"colorscale\":[[0.0,\"#0d0887\"],[0.1111111111111111,\"#46039f\"],[0.2222222222222222,\"#7201a8\"],[0.3333333333333333,\"#9c179e\"],[0.4444444444444444,\"#bd3786\"],[0.5555555555555556,\"#d8576b\"],[0.6666666666666666,\"#ed7953\"],[0.7777777777777778,\"#fb9f3a\"],[0.8888888888888888,\"#fdca26\"],[1.0,\"#f0f921\"]]}],\"choropleth\":[{\"type\":\"choropleth\",\"colorbar\":{\"outlinewidth\":0,\"ticks\":\"\"}}],\"histogram2d\":[{\"type\":\"histogram2d\",\"colorbar\":{\"outlinewidth\":0,\"ticks\":\"\"},\"colorscale\":[[0.0,\"#0d0887\"],[0.1111111111111111,\"#46039f\"],[0.2222222222222222,\"#7201a8\"],[0.3333333333333333,\"#9c179e\"],[0.4444444444444444,\"#bd3786\"],[0.5555555555555556,\"#d8576b\"],[0.6666666666666666,\"#ed7953\"],[0.7777777777777778,\"#fb9f3a\"],[0.8888888888888888,\"#fdca26\"],[1.0,\"#f0f921\"]]}],\"heatmap\":[{\"type\":\"heatmap\",\"colorbar\":{\"outlinewidth\":0,\"ticks\":\"\"},\"colorscale\":[[0.0,\"#0d0887\"],[0.1111111111111111,\"#46039f\"],[0.2222222222222222,\"#7201a8\"],[0.3333333333333333,\"#9c179e\"],[0.4444444444444444,\"#bd3786\"],[0.5555555555555556,\"#d8576b\"],[0.6666666666666666,\"#ed7953\"],[0.7777777777777778,\"#fb9f3a\"],[0.8888888888888888,\"#fdca26\"],[1.0,\"#f0f921\"]]}],\"heatmapgl\":[{\"type\":\"heatmapgl\",\"colorbar\":{\"outlinewidth\":0,\"ticks\":\"\"},\"colorscale\":[[0.0,\"#0d0887\"],[0.1111111111111111,\"#46039f\"],[0.2222222222222222,\"#7201a8\"],[0.3333333333333333,\"#9c179e\"],[0.4444444444444444,\"#bd3786\"],[0.5555555555555556,\"#d8576b\"],[0.6666666666666666,\"#ed7953\"],[0.7777777777777778,\"#fb9f3a\"],[0.8888888888888888,\"#fdca26\"],[1.0,\"#f0f921\"]]}],\"contourcarpet\":[{\"type\":\"contourcarpet\",\"colorbar\":{\"outlinewidth\":0,\"ticks\":\"\"}}],\"contour\":[{\"type\":\"contour\",\"colorbar\":{\"outlinewidth\":0,\"ticks\":\"\"},\"colorscale\":[[0.0,\"#0d0887\"],[0.1111111111111111,\"#46039f\"],[0.2222222222222222,\"#7201a8\"],[0.3333333333333333,\"#9c179e\"],[0.4444444444444444,\"#bd3786\"],[0.5555555555555556,\"#d8576b\"],[0.6666666666666666,\"#ed7953\"],[0.7777777777777778,\"#fb9f3a\"],[0.8888888888888888,\"#fdca26\"],[1.0,\"#f0f921\"]]}],\"surface\":[{\"type\":\"surface\",\"colorbar\":{\"outlinewidth\":0,\"ticks\":\"\"},\"colorscale\":[[0.0,\"#0d0887\"],[0.1111111111111111,\"#46039f\"],[0.2222222222222222,\"#7201a8\"],[0.3333333333333333,\"#9c179e\"],[0.4444444444444444,\"#bd3786\"],[0.5555555555555556,\"#d8576b\"],[0.6666666666666666,\"#ed7953\"],[0.7777777777777778,\"#fb9f3a\"],[0.8888888888888888,\"#fdca26\"],[1.0,\"#f0f921\"]]}],\"mesh3d\":[{\"type\":\"mesh3d\",\"colorbar\":{\"outlinewidth\":0,\"ticks\":\"\"}}],\"scatter\":[{\"fillpattern\":{\"fillmode\":\"overlay\",\"size\":10,\"solidity\":0.2},\"type\":\"scatter\"}],\"parcoords\":[{\"type\":\"parcoords\",\"line\":{\"colorbar\":{\"outlinewidth\":0,\"ticks\":\"\"}}}],\"scatterpolargl\":[{\"type\":\"scatterpolargl\",\"marker\":{\"colorbar\":{\"outlinewidth\":0,\"ticks\":\"\"}}}],\"bar\":[{\"error_x\":{\"color\":\"#2a3f5f\"},\"error_y\":{\"color\":\"#2a3f5f\"},\"marker\":{\"line\":{\"color\":\"white\",\"width\":0.5},\"pattern\":{\"fillmode\":\"overlay\",\"size\":10,\"solidity\":0.2}},\"type\":\"bar\"}],\"scattergeo\":[{\"type\":\"scattergeo\",\"marker\":{\"colorbar\":{\"outlinewidth\":0,\"ticks\":\"\"}}}],\"scatterpolar\":[{\"type\":\"scatterpolar\",\"marker\":{\"colorbar\":{\"outlinewidth\":0,\"ticks\":\"\"}}}],\"histogram\":[{\"marker\":{\"pattern\":{\"fillmode\":\"overlay\",\"size\":10,\"solidity\":0.2}},\"type\":\"histogram\"}],\"scattergl\":[{\"type\":\"scattergl\",\"marker\":{\"colorbar\":{\"outlinewidth\":0,\"ticks\":\"\"}}}],\"scatter3d\":[{\"type\":\"scatter3d\",\"line\":{\"colorbar\":{\"outlinewidth\":0,\"ticks\":\"\"}},\"marker\":{\"colorbar\":{\"outlinewidth\":0,\"ticks\":\"\"}}}],\"scattermapbox\":[{\"type\":\"scattermapbox\",\"marker\":{\"colorbar\":{\"outlinewidth\":0,\"ticks\":\"\"}}}],\"scatterternary\":[{\"type\":\"scatterternary\",\"marker\":{\"colorbar\":{\"outlinewidth\":0,\"ticks\":\"\"}}}],\"scattercarpet\":[{\"type\":\"scattercarpet\",\"marker\":{\"colorbar\":{\"outlinewidth\":0,\"ticks\":\"\"}}}],\"carpet\":[{\"aaxis\":{\"endlinecolor\":\"#2a3f5f\",\"gridcolor\":\"#C8D4E3\",\"linecolor\":\"#C8D4E3\",\"minorgridcolor\":\"#C8D4E3\",\"startlinecolor\":\"#2a3f5f\"},\"baxis\":{\"endlinecolor\":\"#2a3f5f\",\"gridcolor\":\"#C8D4E3\",\"linecolor\":\"#C8D4E3\",\"minorgridcolor\":\"#C8D4E3\",\"startlinecolor\":\"#2a3f5f\"},\"type\":\"carpet\"}],\"table\":[{\"cells\":{\"fill\":{\"color\":\"#EBF0F8\"},\"line\":{\"color\":\"white\"}},\"header\":{\"fill\":{\"color\":\"#C8D4E3\"},\"line\":{\"color\":\"white\"}},\"type\":\"table\"}],\"barpolar\":[{\"marker\":{\"line\":{\"color\":\"white\",\"width\":0.5},\"pattern\":{\"fillmode\":\"overlay\",\"size\":10,\"solidity\":0.2}},\"type\":\"barpolar\"}],\"pie\":[{\"automargin\":true,\"type\":\"pie\"}]},\"layout\":{\"autotypenumbers\":\"strict\",\"colorway\":[\"#636efa\",\"#EF553B\",\"#00cc96\",\"#ab63fa\",\"#FFA15A\",\"#19d3f3\",\"#FF6692\",\"#B6E880\",\"#FF97FF\",\"#FECB52\"],\"font\":{\"color\":\"#2a3f5f\"},\"hovermode\":\"closest\",\"hoverlabel\":{\"align\":\"left\"},\"paper_bgcolor\":\"white\",\"plot_bgcolor\":\"white\",\"polar\":{\"bgcolor\":\"white\",\"angularaxis\":{\"gridcolor\":\"#EBF0F8\",\"linecolor\":\"#EBF0F8\",\"ticks\":\"\"},\"radialaxis\":{\"gridcolor\":\"#EBF0F8\",\"linecolor\":\"#EBF0F8\",\"ticks\":\"\"}},\"ternary\":{\"bgcolor\":\"white\",\"aaxis\":{\"gridcolor\":\"#DFE8F3\",\"linecolor\":\"#A2B1C6\",\"ticks\":\"\"},\"baxis\":{\"gridcolor\":\"#DFE8F3\",\"linecolor\":\"#A2B1C6\",\"ticks\":\"\"},\"caxis\":{\"gridcolor\":\"#DFE8F3\",\"linecolor\":\"#A2B1C6\",\"ticks\":\"\"}},\"coloraxis\":{\"colorbar\":{\"outlinewidth\":0,\"ticks\":\"\"}},\"colorscale\":{\"sequential\":[[0.0,\"#0d0887\"],[0.1111111111111111,\"#46039f\"],[0.2222222222222222,\"#7201a8\"],[0.3333333333333333,\"#9c179e\"],[0.4444444444444444,\"#bd3786\"],[0.5555555555555556,\"#d8576b\"],[0.6666666666666666,\"#ed7953\"],[0.7777777777777778,\"#fb9f3a\"],[0.8888888888888888,\"#fdca26\"],[1.0,\"#f0f921\"]],\"sequentialminus\":[[0.0,\"#0d0887\"],[0.1111111111111111,\"#46039f\"],[0.2222222222222222,\"#7201a8\"],[0.3333333333333333,\"#9c179e\"],[0.4444444444444444,\"#bd3786\"],[0.5555555555555556,\"#d8576b\"],[0.6666666666666666,\"#ed7953\"],[0.7777777777777778,\"#fb9f3a\"],[0.8888888888888888,\"#fdca26\"],[1.0,\"#f0f921\"]],\"diverging\":[[0,\"#8e0152\"],[0.1,\"#c51b7d\"],[0.2,\"#de77ae\"],[0.3,\"#f1b6da\"],[0.4,\"#fde0ef\"],[0.5,\"#f7f7f7\"],[0.6,\"#e6f5d0\"],[0.7,\"#b8e186\"],[0.8,\"#7fbc41\"],[0.9,\"#4d9221\"],[1,\"#276419\"]]},\"xaxis\":{\"gridcolor\":\"#EBF0F8\",\"linecolor\":\"#EBF0F8\",\"ticks\":\"\",\"title\":{\"standoff\":15},\"zerolinecolor\":\"#EBF0F8\",\"automargin\":true,\"zerolinewidth\":2},\"yaxis\":{\"gridcolor\":\"#EBF0F8\",\"linecolor\":\"#EBF0F8\",\"ticks\":\"\",\"title\":{\"standoff\":15},\"zerolinecolor\":\"#EBF0F8\",\"automargin\":true,\"zerolinewidth\":2},\"scene\":{\"xaxis\":{\"backgroundcolor\":\"white\",\"gridcolor\":\"#DFE8F3\",\"linecolor\":\"#EBF0F8\",\"showbackground\":true,\"ticks\":\"\",\"zerolinecolor\":\"#EBF0F8\",\"gridwidth\":2},\"yaxis\":{\"backgroundcolor\":\"white\",\"gridcolor\":\"#DFE8F3\",\"linecolor\":\"#EBF0F8\",\"showbackground\":true,\"ticks\":\"\",\"zerolinecolor\":\"#EBF0F8\",\"gridwidth\":2},\"zaxis\":{\"backgroundcolor\":\"white\",\"gridcolor\":\"#DFE8F3\",\"linecolor\":\"#EBF0F8\",\"showbackground\":true,\"ticks\":\"\",\"zerolinecolor\":\"#EBF0F8\",\"gridwidth\":2}},\"shapedefaults\":{\"line\":{\"color\":\"#2a3f5f\"}},\"annotationdefaults\":{\"arrowcolor\":\"#2a3f5f\",\"arrowhead\":0,\"arrowwidth\":1},\"geo\":{\"bgcolor\":\"white\",\"landcolor\":\"white\",\"subunitcolor\":\"#C8D4E3\",\"showland\":true,\"showlakes\":true,\"lakecolor\":\"white\"},\"title\":{\"x\":0.05},\"mapbox\":{\"style\":\"light\"}}},\"xaxis\":{\"anchor\":\"y\",\"domain\":[0.0,0.45]},\"yaxis\":{\"anchor\":\"x\",\"domain\":[0.0,1.0]},\"xaxis2\":{\"anchor\":\"y2\",\"domain\":[0.55,1.0]},\"yaxis2\":{\"anchor\":\"x2\",\"domain\":[0.0,1.0]},\"title\":{\"text\":\"Japanese non-lemmatized vs lemmatized (normalized)\"}},                        {\"responsive\": true}                    ).then(function(){\n                            \nvar gd = document.getElementById('49e616e7-c7c8-431b-9b1f-d247682f2d25');\nvar x = new MutationObserver(function (mutations, observer) {{\n        var display = window.getComputedStyle(gd).display;\n        if (!display || display === 'none') {{\n            console.log([gd, 'removed!']);\n            Plotly.purge(gd);\n            observer.disconnect();\n        }}\n}});\n\n// Listen for the removal of the full notebook cells\nvar notebookContainer = gd.closest('#notebook-container');\nif (notebookContainer) {{\n    x.observe(notebookContainer, {childList: true});\n}}\n\n// Listen for the clearing of the current output cell\nvar outputEl = gd.closest('.output');\nif (outputEl) {{\n    x.observe(outputEl, {childList: true});\n}}\n\n                        })                };                });            </script>        </div>"
     },
     "metadata": {},
     "output_type": "display_data"
    }
   ],
   "source": [
    "def get_confusion_matrix_plots(dataset, predictions, dataset_name, lemmatized):\n",
    "    _pos_tags = set([tag for sentence in dataset.test.data for _, tag in sentence])\n",
    "    _confusion_matrix = pd.DataFrame(\n",
    "        data=0,\n",
    "        index=list(_pos_tags),\n",
    "        columns=list(_pos_tags),\n",
    "    )\n",
    "    _gold_tags = [tag for sentence in dataset.test.data for _, tag in sentence]\n",
    "    _pred_tags = [tag for sentence in predictions[0] for _, tag in sentence]\n",
    "    for _gold, _pred in zip(_gold_tags, _pred_tags):\n",
    "        _confusion_matrix[_gold][_pred] += 1\n",
    "    # Normalize\n",
    "    _confusion_matrix_norm = _confusion_matrix.div(_confusion_matrix.sum(axis=1), axis=0).fillna(0).mul(100).round(1)\n",
    "\n",
    "    # Generate the confusion matrix plots\n",
    "    confusion_matrix_heatmap = px.imshow(\n",
    "        img=_confusion_matrix,\n",
    "        text_auto=True,\n",
    "        aspect=\"auto\",\n",
    "        labels={\n",
    "            'x': \"Predicted tag\",\n",
    "            'y': \"Gold tag\",\n",
    "            'color': \"Freq\"\n",
    "        },\n",
    "        title=f\"Confusion matrix for {dataset_name} {'lemmatized' if lemmatized else 'non-lemmatized'} dataset\"\n",
    "    )\n",
    "    confusion_matrix_heatmap.update_xaxes(tickangle=45)\n",
    "\n",
    "    confusion_matrix_heatmap_norm = px.imshow(\n",
    "        img=_confusion_matrix_norm,\n",
    "        text_auto=True,\n",
    "        aspect=\"auto\",\n",
    "        labels={\n",
    "            'x': \"Predicted tag\",\n",
    "            'y': \"Gold tag\",\n",
    "            'color': \"Freq\"\n",
    "        },\n",
    "        title=f\"Confusion matrix for {dataset_name} {'lemmatized' if lemmatized else 'non-lemmatized'} dataset (normalized)\"\n",
    "    )\n",
    "    confusion_matrix_heatmap_norm.update_xaxes(tickangle=45)\n",
    "\n",
    "    return confusion_matrix_heatmap, confusion_matrix_heatmap_norm\n",
    "\n",
    "\n",
    "# Generate the confusion matrix plots\n",
    "# Basque\n",
    "basque_confusion_matrix_heatmap, basque_confusion_matrix_norm = get_confusion_matrix_plots(basque_dataset, basque_predictions, 'Basque', False)\n",
    "basque_lemmatized_confusion_matrix_heatmap, basque_lemmatized_confusion_matrix_norm = get_confusion_matrix_plots(basque_lemmatized_dataset, basque_lemmatized_predictions, 'Basque', True)\n",
    "# Japanese\n",
    "japanese_confusion_matrix_heatmap, japanese_confusion_matrix_norm = get_confusion_matrix_plots(japanese_dataset, japanese_predictions, 'Japanese', False)\n",
    "japanese_lemmatized_confusion_matrix_heatmap, japanese_lemmatized_confusion_matrix_norm = get_confusion_matrix_plots(japanese_lemmatized_dataset, japanese_lemmatized_predictions, 'Japanese', True)\n",
    "\n",
    "# Print confusion matrix in grid subplots\n",
    "fig = make_subplots(1, 2, horizontal_spacing=0.1)\n",
    "fig.add_trace(basque_confusion_matrix_heatmap.data[0], row=1, col=1)\n",
    "fig.add_trace(basque_lemmatized_confusion_matrix_heatmap.data[0], row=1, col=2)\n",
    "fig.update_layout(title_text=\"Basque non-lemmatized vs lemmatized\")\n",
    "fig.show()\n",
    "\n",
    "fig = make_subplots(1, 2, horizontal_spacing=0.1)\n",
    "fig.add_trace(japanese_confusion_matrix_heatmap.data[0], row=1, col=1)\n",
    "fig.add_trace(japanese_lemmatized_confusion_matrix_heatmap.data[0], row=1, col=2)\n",
    "fig.update_layout(title_text=\"Japanese non-lemmatized vs lemmatized\")\n",
    "fig.show()\n",
    "\n",
    "# Print normalized confusion matrix in grid subplots\n",
    "fig = make_subplots(1, 2, horizontal_spacing=0.1)\n",
    "fig.add_trace(basque_confusion_matrix_norm.data[0], row=1, col=1)\n",
    "fig.add_trace(basque_lemmatized_confusion_matrix_norm.data[0], row=1, col=2)\n",
    "fig.update_layout(title_text=\"Basque non-lemmatized vs lemmatized (normalized)\")\n",
    "fig.show()\n",
    "\n",
    "fig = make_subplots(1, 2, horizontal_spacing=0.1)\n",
    "fig.add_trace(japanese_confusion_matrix_norm.data[0], row=1, col=1)\n",
    "fig.add_trace(japanese_lemmatized_confusion_matrix_norm.data[0], row=1, col=2)\n",
    "fig.update_layout(title_text=\"Japanese non-lemmatized vs lemmatized (normalized)\")\n",
    "fig.show()"
   ],
   "metadata": {
    "collapsed": false,
    "ExecuteTime": {
     "end_time": "2023-11-05T21:52:33.824942500Z",
     "start_time": "2023-11-05T21:52:26.498809100Z"
    }
   },
   "id": "98a68fd4abaa77c"
  },
  {
   "cell_type": "markdown",
   "source": [
    "#### Bigram Error Rates"
   ],
   "metadata": {
    "collapsed": false
   },
   "id": "6188856432c3e4b3"
  },
  {
   "cell_type": "code",
   "execution_count": 48,
   "outputs": [],
   "source": [
    "def get_bigram_error_df(dataset, predictions):\n",
    "    _pos_tags = set([tag for sentence in dataset.test.data for _, tag in sentence])\n",
    "    _failed_tag_bigrams_df = pd.DataFrame(\n",
    "        data=0,\n",
    "        index=['<BEGIN>'] + list(_pos_tags),\n",
    "        columns=list(_pos_tags) + ['<END>'],\n",
    "    )\n",
    "    _tag_bigrams_apparitions_df = pd.DataFrame(\n",
    "        data=0,\n",
    "        index=['<BEGIN>'] + list(_pos_tags),\n",
    "        columns=list(_pos_tags) + ['<END>'],\n",
    "    )\n",
    "    _gold_bigrams = [(tag_1, tag_2) for sentence in dataset.test.data for (_, tag_1), (_, tag_2) in pairwise([(None, '<BEGIN>')] + sentence + [(None, '<END>')])]\n",
    "    _pred_bigrams = [(tag_1, tag_2) for sentence in predictions[0] for (_, tag_1), (_, tag_2) in pairwise([(None, '<BEGIN>')] + sentence + [(None, '<END>')])]\n",
    "    for _gold, _pred in zip(_gold_bigrams, _pred_bigrams):\n",
    "        _tag_bigrams_apparitions_df[_gold[1]][_gold[0]] += 1\n",
    "        if _gold != _pred:\n",
    "            _failed_tag_bigrams_df[_gold[1]][_gold[0]] += 1\n",
    "    # Normalize\n",
    "    _failed_tag_bigrams_df_norm = _failed_tag_bigrams_df.div(_tag_bigrams_apparitions_df).fillna(0)\n",
    "\n",
    "    return _failed_tag_bigrams_df, _failed_tag_bigrams_df_norm.mul(100).round(1)\n",
    "\n",
    "\n",
    "def generate_error_matrix_plot(bigram_error_df, bigram_error_df_norm, language, lemmatized):\n",
    "    bigram_errors_heatmap = px.imshow(\n",
    "        img=bigram_error_df,\n",
    "        text_auto=True,\n",
    "        aspect=\"auto\",\n",
    "        labels={\n",
    "            'x': \"Second tag\",\n",
    "            'y': \"First tag\",\n",
    "            'color': \"Bigram Freq\"\n",
    "        },\n",
    "        title=f\"Number of failed tag bigrams in {language} {'lemmatized' if lemmatized else 'non-lemmatized'} dataset\",\n",
    "        color_continuous_scale='blues'\n",
    "    )\n",
    "\n",
    "    bigram_errors_norm_heatmap = px.imshow(\n",
    "        img=bigram_error_df_norm,\n",
    "        text_auto=True,\n",
    "        aspect=\"auto\",\n",
    "        labels={\n",
    "            'x': \"Second tag\",\n",
    "            'y': \"First tag\",\n",
    "            'color': \"Bigram Freq\"\n",
    "        },\n",
    "        title=\"Number of failed tag bigrams in {language} {'lemmatized' if lemmatized else 'non-lemmatized'} dataset normalized by tag bigram apparitions\",\n",
    "        color_continuous_scale='blues'\n",
    "    )\n",
    "\n",
    "    return bigram_errors_heatmap, bigram_errors_norm_heatmap"
   ],
   "metadata": {
    "collapsed": false,
    "ExecuteTime": {
     "end_time": "2023-11-05T21:52:41.087316700Z",
     "start_time": "2023-11-05T21:52:41.031091300Z"
    }
   },
   "id": "36c864251e304b0c"
  },
  {
   "cell_type": "code",
   "execution_count": null,
   "outputs": [],
   "source": [
    "# Generate dataframes\n",
    "# Basque\n",
    "basque_failed_tag_bigrams_df, basque_failed_tag_bigrams_df_norm = get_bigram_error_df(basque_dataset, basque_predictions)\n",
    "basque_lemmatized_failed_tag_bigrams_df, basque_lemmatized_failed_tag_bigrams_df_norm = get_bigram_error_df(basque_dataset, basque_lemmatized_predictions)\n",
    "# Japanese\n",
    "japanese_failed_tag_bigrams_df, japanese_failed_tag_bigrams_df_norm = get_bigram_error_df(japanese_dataset, japanese_predictions)\n",
    "japanese_lemmatized_failed_tag_bigrams_df, japanese_lemmatized_failed_tag_bigrams_df_norm = get_bigram_error_df(japanese_dataset, japanese_lemmatized_predictions)\n",
    "\n",
    "# Generate the error matrix plots\n",
    "basque_failed_tag_bigrams_heatmap, basque_failed_tag_bigrams_norm_heatmap = generate_error_matrix_plot(basque_failed_tag_bigrams_df, basque_failed_tag_bigrams_df_norm, 'Basque', False)\n",
    "basque_lemmatized_failed_tag_bigrams_heatmap, basque_lemmatized_failed_tag_bigrams_norm_heatmap = generate_error_matrix_plot(basque_lemmatized_failed_tag_bigrams_df, basque_lemmatized_failed_tag_bigrams_df_norm, 'Basque', True)\n",
    "japanese_failed_tag_bigrams_heatmap, japanese_failed_tag_bigrams_norm_heatmap = generate_error_matrix_plot(japanese_failed_tag_bigrams_df, japanese_failed_tag_bigrams_df_norm, 'Japanese', False)\n",
    "japanese_lemmatized_failed_tag_bigrams_heatmap, japanese_lemmatized_failed_tag_bigrams_norm_heatmap = generate_error_matrix_plot(japanese_lemmatized_failed_tag_bigrams_df, japanese_lemmatized_failed_tag_bigrams_df_norm, 'Japanese', True)\n",
    "\n",
    "# Plot in grid subplots\n",
    "fig = make_subplots(1, 2, horizontal_spacing=0.1)\n",
    "fig.add_trace(basque_failed_tag_bigrams_heatmap.data[0], row=1, col=1)\n",
    "fig.add_trace(basque_lemmatized_failed_tag_bigrams_heatmap.data[0], row=1, col=2)\n",
    "fig.update_layout(title_text=\"Basque non-lemmatized vs lemmatized (not normalized)\", coloraxis=dict(colorscale='blues'))\n",
    "fig.show()\n",
    "\n",
    "fig = make_subplots(1, 2, horizontal_spacing=0.1)\n",
    "fig.add_trace(basque_failed_tag_bigrams_norm_heatmap.data[0], row=1, col=1)\n",
    "fig.add_trace(basque_lemmatized_failed_tag_bigrams_norm_heatmap.data[0], row=1, col=2)\n",
    "fig.update_layout(title_text=\"Basque non-lemmatized vs lemmatized (normalized)\", coloraxis=dict(colorscale='blues'))\n",
    "fig.show()\n",
    "\n",
    "fig = make_subplots(1, 2, horizontal_spacing=0.1)\n",
    "fig.add_trace(japanese_failed_tag_bigrams_heatmap.data[0], row=1, col=1)\n",
    "fig.add_trace(japanese_lemmatized_failed_tag_bigrams_heatmap.data[0], row=1, col=2)\n",
    "fig.update_layout(title_text=\"Japanese non-lemmatized vs lemmatized (not normalized)\", coloraxis=dict(colorscale='blues'))\n",
    "fig.show()\n",
    "\n",
    "fig = make_subplots(1, 2, horizontal_spacing=0.1)\n",
    "fig.add_trace(japanese_failed_tag_bigrams_norm_heatmap.data[0], row=1, col=1)\n",
    "fig.add_trace(japanese_lemmatized_failed_tag_bigrams_norm_heatmap.data[0], row=1, col=2)\n",
    "fig.update_layout(title_text=\"Japanese non-lemmatized vs lemmatized (normalized)\", coloraxis=dict(colorscale='blues'))\n"
   ],
   "metadata": {
    "collapsed": false,
    "ExecuteTime": {
     "end_time": "2023-11-05T21:36:16.161754400Z",
     "start_time": "2023-11-05T21:36:16.159752900Z"
    }
   },
   "id": "c3d4ea7e11d9fd09"
  },
  {
   "cell_type": "markdown",
   "source": [
    "#### Error analysis"
   ],
   "metadata": {
    "collapsed": false
   },
   "id": "2b168398a5221d37"
  },
  {
   "cell_type": "markdown",
   "source": [
    "The following tables show how many times a word has been confused, together with its correct label and the label it has been mistaken with. Looking at the dataset statistics, it can be seen that all the errors origin in annotations differences. Due to different context for the same word in each sentence, the same word has been annotated with different tags sometimes, leading the model to commit a mistake with."
   ],
   "metadata": {
    "collapsed": false
   },
   "id": "b279dca907438ed3"
  },
  {
   "cell_type": "code",
   "execution_count": null,
   "outputs": [],
   "source": [
    "def get_word_error_df(_dataset, predictions):\n",
    "    errors_word = list()\n",
    "\n",
    "    for gold_sentence, pred_sentence in zip(_dataset.test.data, predictions[0]):\n",
    "        sentence = ' '.join([word[0] for word in gold_sentence])\n",
    "        errors = 0\n",
    "        for gold, pred in zip(gold_sentence, pred_sentence):\n",
    "            if not gold[1] == pred[1]:\n",
    "                errors_word.append((gold[0], gold[1], pred[1], sentence, 1))\n",
    "\n",
    "    # Group and add counts\n",
    "    errors_df = pd.DataFrame(errors_word, columns=['Word', 'Gold POS tag', 'Predicted POS tag', 'Sentences', 'Count']).groupby(['Word', 'Gold POS tag', 'Predicted POS tag']).agg({'Count': 'count', 'Sentences': lambda x: list(x), }).reset_index()\n",
    "    # Order by count\n",
    "    errors_df = errors_df.sort_values(by='Count', ascending=False)\n",
    "    return errors_df\n",
    "\n",
    "\n",
    "def plot_error_wordcloud(error_word_df, title, min_freq=1, min_words=5, jp_font=False):\n",
    "    # Generate the figure\n",
    "    plt.rcParams['figure.figsize'] = [20, 10]\n",
    "\n",
    "    # Generate the wordclouds\n",
    "    x, y = np.ogrid[:300, :300]\n",
    "    mask = (x - 150) ** 2 + (y - 150) ** 2 > 130 ** 2\n",
    "    mask = 255 * mask.astype(int)\n",
    "\n",
    "    font = None if not jp_font else './fonts/NotoSansJP-Medium.ttf'\n",
    "    wordcloud = WordCloud(font_path=font, background_color=\"white\", mask=mask, contour_width=0.1,\n",
    "                          contour_color=\"black\", max_font_size=150, random_state=42\n",
    "                          , colormap='RdYlGn')\n",
    "\n",
    "    gold_tags = error_word_df['Gold POS tag'].unique()\n",
    "    pred_tags = error_word_df['Predicted POS tag'].unique()\n",
    "\n",
    "    word_freqs = dict()\n",
    "\n",
    "    # Filter low frequency words\n",
    "    error_word_df_ = error_word_df[error_word_df['Count'] > min_freq]\n",
    "\n",
    "    # Add the wordclouds to the figure\n",
    "    for i, gold_tag in enumerate(gold_tags):\n",
    "        for j, pred_tag in enumerate(pred_tags):\n",
    "            # Generate the dictionary of frequencies for each pair\n",
    "            _words = error_word_df_[(error_word_df_['Gold POS tag'] == gold_tag) & (error_word_df_['Predicted POS tag'] == pred_tag)]['Word'].tolist()\n",
    "            _frequencies = error_word_df_[(error_word_df_['Gold POS tag'] == gold_tag) & (error_word_df_['Predicted POS tag'] == pred_tag)]['Count'].tolist()\n",
    "            frequencies = {word: frequency for word, frequency in zip(_words, _frequencies)}\n",
    "\n",
    "            if len(frequencies) < min_words:\n",
    "                continue\n",
    "            else:\n",
    "                word_freqs[(gold_tag, pred_tag)] = frequencies\n",
    "\n",
    "    for i, ((gold_tag, pred_tag), frequencies) in enumerate(word_freqs.items(), start=1):\n",
    "        # Generate the wordcloud\n",
    "        wordcloud.generate_from_frequencies(frequencies)\n",
    "\n",
    "        # Add the wordcloud to the figure\n",
    "        ax = plt.subplot(math.ceil(len(word_freqs) / 4), 4, i)\n",
    "        ax.imshow(wordcloud, interpolation=\"bilinear\")\n",
    "        ax.set_title(f'{gold_tag} -> {pred_tag}')\n",
    "        ax.axis(\"off\")\n",
    "\n",
    "    # Set the title \n",
    "    plt.suptitle(title, fontsize=20)\n",
    "\n",
    "    plt.show()"
   ],
   "metadata": {
    "collapsed": false,
    "ExecuteTime": {
     "end_time": "2023-11-05T21:36:16.163257900Z",
     "start_time": "2023-11-05T21:36:16.161754400Z"
    }
   },
   "id": "3fef0abe3d436ee4"
  },
  {
   "cell_type": "code",
   "execution_count": null,
   "outputs": [],
   "source": [
    "# Basque\n",
    "basque_word_errors_df = get_word_error_df(basque_dataset, basque_predictions)\n",
    "basque_lemmatized_word_errors_df = get_word_error_df(basque_lemmatized_dataset, basque_lemmatized_predictions)\n",
    "# Japanese\n",
    "japanese_word_errors_df = get_word_error_df(japanese_dataset, japanese_predictions)\n",
    "japanese_lemmatized_word_errors_df = get_word_error_df(japanese_lemmatized_dataset, japanese_lemmatized_predictions)"
   ],
   "metadata": {
    "collapsed": false,
    "ExecuteTime": {
     "end_time": "2023-11-05T21:36:16.175774700Z",
     "start_time": "2023-11-05T21:36:16.165262100Z"
    }
   },
   "id": "4b722db7dba8ce6e"
  },
  {
   "cell_type": "code",
   "execution_count": null,
   "outputs": [],
   "source": [
    "# Print the word error dataframes\n",
    "print('Basque non-lemmatized')\n",
    "display(basque_word_errors_df)\n",
    "print('Basque lemmatized')\n",
    "display(basque_lemmatized_word_errors_df)\n",
    "print('Japanese non-lemmatized')\n",
    "display(japanese_word_errors_df)\n",
    "print('Japanese lemmatized')\n",
    "display(japanese_lemmatized_word_errors_df)"
   ],
   "metadata": {
    "collapsed": false,
    "ExecuteTime": {
     "start_time": "2023-11-05T21:36:16.167257700Z"
    }
   },
   "id": "42cb32a4e0919325"
  },
  {
   "cell_type": "code",
   "execution_count": null,
   "outputs": [],
   "source": [
    "# Generate the wordclouds\n",
    "plot_error_wordcloud(basque_word_errors_df, 'Basque non-lemmatized')\n",
    "plot_error_wordcloud(basque_lemmatized_word_errors_df, 'Basque lemmatized')\n",
    "plot_error_wordcloud(japanese_word_errors_df, 'Japanese non-lemmatized', jp_font=True)\n",
    "# plot_error_wordcloud(japanese_lemmatized_word_errors_df, 'Japanese lemmatized', jp_font=True)"
   ],
   "metadata": {
    "collapsed": false,
    "ExecuteTime": {
     "start_time": "2023-11-05T21:36:16.169258600Z"
    }
   },
   "id": "c3606f110c07bd87"
  }
 ],
 "metadata": {
  "kernelspec": {
   "display_name": "Python 3",
   "language": "python",
   "name": "python3"
  },
  "language_info": {
   "codemirror_mode": {
    "name": "ipython",
    "version": 2
   },
   "file_extension": ".py",
   "mimetype": "text/x-python",
   "name": "python",
   "nbconvert_exporter": "python",
   "pygments_lexer": "ipython2",
   "version": "2.7.6"
  }
 },
 "nbformat": 4,
 "nbformat_minor": 5
}
