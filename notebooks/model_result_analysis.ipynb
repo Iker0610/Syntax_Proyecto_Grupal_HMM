{
 "cells": [
  {
   "cell_type": "markdown",
   "source": [
    "# Results analysis"
   ],
   "metadata": {
    "collapsed": false
   },
   "id": "48b2b7b01b817950"
  },
  {
   "cell_type": "markdown",
   "source": [
    "In this notebook we will detail the experiments done on the chosen datasets (Basque and Japanese, both taken from Universal Dependencies) and the obtained results."
   ],
   "metadata": {
    "collapsed": false
   },
   "id": "135ac50c883e721a"
  },
  {
   "cell_type": "markdown",
   "source": [
    "## Imports"
   ],
   "metadata": {
    "collapsed": false
   },
   "id": "a2f7ba31a28cd773"
  },
  {
   "cell_type": "code",
   "execution_count": 4,
   "outputs": [],
   "source": [
    "from dataset_loader import Dataset\n",
    "from pathlib import Path\n",
    "from hmm import HiddenMarkovModel\n",
    "import pandas as pd\n",
    "import numpy as np\n",
    "import plotly.express as px\n",
    "import plotly.graph_objects as go"
   ],
   "metadata": {
    "collapsed": false,
    "ExecuteTime": {
     "end_time": "2023-11-04T18:04:31.931210800Z",
     "start_time": "2023-11-04T18:04:31.395387100Z"
    }
   },
   "id": "e93aac2705a195a4"
  },
  {
   "cell_type": "markdown",
   "source": [
    "## Load the datasets"
   ],
   "metadata": {
    "collapsed": false
   },
   "id": "6ebd87358a5aa808"
  },
  {
   "cell_type": "code",
   "execution_count": 5,
   "outputs": [],
   "source": [
    "# Basque\n",
    "basque_dataset = Dataset(\n",
    "    dataset_name='UD_Basque-BDT',\n",
    "    train_path=Path('../data/UD_Basque-BDT/eu_bdt-ud-train.conllu'),\n",
    "    dev_path=Path('../data/UD_Basque-BDT/eu_bdt-ud-dev.conllu'),\n",
    "    test_path=Path('../data/UD_Basque-BDT/eu_bdt-ud-test.conllu'),\n",
    ")\n",
    "\n",
    "basque_lemmatized_dataset = Dataset(\n",
    "    dataset_name='UD_Basque-BDT',\n",
    "    train_path=Path('../data/UD_Basque-BDT/eu_bdt-ud-train.conllu'),\n",
    "    dev_path=Path('../data/UD_Basque-BDT/eu_bdt-ud-dev.conllu'),\n",
    "    test_path=Path('../data/UD_Basque-BDT/eu_bdt-ud-test.conllu'),\n",
    "    lemmatized=True\n",
    ")\n",
    "\n",
    "#-------------------------\n",
    "# Japanese\n",
    "\n",
    "japanese_dataset = Dataset(\n",
    "    dataset_name='UD_Japanese-GSD',\n",
    "    train_path=Path('../data/UD_Japanese-GSD/ja_gsd-ud-train.conllu'),\n",
    "    dev_path=Path('../data/UD_Japanese-GSD/ja_gsd-ud-dev.conllu'),\n",
    "    test_path=Path('../data/UD_Japanese-GSD/ja_gsd-ud-test.conllu'),\n",
    ")\n",
    "\n",
    "japanese_lemmatized_dataset = Dataset(\n",
    "    dataset_name='UD_Japanese-GSD',\n",
    "    train_path=Path('../data/UD_Japanese-GSD/ja_gsd-ud-train.conllu'),\n",
    "    dev_path=Path('../data/UD_Japanese-GSD/ja_gsd-ud-dev.conllu'),\n",
    "    test_path=Path('../data/UD_Japanese-GSD/ja_gsd-ud-test.conllu'),\n",
    "    lemmatized=True\n",
    ")"
   ],
   "metadata": {
    "collapsed": false,
    "pycharm": {
     "name": "#%%\n"
    },
    "ExecuteTime": {
     "end_time": "2023-11-04T18:04:34.429825200Z",
     "start_time": "2023-11-04T18:04:31.935738700Z"
    }
   },
   "id": "d66ce475dbce6de5"
  },
  {
   "cell_type": "markdown",
   "source": [
    "## Hidden Markov Model Training"
   ],
   "metadata": {
    "collapsed": false
   },
   "id": "a7e44f384a61b5b1"
  },
  {
   "cell_type": "code",
   "execution_count": 6,
   "outputs": [],
   "source": [
    "# Basque models\n",
    "basque_hmm = HiddenMarkovModel(basque_dataset)\n",
    "basque_lemmatized_hmm = HiddenMarkovModel(basque_lemmatized_dataset)\n",
    "\n",
    "# Japanese models\n",
    "japanese_hmm = HiddenMarkovModel(japanese_dataset)\n",
    "japanese_lemmatized_hmm = HiddenMarkovModel(japanese_lemmatized_dataset)"
   ],
   "metadata": {
    "collapsed": false,
    "pycharm": {
     "name": "#%%\n"
    },
    "ExecuteTime": {
     "end_time": "2023-11-04T18:04:35.274483Z",
     "start_time": "2023-11-04T18:04:34.430826700Z"
    }
   },
   "id": "7dd00ed60fece0cd"
  },
  {
   "cell_type": "markdown",
   "source": [
    "## Basque performance evaluation"
   ],
   "metadata": {
    "collapsed": false
   },
   "id": "f188133b735d819b"
  },
  {
   "cell_type": "markdown",
   "source": [
    "### Basque predictions"
   ],
   "metadata": {
    "collapsed": false
   },
   "id": "9f462e121808b0a4"
  },
  {
   "cell_type": "code",
   "execution_count": null,
   "outputs": [],
   "source": [
    "basque_predictions = basque_hmm.batch_predict(basque_dataset.test_data)\n",
    "basque_lemmatized_predictions = basque_lemmatized_hmm.batch_predict(basque_lemmatized_dataset.test_data)"
   ],
   "metadata": {
    "collapsed": false
   },
   "id": "e7b856fad9bbdd75"
  }
 ],
 "metadata": {
  "kernelspec": {
   "display_name": "Python 3",
   "language": "python",
   "name": "python3"
  },
  "language_info": {
   "codemirror_mode": {
    "name": "ipython",
    "version": 2
   },
   "file_extension": ".py",
   "mimetype": "text/x-python",
   "name": "python",
   "nbconvert_exporter": "python",
   "pygments_lexer": "ipython2",
   "version": "2.7.6"
  }
 },
 "nbformat": 4,
 "nbformat_minor": 5
}
