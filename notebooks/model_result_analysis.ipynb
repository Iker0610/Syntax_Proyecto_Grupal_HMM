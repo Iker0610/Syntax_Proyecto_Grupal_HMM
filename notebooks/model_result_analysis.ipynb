{
 "cells": [
  {
   "cell_type": "markdown",
   "source": [
    "# Results analysis"
   ],
   "metadata": {
    "collapsed": false
   }
  },
  {
   "cell_type": "markdown",
   "source": [
    "In this notebook we will detail the experiments done on the chosen datasets (Basque and Japanesse, both taken from Universal Dependencies) and the obtained results."
   ],
   "metadata": {
    "collapsed": false
   },
   "id": "135ac50c883e721a"
  },
  {
   "cell_type": "code",
   "execution_count": 7,
   "outputs": [],
   "source": [
    "from src.dataset_loader import Dataset\n",
    "from pathlib import Path\n",
    "\n",
    "basque_dataset = Dataset(\n",
    "    dataset_name='UD_Basque-BDT',\n",
    "    train_path=Path('../data/UD_Basque-BDT/eu_bdt-ud-train.conllu'),\n",
    "    dev_path=Path('../data/UD_Basque-BDT/eu_bdt-ud-dev.conllu'),\n",
    "    test_path=Path('../data/UD_Basque-BDT/eu_bdt-ud-test.conllu'),\n",
    ")\n",
    "\n",
    "japanese_dataset = Dataset(\n",
    "    dataset_name='UD_Japanese-GSD',\n",
    "    train_path=Path('../data/UD_Japanese-GSD/ja_gsd-ud-train.conllu'),\n",
    "    dev_path=Path('../data/UD_Japanese-GSD/ja_gsd-ud-dev.conllu'),\n",
    "    test_path=Path('../data/UD_Japanese-GSD/ja_gsd-ud-test.conllu'),\n",
    ")"
   ],
   "metadata": {
    "collapsed": false,
    "ExecuteTime": {
     "end_time": "2023-11-04T11:45:21.528132918Z",
     "start_time": "2023-11-04T11:45:20.759290838Z"
    },
    "pycharm": {
     "name": "#%%\n"
    }
   },
   "id": "d66ce475dbce6de5"
  },
  {
   "cell_type": "code",
   "execution_count": null,
   "outputs": [],
   "source": [
    "from src.hmm import HiddenMarkovModel\n",
    "\n",
    "\n",
    "def get_model_predictions(d):\n",
    "    hmm = HiddenMarkovModel(d)\n",
    "    gold = d.train.data[0]\n",
    "    pred = hmm.predict([token for token, _ in d.train.data[0]])\n",
    "\n",
    "    y_gold = [tag for word, tag in gold]\n",
    "    y_pred = [tag for word, tag in pred[0]]\n",
    "\n",
    "    print('Pred:', pred)\n",
    "    print('Gold:', gold)"
   ],
   "metadata": {
    "collapsed": false,
    "pycharm": {
     "name": "#%%\n"
    }
   }
  },
  {
   "cell_type": "code",
   "execution_count": null,
   "outputs": [],
   "source": [
    "get_model_predictions(basque_dataset.train.data[0])"
   ],
   "metadata": {
    "collapsed": false,
    "pycharm": {
     "name": "#%%\n"
    }
   }
  }
 ],
 "metadata": {
  "kernelspec": {
   "display_name": "Python 3",
   "language": "python",
   "name": "python3"
  },
  "language_info": {
   "codemirror_mode": {
    "name": "ipython",
    "version": 2
   },
   "file_extension": ".py",
   "mimetype": "text/x-python",
   "name": "python",
   "nbconvert_exporter": "python",
   "pygments_lexer": "ipython2",
   "version": "2.7.6"
  }
 },
 "nbformat": 4,
 "nbformat_minor": 5
}